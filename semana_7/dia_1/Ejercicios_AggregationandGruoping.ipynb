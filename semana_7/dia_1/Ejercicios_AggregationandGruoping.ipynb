{
 "cells": [
  {
   "cell_type": "markdown",
   "metadata": {
    "id": "xWftnso4tYtx"
   },
   "source": [
    "# Ejercicios de agrupaciones"
   ]
  },
  {
   "cell_type": "markdown",
   "metadata": {
    "id": "l4_NmuUFtYty"
   },
   "source": [
    "### 1. Importa las librerías necesarias"
   ]
  },
  {
   "cell_type": "code",
   "execution_count": 2,
   "metadata": {
    "id": "fBgIHbSntYtz"
   },
   "outputs": [],
   "source": [
    "import pandas as pd\n",
    "import numpy as np"
   ]
  },
  {
   "cell_type": "markdown",
   "metadata": {
    "id": "nT4697iptYt2"
   },
   "source": [
    "### 2. Descágate el fichero que vamos a utilizar de [aquí](https://raw.githubusercontent.com/justmarkham/DAT8/master/data/drinks.csv). "
   ]
  },
  {
   "cell_type": "markdown",
   "metadata": {
    "id": "IY0TROf-tYt3"
   },
   "source": [
    "### 3. Léetelo en una variable llamada drinks"
   ]
  },
  {
   "cell_type": "code",
   "execution_count": 100,
   "metadata": {
    "id": "Juao7GPRtYt3"
   },
   "outputs": [],
   "source": [
    "#### url = 'https://raw.githubusercontent.com/justmarkham/DAT8/master/data/drinks.csv'"
   ]
  },
  {
   "cell_type": "markdown",
   "metadata": {
    "id": "TH7eW8zVtYt6"
   },
   "source": [
    "### 4. ¿Qué continente bebe más cerveza?"
   ]
  },
  {
   "cell_type": "code",
   "execution_count": null,
   "metadata": {
    "id": "TbgGWPFntYt6",
    "outputId": "1b2476ea-325e-4fcf-d7a1-b4c9c39814c5"
   },
   "outputs": [],
   "source": []
  },
  {
   "cell_type": "markdown",
   "metadata": {
    "id": "5dL2sfqRtYt9"
   },
   "source": [
    "### 5. Para cada continente, imprime los estadísticos del consumo de vino"
   ]
  },
  {
   "cell_type": "code",
   "execution_count": null,
   "metadata": {
    "id": "tsHENYn_tYt-",
    "outputId": "c2ff90df-5a03-4cbe-84b2-e1b6961abace"
   },
   "outputs": [],
   "source": []
  },
  {
   "cell_type": "markdown",
   "metadata": {
    "id": "Zv4R2n8ntYuA"
   },
   "source": [
    "### 6. Imprime la media del consumo de alcohol por continente para cada columna"
   ]
  },
  {
   "cell_type": "code",
   "execution_count": null,
   "metadata": {},
   "outputs": [],
   "source": []
  },
  {
   "cell_type": "markdown",
   "metadata": {
    "id": "a6PszssatYuD"
   },
   "source": [
    "### 7. Imprime la mediana del consumo de alcohol por continente para cada columna"
   ]
  },
  {
   "cell_type": "code",
   "execution_count": null,
   "metadata": {
    "id": "zugmOBiFtYuE",
    "outputId": "626c2e9a-0374-4233-f7e9-269bddc5b4b6"
   },
   "outputs": [],
   "source": []
  },
  {
   "cell_type": "markdown",
   "metadata": {
    "id": "Bf2b9Gc3tYuG"
   },
   "source": [
    "### 8. Muestra la media, mínimo y máximo del consumo de alcohol"
   ]
  },
  {
   "cell_type": "code",
   "execution_count": null,
   "metadata": {},
   "outputs": [],
   "source": []
  },
  {
   "cell_type": "markdown",
   "metadata": {
    "id": "U5TTp6TZtYuK"
   },
   "source": [
    "# Ejericio 2 - Ocupación"
   ]
  },
  {
   "cell_type": "markdown",
   "metadata": {
    "id": "55a2tWg5tYuL"
   },
   "source": [
    "### 1. Importamos las librerías"
   ]
  },
  {
   "cell_type": "code",
   "execution_count": null,
   "metadata": {
    "collapsed": false,
    "id": "etvlpdqytYuL",
    "jupyter": {
     "outputs_hidden": false
    }
   },
   "outputs": [],
   "source": []
  },
  {
   "cell_type": "markdown",
   "metadata": {
    "id": "VKgol8ZNtYuN"
   },
   "source": [
    "### 2. Descárgate este fichero [link](https://raw.githubusercontent.com/justmarkham/DAT8/master/data/u.user). "
   ]
  },
  {
   "cell_type": "markdown",
   "metadata": {
    "id": "-lLNADFhtYuO"
   },
   "source": [
    "### 3. Léetelo a una variable llamada users."
   ]
  },
  {
   "cell_type": "code",
   "execution_count": null,
   "metadata": {
    "collapsed": false,
    "id": "0g5aYIWOtYuO",
    "jupyter": {
     "outputs_hidden": false
    }
   },
   "outputs": [],
   "source": []
  },
  {
   "cell_type": "markdown",
   "metadata": {
    "id": "jzmFWY5vtYuQ"
   },
   "source": [
    "### 4. ¿Cuál es la media de edad por ocupación?"
   ]
  },
  {
   "cell_type": "code",
   "execution_count": null,
   "metadata": {
    "collapsed": false,
    "id": "91Y7BOvTtYuQ",
    "jupyter": {
     "outputs_hidden": false
    }
   },
   "outputs": [],
   "source": []
  },
  {
   "cell_type": "markdown",
   "metadata": {
    "id": "HhGDYMKAtYuS"
   },
   "source": [
    "### 5. Descubre el ratio de hombres por ocupación y ordénalos de mayor a menor"
   ]
  },
  {
   "cell_type": "code",
   "execution_count": null,
   "metadata": {
    "collapsed": false,
    "id": "4Fje6q9OtYuT",
    "jupyter": {
     "outputs_hidden": false
    }
   },
   "outputs": [],
   "source": []
  },
  {
   "cell_type": "markdown",
   "metadata": {
    "id": "ryl_-a9ZtYuV"
   },
   "source": [
    "### 6. Para cada ocupación, saca las edades mínima y máxima"
   ]
  },
  {
   "cell_type": "code",
   "execution_count": null,
   "metadata": {
    "collapsed": false,
    "id": "OA_OV-HutYuV",
    "jupyter": {
     "outputs_hidden": false
    }
   },
   "outputs": [],
   "source": []
  },
  {
   "cell_type": "markdown",
   "metadata": {
    "id": "mwbUkYGttYuY"
   },
   "source": [
    "### 7. Para cada combinación de ocupacion y genero, calcula la media de edad:"
   ]
  },
  {
   "cell_type": "code",
   "execution_count": null,
   "metadata": {
    "collapsed": false,
    "id": "7Nxg_ibotYuY",
    "jupyter": {
     "outputs_hidden": false
    }
   },
   "outputs": [],
   "source": []
  },
  {
   "cell_type": "markdown",
   "metadata": {
    "id": "Rj3wtswmtYua"
   },
   "source": [
    "### 8. Para cada ocupación, porcentaje de hombres y mujeres"
   ]
  },
  {
   "cell_type": "code",
   "execution_count": null,
   "metadata": {
    "collapsed": true,
    "id": "uHkQkUIatYua",
    "jupyter": {
     "outputs_hidden": true
    }
   },
   "outputs": [],
   "source": []
  },
  {
   "cell_type": "markdown",
   "metadata": {
    "id": "lJeERw3qtYud"
   },
   "source": [
    "# Regiment"
   ]
  },
  {
   "cell_type": "markdown",
   "metadata": {
    "id": "MDwMJr6LtYud"
   },
   "source": [
    "### 1. Importa las librerías"
   ]
  },
  {
   "cell_type": "code",
   "execution_count": null,
   "metadata": {
    "collapsed": false,
    "id": "5JeTwRRrtYue",
    "jupyter": {
     "outputs_hidden": false
    }
   },
   "outputs": [],
   "source": []
  },
  {
   "cell_type": "markdown",
   "metadata": {
    "id": "KknXmMSgtYug"
   },
   "source": [
    "### 2. Crea el siguiente ``DataFrame``"
   ]
  },
  {
   "cell_type": "code",
   "execution_count": 75,
   "metadata": {
    "id": "94u5GuJUtYug"
   },
   "outputs": [],
   "source": [
    "raw_data = {'regiment': ['Nighthawks', 'Nighthawks', 'Nighthawks', 'Nighthawks', 'Dragoons', 'Dragoons', 'Dragoons', 'Dragoons', 'Scouts', 'Scouts', 'Scouts', 'Scouts'], \n",
    "        'company': ['1st', '1st', '2nd', '2nd', '1st', '1st', '2nd', '2nd','1st', '1st', '2nd', '2nd'], \n",
    "        'name': ['Miller', 'Jacobson', 'Ali', 'Milner', 'Cooze', 'Jacon', 'Ryaner', 'Sone', 'Sloan', 'Piger', 'Riani', 'Ali'], \n",
    "        'preTestScore': [4, 24, 31, 2, 3, 4, 24, 31, 2, 3, 2, 3],\n",
    "        'postTestScore': [25, 94, 57, 62, 70, 25, 94, 57, 62, 70, 62, 70]}"
   ]
  },
  {
   "cell_type": "markdown",
   "metadata": {
    "id": "_W-T3sKwtYui"
   },
   "source": [
    "### 3. Créate un DataFrame a partir de él y asígnalo a la variable ``regiment`` (indicándole las columnas)"
   ]
  },
  {
   "cell_type": "code",
   "execution_count": null,
   "metadata": {
    "collapsed": false,
    "id": "ZnPlvihrtYui",
    "jupyter": {
     "outputs_hidden": false
    }
   },
   "outputs": [],
   "source": []
  },
  {
   "cell_type": "markdown",
   "metadata": {
    "id": "9w4GH9HztYuk"
   },
   "source": [
    "### 4. ¿Cuál es la media de preTestScore del regimiento Nighthawks?  "
   ]
  },
  {
   "cell_type": "code",
   "execution_count": null,
   "metadata": {
    "collapsed": false,
    "id": "51gcgJr-tYuk",
    "jupyter": {
     "outputs_hidden": false
    }
   },
   "outputs": [],
   "source": []
  },
  {
   "cell_type": "markdown",
   "metadata": {
    "id": "18uKSwAitYul"
   },
   "source": [
    "### 5. Muestra las estadísticas generales de cada compañía"
   ]
  },
  {
   "cell_type": "code",
   "execution_count": null,
   "metadata": {
    "collapsed": false,
    "id": "jigL4e-0tYum",
    "jupyter": {
     "outputs_hidden": false
    }
   },
   "outputs": [],
   "source": []
  },
  {
   "cell_type": "markdown",
   "metadata": {
    "id": "U1SXh0pEtYun"
   },
   "source": [
    "### 6. ¿Cuál es la media de cada preTestScore de cada compañía?"
   ]
  },
  {
   "cell_type": "code",
   "execution_count": null,
   "metadata": {
    "collapsed": false,
    "id": "NU9Dhd1LtYuo",
    "jupyter": {
     "outputs_hidden": false
    }
   },
   "outputs": [],
   "source": []
  },
  {
   "cell_type": "markdown",
   "metadata": {
    "id": "KeGPCe18tYur"
   },
   "source": [
    "### 7. Muestra la media de preTestScore agrupada por regimiento y compañía:"
   ]
  },
  {
   "cell_type": "code",
   "execution_count": null,
   "metadata": {
    "collapsed": false,
    "id": "J-5UdPE7tYur",
    "jupyter": {
     "outputs_hidden": false
    }
   },
   "outputs": [],
   "source": []
  },
  {
   "cell_type": "markdown",
   "metadata": {
    "id": "lbfnEpRvtYut"
   },
   "source": [
    "### 8. Muestra la media de preTestScore agrupada por regimiento y compañía sin el orden jerárquico, es decir, desapilando el índice y pasando a ser columnas"
   ]
  },
  {
   "cell_type": "code",
   "execution_count": null,
   "metadata": {
    "collapsed": false,
    "id": "iUuOmOi5tYut",
    "jupyter": {
     "outputs_hidden": false
    }
   },
   "outputs": [],
   "source": []
  },
  {
   "cell_type": "markdown",
   "metadata": {
    "id": "yzfwLdtztYuu"
   },
   "source": [
    "### 9. Agrupa el DataFrame entero por regimiento y compañía y obten sus medias"
   ]
  },
  {
   "cell_type": "code",
   "execution_count": null,
   "metadata": {
    "collapsed": false,
    "id": "F3XzluRPtYuv",
    "jupyter": {
     "outputs_hidden": false
    }
   },
   "outputs": [],
   "source": [
    "\n"
   ]
  },
  {
   "cell_type": "markdown",
   "metadata": {
    "id": "W27-24sHtYuw"
   },
   "source": [
    "### 10. ¿Cuá es el número de observaciones en cada regimiento y compañía?"
   ]
  },
  {
   "cell_type": "code",
   "execution_count": null,
   "metadata": {
    "collapsed": false,
    "id": "kzRkNEE4tYuw",
    "jupyter": {
     "outputs_hidden": false
    }
   },
   "outputs": [],
   "source": []
  },
  {
   "cell_type": "code",
   "execution_count": null,
   "metadata": {
    "id": "IY0sUCfXtYu0"
   },
   "outputs": [],
   "source": []
  }
 ],
 "metadata": {
  "colab": {
   "name": "3-ejercicios-AggregationandGruoping.ipynb",
   "provenance": []
  },
  "kernelspec": {
   "display_name": "Python 3",
   "language": "python",
   "name": "python3"
  },
  "language_info": {
   "codemirror_mode": {
    "name": "ipython",
    "version": 3
   },
   "file_extension": ".py",
   "mimetype": "text/x-python",
   "name": "python",
   "nbconvert_exporter": "python",
   "pygments_lexer": "ipython3",
   "version": "3.8.3"
  }
 },
 "nbformat": 4,
 "nbformat_minor": 4
}
