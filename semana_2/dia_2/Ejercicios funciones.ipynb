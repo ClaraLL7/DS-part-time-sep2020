{
 "cells": [
  {
   "cell_type": "markdown",
   "metadata": {},
   "source": [
    "![imagen](../../imagenes/ejercicios.png)"
   ]
  },
  {
   "cell_type": "markdown",
   "metadata": {},
   "source": [
    "# Ejercicios funciones\n",
    "## Ejercicio 1\n",
    "Escribe una función que convierta números del 1 al 7, en nombres de los días de la semana. La función constará de un único argumento numérico y una salida de tipo string"
   ]
  },
  {
   "cell_type": "code",
   "execution_count": 13,
   "metadata": {
    "tags": []
   },
   "outputs": [
    {
     "name": "stdout",
     "output_type": "stream",
     "text": [
      "No es un día\n"
     ]
    }
   ],
   "source": [
    "def dias_semanas(numero):\n",
    "    salida = ''\n",
    "    \n",
    "    if numero == 1:\n",
    "        salida =  \"lunes\"\n",
    "    elif numero == 2:\n",
    "        salida = \"martes\"\n",
    "    elif numero == 3:\n",
    "        salida = \"miércoles\"\n",
    "    elif numero == 4:\n",
    "        salida = \"jueves\"\n",
    "    elif numero == 5:\n",
    "        salida = \"viernes\"\n",
    "    elif numero == 6:\n",
    "        salida = \"sábado\"\n",
    "    elif numero == 7:\n",
    "        salida = \"domingo\"\n",
    "    else:\n",
    "        salida = \"No es un número válido\"\n",
    "    \n",
    "    return salida\n",
    "\n",
    "\n",
    "a = dias_semanas()\n",
    "\n",
    "print(a)"
   ]
  },
  {
   "cell_type": "markdown",
   "metadata": {},
   "source": [
    "## Ejercicio 2\n",
    "En el ejercicio 8 de bucles, creábamos una pirámide invertida, cuyo número de pisos venía determinado por un input del usuario. Crear una función que replique el comportamiento de la pirámide. Utiliza un único parámetro de entrada de la función para determinar el número de filas de la pirámide, es decir, elimina la sentencia input."
   ]
  },
  {
   "cell_type": "code",
   "execution_count": null,
   "metadata": {
    "tags": []
   },
   "outputs": [],
   "source": [
    "n = 7\n",
    "\n",
    "for i in range(n):"
   ]
  },
  {
   "cell_type": "markdown",
   "metadata": {},
   "source": [
    "## Ejercicio 3\n",
    "Escibe una función que compare dos números. La función tiene dos argumentos y hay tres salidas posibles: que sean iguales, que el primero sea  mayor que el segundo, o que el segundo sea mayor que el primero"
   ]
  },
  {
   "cell_type": "code",
   "execution_count": 15,
   "metadata": {
    "tags": []
   },
   "outputs": [
    {
     "name": "stdout",
     "output_type": "stream",
     "text": [
      "3 < 4\n",
      "3 = 3\n",
      "5 > 4\n"
     ]
    }
   ],
   "source": [
    "def compara_numeros(n1, n2):\n",
    "    if n1 > n2:\n",
    "        return str(n1) + \" > \" + str(n2)\n",
    "    elif n1 == n2:\n",
    "        return str(n1) + \" = \" + str(n2)\n",
    "    else:\n",
    "        return str(n1) + \" < \" + str(n2)\n",
    "    \n",
    "print(compara_numeros(3, 4))\n",
    "print(compara_numeros(3, 3))\n",
    "print(compara_numeros(5, 4))"
   ]
  },
  {
   "cell_type": "markdown",
   "metadata": {},
   "source": [
    "## Ejercicio 4\n",
    "Escribe una función que sea un contador de letras. En el primer argumento tienes que introducir un texto, y en el segundo, la letra a contar. La función tiene que devolver un entero con el número de veces que aparece esa letra, tanto mayúscula, como minúscula"
   ]
  },
  {
   "cell_type": "code",
   "execution_count": null,
   "metadata": {},
   "outputs": [],
   "source": []
  },
  {
   "cell_type": "markdown",
   "metadata": {},
   "source": [
    "## Ejercicio 5\n",
    "Escribe una función que tenga un único argumento, un string. La salida de la función tiene que ser un diccionario con el conteo de todas las letras de ese string."
   ]
  },
  {
   "cell_type": "code",
   "execution_count": 39,
   "metadata": {},
   "outputs": [
    {
     "data": {
      "text/plain": [
       "{'a': 3, 'l': 1, 'b': 1, 'r': 1, 'p': 1}"
      ]
     },
     "execution_count": 39,
     "metadata": {},
     "output_type": "execute_result"
    }
   ],
   "source": [
    "def funcion(cadena):\n",
    "    lista_letras = list(cadena)\n",
    "    set_letras = set(lista_letras)\n",
    "\n",
    "    dic = {}\n",
    "    \n",
    "    for letra in set_letras:\n",
    "        apariciones = 0\n",
    "        \n",
    "        for letra2 in cadena:\n",
    "            if letra2 == letra:\n",
    "                apariciones = apariciones + 1\n",
    "        dic[letra] = apariciones\n",
    "    \n",
    "    return dic\n",
    "    \n",
    "funcion(\"palabra\")"
   ]
  },
  {
   "cell_type": "code",
   "execution_count": 22,
   "metadata": {},
   "outputs": [
    {
     "name": "stdout",
     "output_type": "stream",
     "text": [
      "10\n",
      "20\n",
      "21\n"
     ]
    }
   ],
   "source": [
    "dic = {}\n",
    "\n",
    "dic['a'] = 10\n",
    "print(dic['a'])\n",
    "\n",
    "dic['a'] = 20\n",
    "print(dic['a'])\n",
    "\n",
    "dic['a'] = dic['a'] + 1\n",
    "print(dic['a'])"
   ]
  },
  {
   "cell_type": "code",
   "execution_count": 32,
   "metadata": {},
   "outputs": [
    {
     "data": {
      "text/plain": [
       "{'J': 1, 'u': 1, 'a': 1, 'n': 1}"
      ]
     },
     "execution_count": 32,
     "metadata": {},
     "output_type": "execute_result"
    }
   ],
   "source": [
    "def cuenta_letras(cadena):\n",
    "    dic = {}\n",
    "    \n",
    "    for letra in cadena:\n",
    "        dic[letra] = cadena.count(letra)\n",
    "    \n",
    "    return dic\n",
    "\n",
    "cuenta_letras(\"Juan\")"
   ]
  },
  {
   "cell_type": "code",
   "execution_count": 29,
   "metadata": {},
   "outputs": [
    {
     "data": {
      "text/plain": [
       "{'p': 1,\n",
       " 'a': 9,\n",
       " 'l': 4,\n",
       " 'b': 1,\n",
       " 'r': 1,\n",
       " ' ': 6,\n",
       " 's': 5,\n",
       " 'j': 1,\n",
       " 'o': 1,\n",
       " 'd': 6,\n",
       " 'k': 1,\n",
       " 'm': 1}"
      ]
     },
     "execution_count": 29,
     "metadata": {},
     "output_type": "execute_result"
    }
   ],
   "source": [
    "def cuenta_letras(cadena):\n",
    "    dic = {}\n",
    "    \n",
    "    for letra in cadena:\n",
    "        if letra in dic.keys():\n",
    "            dic[letra] = dic[letra] + 1\n",
    "        else:\n",
    "            dic[letra] = 1\n",
    "    \n",
    "    return dic\n",
    "\n",
    "cuenta_letras(\"palabra asjod asd adlk asdmasld as dl\")"
   ]
  },
  {
   "cell_type": "code",
   "execution_count": null,
   "metadata": {},
   "outputs": [],
   "source": []
  },
  {
   "cell_type": "markdown",
   "metadata": {},
   "source": [
    "## Ejercicio 6\n",
    "Escribir una función que añada o elimine elementos en una lista. La función necesita los siguientes argumentos:\n",
    "* lista: la lista donde se añadira o eliminarán los elementos\n",
    "* comando: \"add\" o \"remove\"\n",
    "* elemento: Por defecto es None."
   ]
  },
  {
   "cell_type": "code",
   "execution_count": null,
   "metadata": {
    "tags": []
   },
   "outputs": [],
   "source": []
  },
  {
   "cell_type": "markdown",
   "metadata": {},
   "source": [
    "## Ejercicio 7\n",
    "Crea una función que reciba un número arbitrario de palabras, y devuelva una frase completa, separando las palabras con espacios."
   ]
  },
  {
   "cell_type": "code",
   "execution_count": 54,
   "metadata": {},
   "outputs": [
    {
     "name": "stdout",
     "output_type": "stream",
     "text": [
      "alskfn\n",
      "alskfn alsknd\n",
      "alskfn alsknd oilahsd\n",
      "alskfn alsknd oilahsd lakns\n"
     ]
    },
    {
     "data": {
      "text/plain": [
       "'alskfn alsknd oilahsd lakns'"
      ]
     },
     "execution_count": 54,
     "metadata": {},
     "output_type": "execute_result"
    }
   ],
   "source": [
    "def concatena(*argumentos):\n",
    "    \n",
    "    salida = argumentos[0]\n",
    "    print(salida)\n",
    "    \n",
    "    for palabra in argumentos[1:]:\n",
    "        salida = salida + ' ' + palabra\n",
    "        print(salida)\n",
    "    \n",
    "    return salida\n",
    "        \n",
    "concatena(\"alskfn\", \"alsknd\", \"oilahsd\", \"lakns\")"
   ]
  },
  {
   "cell_type": "markdown",
   "metadata": {},
   "source": [
    "## Ejercicio 8\n",
    "Escribe un programa que calcule la [serie de Fibonacci](https://es.wikipedia.org/wiki/Sucesi%C3%B3n_de_Fibonacci)"
   ]
  },
  {
   "cell_type": "code",
   "execution_count": null,
   "metadata": {
    "tags": []
   },
   "outputs": [],
   "source": []
  },
  {
   "cell_type": "markdown",
   "metadata": {},
   "source": [
    "## Ejercicio 9\n",
    "Define en una única celda las siguientes funciones:\n",
    "* Función que calcule el área de un cuadrado\n",
    "* Función que calcule el area de un triángulo\n",
    "* Función que calcule el área de un círculo\n",
    "\n",
    "En otra celda, calcular el area de:\n",
    "* Dos círculos de radio 10 + un triángulo de base 3 y altura 7\n",
    "* Un cuadrado de lado = 10 + 3 círculos (uno de radio = 4 y los otros dos de radio = 6) + 5 triángulos de base = 2 + altura = 4"
   ]
  },
  {
   "cell_type": "code",
   "execution_count": null,
   "metadata": {},
   "outputs": [],
   "source": [
    "import math\n",
    "\n",
    "formula_area_cuadrado = lado**2\n",
    "formula_area_triangulo = base*altura/2\n",
    "formula_area_circulo = math.pi*radio**2"
   ]
  },
  {
   "cell_type": "code",
   "execution_count": null,
   "metadata": {},
   "outputs": [],
   "source": [
    "def area_cuadrado(lado):\n",
    "    formula_area_cuadrado = lado**2\n",
    "    return formula_area_cuadrado\n",
    "    \n",
    "def area_triangulo(base, altura):\n",
    "    # Cosas\n",
    "    return algo\n",
    "    \n",
    "def area_circulo(radio):\n",
    "    # Cosas\n",
    "    return algo"
   ]
  },
  {
   "cell_type": "code",
   "execution_count": null,
   "metadata": {},
   "outputs": [],
   "source": [
    "a = area_cuadrado(lado)\n",
    "\n"
   ]
  }
 ],
 "metadata": {
  "kernelspec": {
   "display_name": "Python 3",
   "language": "python",
   "name": "python3"
  },
  "language_info": {
   "codemirror_mode": {
    "name": "ipython",
    "version": 3
   },
   "file_extension": ".py",
   "mimetype": "text/x-python",
   "name": "python",
   "nbconvert_exporter": "python",
   "pygments_lexer": "ipython3",
   "version": "3.8.3"
  }
 },
 "nbformat": 4,
 "nbformat_minor": 4
}
