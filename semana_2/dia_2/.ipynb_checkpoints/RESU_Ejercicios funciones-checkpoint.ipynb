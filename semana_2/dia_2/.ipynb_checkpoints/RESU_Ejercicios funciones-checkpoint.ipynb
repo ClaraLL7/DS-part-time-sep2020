{
 "cells": [
  {
   "cell_type": "markdown",
   "metadata": {},
   "source": [
    "![imagen](../../imagenes/ejercicios.png)"
   ]
  },
  {
   "cell_type": "markdown",
   "metadata": {},
   "source": [
    "# Ejercicios funciones\n",
    "## Ejercicio 1\n",
    "Escribe una función que convierta números del 1 al 7, en nombres de los dias de la semana. La función constará de un único argumento numérico y una salida de tipo string"
   ]
  },
  {
   "cell_type": "code",
   "execution_count": 2,
   "metadata": {},
   "outputs": [
    {
     "name": "stdout",
     "output_type": "stream",
     "text": [
      "Lunes\n",
      "Domingo\n"
     ]
    }
   ],
   "source": [
    "def dia_semana(dia_num):\n",
    "    if dia_num == 1:\n",
    "        return \"Lunes\"\n",
    "    elif dia_num == 2:\n",
    "        return \"Martes\"\n",
    "    elif dia_num == 3:\n",
    "        return \"Miércoles\"\n",
    "    elif dia_num == 4:\n",
    "        return \"Jueves\"\n",
    "    elif dia_num == 5:\n",
    "        return \"Viernes\"\n",
    "    elif dia_num == 6:\n",
    "        return \"Sábado\"\n",
    "    elif dia_num == 7:\n",
    "        return \"Domingo\"\n",
    "    else:\n",
    "        return \"No es un dia de la semana\"\n",
    "    \n",
    "print(dia_semana(1))\n",
    "\n",
    "print(dia_semana(7))"
   ]
  },
  {
   "cell_type": "code",
   "execution_count": 3,
   "metadata": {},
   "outputs": [
    {
     "name": "stdin",
     "output_type": "stream",
     "text": [
      "Introduzca un número de día de la semana 10\n"
     ]
    },
    {
     "name": "stdout",
     "output_type": "stream",
     "text": [
      "Erro al introducir el número, vuelva a intentarlo\n"
     ]
    }
   ],
   "source": [
    "def day_of_week():\n",
    "    \n",
    "    day_num = int(input(\"Introduzca un número de día de la semana\"))\n",
    "    if day_num == 1:\n",
    "        day = \"Lunes\"\n",
    "    elif day_num == 2:\n",
    "        day = \"Martes\"\n",
    "    elif day_num == 3:\n",
    "        day = \"Miercoles\"\n",
    "    elif day_num == 4:\n",
    "        day = \"Jueves\"\n",
    "    elif day_num == 5:\n",
    "        day = \"Viernes\"\n",
    "    elif day_num == 6:\n",
    "        day = \"Sabado\"\n",
    "    elif day_num == 7:\n",
    "        day = \"Domingo\"\n",
    "    else:\n",
    "        print(\"Erro al introducir el número, vuelva a intentarlo\")\n",
    "    \n",
    "    \n",
    "day_of_week()"
   ]
  },
  {
   "cell_type": "markdown",
   "metadata": {},
   "source": [
    "## Ejercicio 2\n",
    "En el ejercicio 8 de bucles, creábamos una pirámide invertida, cuyo número de pisos venía determinado por un input del usuario. Crear una función que replique el comportamiento de la pirámide, y utiliza un único parámetro de entrada de la función para determinar el número de filas de la pirámide, es decir, elimina la sentencia input."
   ]
  },
  {
   "cell_type": "code",
   "execution_count": 4,
   "metadata": {},
   "outputs": [
    {
     "name": "stdout",
     "output_type": "stream",
     "text": [
      " 1 2 3 4\n",
      " 1 2 3\n",
      " 1 2\n",
      " 1\n",
      " 1 2 3 4 5 6\n",
      " 1 2 3 4 5\n",
      " 1 2 3 4\n",
      " 1 2 3\n",
      " 1 2\n",
      " 1\n"
     ]
    }
   ],
   "source": [
    "def piramide(filas):\n",
    "    \n",
    "    for i in range(filas):  \n",
    "    \n",
    "        out = \"\"\n",
    "        for j in range(filas-i):\n",
    "            out = out + \" \" + str(j + 1)\n",
    "        print(out)\n",
    "\n",
    "piramide(4)\n",
    "piramide(6)"
   ]
  },
  {
   "cell_type": "markdown",
   "metadata": {},
   "source": [
    "## Ejercicio 3\n",
    "Escibe una función que compare dos números. La función tiene dos argumentos y hay tres salidas posibles: que sean iguales, que el primero se  mayor que el segundo, o que el segundo sea mayor que el primero"
   ]
  },
  {
   "cell_type": "code",
   "execution_count": 10,
   "metadata": {},
   "outputs": [
    {
     "name": "stdout",
     "output_type": "stream",
     "text": [
      "4 es mayor que 3\n",
      "Son iguales\n"
     ]
    }
   ],
   "source": [
    "def compare_fun(num_1, num_2):\n",
    "    if num_1 == num_2:\n",
    "        return \"Son iguales\"\n",
    "    elif num_1 > num_2:\n",
    "        return str(num_1) + \" es mayor que \" + str(num_2)\n",
    "    else:\n",
    "        return str(num_2) + \" es mayor que \" + str(num_1)\n",
    "\n",
    "print(compare_fun(3,4))\n",
    "print(compare_fun(4,4))"
   ]
  },
  {
   "cell_type": "markdown",
   "metadata": {},
   "source": [
    "## Ejercicio 4\n",
    "Escribe una función que sea un contador de letras. En el primer argumento tienes que introducir un texto, y el segundo que sea la letra a contar. La función tiene que devolver un entero con el número de veces que aparece esa letra, tanto mayuscula, como minúscula"
   ]
  },
  {
   "cell_type": "code",
   "execution_count": 15,
   "metadata": {},
   "outputs": [
    {
     "data": {
      "text/plain": [
       "2"
      ]
     },
     "execution_count": 15,
     "metadata": {},
     "output_type": "execute_result"
    }
   ],
   "source": [
    "def letter_count(texto, letra):\n",
    "    texto = texto.lower()\n",
    "    return texto.count(letra.lower())\n",
    "\n",
    "letter_count(\"En esta clase aprenderemos mucho Python\", \"C\")"
   ]
  },
  {
   "cell_type": "markdown",
   "metadata": {},
   "source": [
    "## Ejercicio 5\n",
    "Escribe una función que tenga un único argumento, un string. La salida de la función tiene que ser un diccionario con el conteo de todas las letras de ese string."
   ]
  },
  {
   "cell_type": "code",
   "execution_count": 17,
   "metadata": {},
   "outputs": [
    {
     "data": {
      "text/plain": [
       "{'e': 6,\n",
       " 'n': 3,\n",
       " ' ': 5,\n",
       " 's': 3,\n",
       " 't': 2,\n",
       " 'a': 3,\n",
       " 'c': 2,\n",
       " 'l': 1,\n",
       " 'p': 2,\n",
       " 'r': 2,\n",
       " 'd': 1,\n",
       " 'm': 2,\n",
       " 'o': 3,\n",
       " 'u': 1,\n",
       " 'h': 2,\n",
       " 'y': 1}"
      ]
     },
     "execution_count": 17,
     "metadata": {},
     "output_type": "execute_result"
    }
   ],
   "source": [
    "def letter_count_dic(texto):\n",
    "    \n",
    "    all_letters = {}\n",
    "    \n",
    "    for i in texto.lower():\n",
    "        if i in all_letters:\n",
    "            all_letters[i] = all_letters[i] + 1\n",
    "            \n",
    "        else:\n",
    "            all_letters[i] = 1\n",
    "            \n",
    "    return all_letters\n",
    "letter_count_dic(\"En esta clase aprenderemos mucho Python\")"
   ]
  },
  {
   "cell_type": "markdown",
   "metadata": {},
   "source": [
    "## Ejercicio 6\n",
    "Escribir una función que añada o elimine elementos en una lista. La función necesita los siguientes argumentos:\n",
    "* lista: la lista donde se añadira o eliminarán los elementos\n",
    "* comando: \"add\" o \"remove\"\n",
    "* elemento: Por defecto es None."
   ]
  },
  {
   "cell_type": "code",
   "execution_count": 25,
   "metadata": {},
   "outputs": [
    {
     "name": "stdout",
     "output_type": "stream",
     "text": [
      "[1, 2, 3, 9]\n",
      "[1, 2, 3, 9999]\n",
      "[1, 3]\n",
      "El elemento 9 no existe en la lista\n",
      "None\n"
     ]
    }
   ],
   "source": [
    "def listas_program(lista, comando, elemento = None):\n",
    "    if comando == \"add\" and elemento != None:\n",
    "        lista.append(elemento)\n",
    "        return lista\n",
    "    elif comando == \"add\" and elemento == None:\n",
    "        lista.append(9999)\n",
    "        return lista\n",
    "    elif comando == \"remove\":\n",
    "        try:\n",
    "            lista.remove(elemento)\n",
    "            return lista\n",
    "        except:\n",
    "            print(\"El elemento\", elemento, \"no existe en la lista\")\n",
    "\n",
    "            \n",
    "print(listas_program([1,2,3], \"add\", 9))\n",
    "print(listas_program([1,2,3], \"add\"))\n",
    "print(listas_program([1,2,3], \"remove\", 2))\n",
    "print(listas_program([1,2,3], \"remove\", 9))"
   ]
  },
  {
   "cell_type": "markdown",
   "metadata": {},
   "source": [
    "## Ejercicio 7\n",
    "Crea una función que reciba un número arbitrario de palabras, y devuelva una frase completa, separando las palabras con espacios."
   ]
  },
  {
   "cell_type": "code",
   "execution_count": 28,
   "metadata": {},
   "outputs": [
    {
     "data": {
      "text/plain": [
       "'Hola me llamo Dani'"
      ]
     },
     "execution_count": 28,
     "metadata": {},
     "output_type": "execute_result"
    }
   ],
   "source": [
    "def junta_palabras(*args):\n",
    "    return \" \".join(args)\n",
    "\n",
    "junta_palabras(\"Hola\", \"me\", \"llamo\", \"Dani\")"
   ]
  },
  {
   "cell_type": "markdown",
   "metadata": {},
   "source": [
    "## Ejercicio 8\n",
    "Escribe un probrama que calcule la [serie de Fibonacci](https://es.wikipedia.org/wiki/Sucesi%C3%B3n_de_Fibonacci)"
   ]
  },
  {
   "cell_type": "code",
   "execution_count": 5,
   "metadata": {},
   "outputs": [
    {
     "name": "stdout",
     "output_type": "stream",
     "text": [
      "8\n"
     ]
    }
   ],
   "source": [
    "def fibonacci(n):\n",
    "  if n == 1 or n == 2:\n",
    "    return 1\n",
    "  else:\n",
    "    return (fibonacci(n - 1) + (fibonacci(n - 2)))\n",
    "\n",
    "print(fibonacci(6))"
   ]
  },
  {
   "cell_type": "markdown",
   "metadata": {},
   "source": [
    "## Ejercicio 9\n",
    "Define en una única celda las siguientes funciones:\n",
    "* Función que calcule el área de un cuadrado\n",
    "* Función que calcule el area de un triángulo\n",
    "* Función que calcule el área de un círculo\n",
    "\n",
    "En otra celda, calcular el area de:\n",
    "* Dos círculos de radio 10 + un triángulo de base 3 y altura 7\n",
    "* Un cuadrado de lado = 10 + 3 círculos (uno de radio = 4 y los otros dos de radio = 6) + 5 triángulos de base = 2 + altura = 4"
   ]
  },
  {
   "cell_type": "code",
   "execution_count": 7,
   "metadata": {},
   "outputs": [],
   "source": [
    "def cuadrado(lado):\n",
    "    return lado * lado\n",
    "\n",
    "def triangulo(base, altura):\n",
    "    return (base * altura)/2\n",
    "\n",
    "def circulo(radio):\n",
    "    import math\n",
    "    return math.pi * radio**2"
   ]
  },
  {
   "cell_type": "code",
   "execution_count": 8,
   "metadata": {},
   "outputs": [
    {
     "name": "stdout",
     "output_type": "stream",
     "text": [
      "638.8185307179587\n",
      "396.46015351590177\n"
     ]
    }
   ],
   "source": [
    "circ1 = 2 * circulo(10)\n",
    "tria1 = triangulo(3,7)\n",
    "print(circ1 + tria1)\n",
    "\n",
    "cuadr2 = cuadrado(10)\n",
    "circ2 = circulo(4) + 2 * circulo(6)\n",
    "trian2 = 5 * triangulo(2,4)\n",
    "print(cuadr2 + circ2 + trian2)"
   ]
  }
 ],
 "metadata": {
  "kernelspec": {
   "display_name": "Python 3",
   "language": "python",
   "name": "python3"
  },
  "language_info": {
   "codemirror_mode": {
    "name": "ipython",
    "version": 3
   },
   "file_extension": ".py",
   "mimetype": "text/x-python",
   "name": "python",
   "nbconvert_exporter": "python",
   "pygments_lexer": "ipython3",
   "version": "3.7.6"
  }
 },
 "nbformat": 4,
 "nbformat_minor": 4
}
