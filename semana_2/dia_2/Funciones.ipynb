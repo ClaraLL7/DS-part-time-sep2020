{
 "cells": [
  {
   "cell_type": "markdown",
   "metadata": {},
   "source": [
    "![imagen](../../imagenes/python.jpg)"
   ]
  },
  {
   "cell_type": "markdown",
   "metadata": {},
   "source": [
    "# Funciones en Python\n",
    "\n",
    "En este Notebook tienes una guía completa para orientarte en el uso de funciones en Python.\n",
    "\n",
    "Se trata de bloques de código que encapsulan una serie de operaciones. Se usan para modular nuestro código y evitar escribir código de más.\n",
    "\n",
    "1. [Definición, sintaxis y return](#1.-Definición,-sintaxis-y-return)\n",
    "2. [Argumentos posicionales](#2.-Argumentos-posicionales)\n",
    "3. [Argumentos variables](#3.-Argumentos-variables)\n",
    "4. [Argumentos keyword](#4.-Argumentos-keyword)\n",
    "5. [Recursividad](#5.-Recursividad)\n",
    "6. [Documentar funciones](#6.-Documentar-funciones)\n",
    "7. [Resumen](#7.-Resumen)"
   ]
  },
  {
   "cell_type": "markdown",
   "metadata": {},
   "source": [
    "## 1. Definición, sintaxis y return\n",
    "Mediante las **funciones** podemos encapsular código un formato entrada/salida\n",
    "\n",
    "![imagen](../../imagenes/funciones.png)\n",
    "\n",
    "Es una manera de agrupar conjuntos de operaciones en módulos.\n",
    "\n",
    "**¿Cuándo usarlas?** Cuando tengamos varias operaciones que ejecutamos repetidamente en distintas partes del código. En ese caso, encapsulamos las operaciones en una función, y cada vez que haya que realizar tal operativa, llamamos a la función, y en una sola línea de código tenemos ejecutada esas operaciones.\n",
    "\n",
    "Hasta ahora hemos estado utilizando funciones *built-in*, para operaciones sencillas como `len()`, `sum()` o `max()`. En este Notebook aprenderás a crear tus propias funciones.\n",
    "\n",
    "La sintaxis es:\n",
    "> ```Python\n",
    "> def nombre_funcion(input):\n",
    ">    operaciones varias\n",
    ">    return output\n",
    "> ```\n",
    "\n",
    "Fíjate que sigue la **sintaxis de línea** vista en Notebooks anteriores. Además, todo lo que va después del `return` es ignorado, puesto que es la salida. En el `return` acaba la función. Ahora bien, eso no quiere decir que haya un único return. Si introducimos una sentencia `if/else`, podremos poner returns diferentes dependiendo de qué condición se cumple. Vamos a crear nuestra primera función"
   ]
  },
  {
   "cell_type": "code",
   "execution_count": 18,
   "metadata": {},
   "outputs": [],
   "source": [
    "# Conversor km a millas\n",
    "def km_millas(distancia):\n",
    "    distancia = float(input(\"Introduce los km:\"))\n",
    "    millas = distancia * 0.62\n",
    "    return millas"
   ]
  },
  {
   "cell_type": "code",
   "execution_count": 17,
   "metadata": {},
   "outputs": [
    {
     "ename": "TypeError",
     "evalue": "km_millas() takes 0 positional arguments but 1 was given",
     "output_type": "error",
     "traceback": [
      "\u001b[1;31m---------------------------------------------------------------------------\u001b[0m",
      "\u001b[1;31mTypeError\u001b[0m                                 Traceback (most recent call last)",
      "\u001b[1;32m<ipython-input-17-5ec7e4427a93>\u001b[0m in \u001b[0;36m<module>\u001b[1;34m\u001b[0m\n\u001b[1;32m----> 1\u001b[1;33m \u001b[0mprint\u001b[0m\u001b[1;33m(\u001b[0m\u001b[0mkm_millas\u001b[0m\u001b[1;33m(\u001b[0m\u001b[1;36m2\u001b[0m\u001b[1;33m)\u001b[0m\u001b[1;33m)\u001b[0m\u001b[1;33m\u001b[0m\u001b[1;33m\u001b[0m\u001b[0m\n\u001b[0m",
      "\u001b[1;31mTypeError\u001b[0m: km_millas() takes 0 positional arguments but 1 was given"
     ]
    }
   ],
   "source": [
    "print(km_millas(2))"
   ]
  },
  {
   "cell_type": "markdown",
   "metadata": {},
   "source": [
    "Al ejecutar el código anterior, no corre nada, simplemente almacenamos en memoria la función para usarla posteriormente. **Ahora podremos llamar a la función tantas veces como queramos, desde cualquier parte del codigo.**"
   ]
  },
  {
   "cell_type": "code",
   "execution_count": 10,
   "metadata": {},
   "outputs": [
    {
     "name": "stdout",
     "output_type": "stream",
     "text": [
      "1.24\n",
      "3.1\n",
      "6.2\n"
     ]
    }
   ],
   "source": [
    "# Llamamos a la funcion\n",
    "print(km_millas(2))\n",
    "print(km_millas(5))\n",
    "print(km_millas(10))"
   ]
  },
  {
   "cell_type": "markdown",
   "metadata": {},
   "source": [
    "Las funciones no tienen por qué llevar argumentos. Eso sí, **es obligatorio** poner los parentesis, tanto en la declaración, como luego al llamar la función."
   ]
  },
  {
   "cell_type": "code",
   "execution_count": 24,
   "metadata": {},
   "outputs": [
    {
     "name": "stdout",
     "output_type": "stream",
     "text": [
      "19:16:28.676755\n"
     ]
    }
   ],
   "source": [
    "from datetime import datetime\n",
    "\n",
    "def que_hora_es():\n",
    "    now = datetime.now().time()\n",
    "    return now\n",
    "\n",
    "print(que_hora_es())"
   ]
  },
  {
   "cell_type": "code",
   "execution_count": 37,
   "metadata": {},
   "outputs": [
    {
     "data": {
      "text/plain": [
       "'Hola'"
      ]
     },
     "execution_count": 37,
     "metadata": {},
     "output_type": "execute_result"
    }
   ],
   "source": [
    "def saluda():\n",
    "    return \"Hola\"\n",
    "\n",
    "a = saluda()\n",
    "a"
   ]
  },
  {
   "cell_type": "markdown",
   "metadata": {},
   "source": [
    "Tampoco tienen por qué llevar un `return`. No siempre es necesario un output. En tal caso, devuelve `None`"
   ]
  },
  {
   "cell_type": "code",
   "execution_count": 22,
   "metadata": {},
   "outputs": [
    {
     "name": "stdout",
     "output_type": "stream",
     "text": [
      "19:15:50.076630\n",
      "None\n"
     ]
    }
   ],
   "source": [
    "from datetime import datetime\n",
    "\n",
    "def que_hora_es():\n",
    "    now = datetime.now().time()\n",
    "    print(now)\n",
    "\n",
    "print(que_hora_es())"
   ]
  },
  {
   "cell_type": "markdown",
   "metadata": {},
   "source": [
    "También puedes poner varias salidas en el return, simplemente separándolas por comas. O si lo que quieres es un único elemento, agruparlos en una colección también puede ser otra opción."
   ]
  },
  {
   "cell_type": "code",
   "execution_count": 38,
   "metadata": {},
   "outputs": [
    {
     "name": "stdout",
     "output_type": "stream",
     "text": [
      "(datetime.time(19, 27, 13, 725365), datetime.date(2020, 9, 24))\n",
      "<class 'tuple'>\n",
      "19:27:13.725365\n",
      "2020-09-24\n"
     ]
    }
   ],
   "source": [
    "from datetime import datetime\n",
    "\n",
    "def que_hora_es():\n",
    "    now = datetime.now().time()\n",
    "    date = datetime.now().date()\n",
    "    return now, date\n",
    "\n",
    "print(que_hora_es())\n",
    "print(type(que_hora_es()))\n",
    "print(que_hora_es()[0])\n",
    "print(que_hora_es()[1])"
   ]
  },
  {
   "cell_type": "code",
   "execution_count": 39,
   "metadata": {},
   "outputs": [
    {
     "data": {
      "text/plain": [
       "(5, [1, 2, 'alkfnaksnl', 1], {'a': 'más cosas'})"
      ]
     },
     "execution_count": 39,
     "metadata": {},
     "output_type": "execute_result"
    }
   ],
   "source": [
    "def devuelve_cosas():\n",
    "    a = 5\n",
    "    b =[1, 2, \"alkfnaksnl\", 1]\n",
    "    c = {\"a\": 'más cosas'}\n",
    "    return a, b, c\n",
    "\n",
    "devuelve_cosas()"
   ]
  },
  {
   "cell_type": "markdown",
   "metadata": {},
   "source": [
    "### Tipos de datos de los argumentos\n",
    "Lo que quieras: numeros, texto, listas, tuplas, diccionarios, objetos de clases que hayas definido..."
   ]
  },
  {
   "cell_type": "code",
   "execution_count": 45,
   "metadata": {},
   "outputs": [
    {
     "name": "stdout",
     "output_type": "stream",
     "text": [
      "<class 'tuple'>\n",
      "<class 'list'>\n",
      "<class 'dict'>\n"
     ]
    },
    {
     "data": {
      "text/plain": [
       "7.5"
      ]
     },
     "execution_count": 45,
     "metadata": {},
     "output_type": "execute_result"
    }
   ],
   "source": [
    "def recibe_mix(tupla, lista, diccionario):\n",
    "    print(type(tupla))\n",
    "    print(type(lista))\n",
    "    print(type(diccionario))\n",
    "    if len(lista) >= 2:\n",
    "        return 2, tupla\n",
    "    else:\n",
    "        return 7.5\n",
    "    \n",
    "recibe_mix((2,3,4), ['a'], {\"X1\":1, \"X2\": 2})"
   ]
  },
  {
   "cell_type": "markdown",
   "metadata": {},
   "source": [
    "<table align=\"left\">\n",
    " <tr><td width=\"80\"><img src=\"../../imagenes/error.png\" style=\"width:auto;height:auto\"></td>\n",
    "     <td style=\"text-align:left\">\n",
    "         <h3>ERRORES variables de la función</h3>\n",
    "         \n",
    " </td></tr>\n",
    "</table>"
   ]
  },
  {
   "cell_type": "code",
   "execution_count": 46,
   "metadata": {},
   "outputs": [
    {
     "name": "stdout",
     "output_type": "stream",
     "text": [
      "1.24\n"
     ]
    },
    {
     "ename": "NameError",
     "evalue": "name 'millas' is not defined",
     "output_type": "error",
     "traceback": [
      "\u001b[1;31m---------------------------------------------------------------------------\u001b[0m",
      "\u001b[1;31mNameError\u001b[0m                                 Traceback (most recent call last)",
      "\u001b[1;32m<ipython-input-46-74e039b27b32>\u001b[0m in \u001b[0;36m<module>\u001b[1;34m\u001b[0m\n\u001b[0;32m      4\u001b[0m \u001b[1;33m\u001b[0m\u001b[0m\n\u001b[0;32m      5\u001b[0m \u001b[0mprint\u001b[0m\u001b[1;33m(\u001b[0m\u001b[0mkm_millas\u001b[0m\u001b[1;33m(\u001b[0m\u001b[1;36m2\u001b[0m\u001b[1;33m)\u001b[0m\u001b[1;33m)\u001b[0m\u001b[1;33m\u001b[0m\u001b[1;33m\u001b[0m\u001b[0m\n\u001b[1;32m----> 6\u001b[1;33m \u001b[0mprint\u001b[0m\u001b[1;33m(\u001b[0m\u001b[0mmillas\u001b[0m\u001b[1;33m)\u001b[0m\u001b[1;33m\u001b[0m\u001b[1;33m\u001b[0m\u001b[0m\n\u001b[0m",
      "\u001b[1;31mNameError\u001b[0m: name 'millas' is not defined"
     ]
    }
   ],
   "source": [
    "def km_millas(distancia):\n",
    "    millas = distancia * 0.62\n",
    "    cosa = 10\n",
    "    return millas\n",
    "\n",
    "print(km_millas(2))\n",
    "print(millas)"
   ]
  },
  {
   "cell_type": "markdown",
   "metadata": {},
   "source": [
    "Se crea un namespace interno dentro de las funciones, es decir, que lo que declaremos dentro, se queda dentro. No lo podremos usar fuera. Además, ten en cuenta que todo lo que introduzcamos dentro de flujos de control (`if/else`, bucles...), nos vale para el resto de la función"
   ]
  },
  {
   "cell_type": "code",
   "execution_count": 51,
   "metadata": {},
   "outputs": [
    {
     "data": {
      "text/plain": [
       "'salida'"
      ]
     },
     "execution_count": 51,
     "metadata": {},
     "output_type": "execute_result"
    }
   ],
   "source": [
    "def funcion_numero(numero):\n",
    "    out = None\n",
    "    \n",
    "    if numero == 1:\n",
    "        if numero == 1:\n",
    "            if numero == 1:\n",
    "                out = \"salida\"\n",
    "    \n",
    "    return out\n",
    "funcion_numero(1)"
   ]
  },
  {
   "cell_type": "code",
   "execution_count": 49,
   "metadata": {},
   "outputs": [
    {
     "name": "stdout",
     "output_type": "stream",
     "text": [
      "salida\n"
     ]
    }
   ],
   "source": [
    "print(funcion_numero(1))"
   ]
  },
  {
   "cell_type": "markdown",
   "metadata": {},
   "source": [
    "Cuidado también con la sintaxis de línea. Después de dos puntos `:`, viene todo el bloque de código tabulado, de la función"
   ]
  },
  {
   "cell_type": "markdown",
   "metadata": {},
   "source": [
    "<table align=\"left\">\n",
    " <tr><td width=\"80\"><img src=\"../../imagenes/ejercicio.png\" style=\"width:auto;height:auto\"></td>\n",
    "     <td style=\"text-align:left\">\n",
    "         <h3>Ejercicio. Crea tu propia funcion</h3>\n",
    "\n",
    "Crea tu propia funcion. En este caso, queremos implementar una función para saber si podremos ir de excursión a la montaña. Para ello, la función recibirá dos argumentos: tiempo, que sera un booleano, y una lista con acompañantes. Si hace buen tiempo y al menos vienen dos personas conmigo -> return el primero que se apuntó a la lista, si solo hace buen tiempo y no tengo al menos dos acompañantes -> return tu nombre, y si no, return \"No podemos ir\"\n",
    "         \n",
    " </td></tr>\n",
    "</table>"
   ]
  },
  {
   "cell_type": "code",
   "execution_count": 55,
   "metadata": {},
   "outputs": [],
   "source": [
    "amigos = ['Manolo', 'Ramón', 'AA']\n",
    "tiempo = True\n",
    "\n",
    "\n",
    "\n",
    "def excur_montania(amigos, tiempo):\n",
    "    if not tiempo:\n",
    "        salida = \"No podemos ir\"\n",
    "    elif len(amigos) >= 2:\n",
    "        salida = amigos[0]\n",
    "    else:\n",
    "        salida = \"Mi nombre\"\n",
    "    return salida\n",
    "    \n"
   ]
  },
  {
   "cell_type": "code",
   "execution_count": 52,
   "metadata": {},
   "outputs": [],
   "source": [
    "def excursion_montaña(amigos, tiempo):\n",
    "    txt = amigos[0]\n",
    "    if len(amigos) >= 2 and tiempo == True:\n",
    "        return txt\n",
    "    elif len(amigos) < 2 and tiempo == True:\n",
    "            return \"Brenda\"\n",
    "    else:\n",
    "        return \"No podemos ir\""
   ]
  },
  {
   "cell_type": "code",
   "execution_count": 68,
   "metadata": {},
   "outputs": [
    {
     "data": {
      "text/plain": [
       "'Pepe'"
      ]
     },
     "execution_count": 68,
     "metadata": {},
     "output_type": "execute_result"
    }
   ],
   "source": [
    "excur_montania(amigos = [\"Pepe\", \"Juan\"], tiempo = True)"
   ]
  },
  {
   "cell_type": "code",
   "execution_count": 66,
   "metadata": {},
   "outputs": [
    {
     "data": {
      "text/plain": [
       "'Pepe'"
      ]
     },
     "execution_count": 66,
     "metadata": {},
     "output_type": "execute_result"
    }
   ],
   "source": [
    "excur_montania(tiempo = True, amigos = [\"Pepe\", \"Juan\"])"
   ]
  },
  {
   "cell_type": "markdown",
   "metadata": {},
   "source": [
    "## 2. Argumentos posicionales\n",
    "Ya sabes cómo crear funciones con un solo argumento. Tendrás la opción de implementarlas con todos los argumentos que quieras. Ahora bien, ten en cuenta dos cosas:\n",
    "\n",
    "1. **El orden** de los argumentos. Cuando llamemos a la función, tenemos que seguir el mismo orden de argumentos que en la declaración de la función.\n",
    "2. **Son obligatorios**. Si los declaramos en la función, después al llamarla, tenemos que poner todos sus argumentos. Luego veremos que hay una manera de poner argumentos opcionales."
   ]
  },
  {
   "cell_type": "code",
   "execution_count": 61,
   "metadata": {},
   "outputs": [
    {
     "data": {
      "text/plain": [
       "84.0"
      ]
     },
     "execution_count": 61,
     "metadata": {},
     "output_type": "execute_result"
    }
   ],
   "source": [
    "def multiplica(x1, x2, x3, x4):\n",
    "    return (x1 * x2 * x3)/x4\n",
    "\n",
    "multiplica(4,6,7,2)\n",
    "multiplica(x1=4, x2=6, x3=7, x4=2)"
   ]
  },
  {
   "cell_type": "markdown",
   "metadata": {},
   "source": [
    "Fijate que los argumentos siguen un determinado orden: x1, x2, x3, x4. Cuando llamamos a la función, introduciremos 4 argumentos y la función los recogerá en ese orden. Asignará 4 a x1, 6 a x2, etc. Podemos también especificar el nombre del argumento en la llamada, lo que nos permite tener mayor flexibilidad en el orden."
   ]
  },
  {
   "cell_type": "code",
   "execution_count": 64,
   "metadata": {},
   "outputs": [
    {
     "data": {
      "text/plain": [
       "84.0"
      ]
     },
     "execution_count": 64,
     "metadata": {},
     "output_type": "execute_result"
    }
   ],
   "source": [
    "multiplica(\n",
    "            x2 = 6,\n",
    "            x4 = 2,\n",
    "            x3 = 7,\n",
    "            x1 = 4)"
   ]
  },
  {
   "cell_type": "markdown",
   "metadata": {},
   "source": [
    "<table align=\"left\">\n",
    " <tr><td width=\"80\"><img src=\"../../imagenes/error.png\" style=\"width:auto;height:auto\"></td>\n",
    "     <td style=\"text-align:left\">\n",
    "         <h3>ERRORES Traza del error dentro de la función</h3>\n",
    "         \n",
    " </td></tr>\n",
    "</table>"
   ]
  },
  {
   "cell_type": "code",
   "execution_count": 69,
   "metadata": {},
   "outputs": [
    {
     "ename": "ZeroDivisionError",
     "evalue": "division by zero",
     "output_type": "error",
     "traceback": [
      "\u001b[1;31m---------------------------------------------------------------------------\u001b[0m",
      "\u001b[1;31mZeroDivisionError\u001b[0m                         Traceback (most recent call last)",
      "\u001b[1;32m<ipython-input-69-1b0019e7809f>\u001b[0m in \u001b[0;36m<module>\u001b[1;34m\u001b[0m\n\u001b[1;32m----> 1\u001b[1;33m \u001b[0mmultiplica\u001b[0m\u001b[1;33m(\u001b[0m\u001b[0mx2\u001b[0m \u001b[1;33m=\u001b[0m \u001b[1;36m6\u001b[0m\u001b[1;33m,\u001b[0m \u001b[0mx1\u001b[0m \u001b[1;33m=\u001b[0m \u001b[1;36m4\u001b[0m\u001b[1;33m,\u001b[0m\u001b[0mx3\u001b[0m \u001b[1;33m=\u001b[0m \u001b[1;36m7\u001b[0m\u001b[1;33m,\u001b[0m\u001b[0mx4\u001b[0m \u001b[1;33m=\u001b[0m\u001b[1;36m0\u001b[0m\u001b[1;33m)\u001b[0m\u001b[1;33m\u001b[0m\u001b[1;33m\u001b[0m\u001b[0m\n\u001b[0m",
      "\u001b[1;32m<ipython-input-61-67a722d8c45f>\u001b[0m in \u001b[0;36mmultiplica\u001b[1;34m(x1, x2, x3, x4)\u001b[0m\n\u001b[0;32m      1\u001b[0m \u001b[1;32mdef\u001b[0m \u001b[0mmultiplica\u001b[0m\u001b[1;33m(\u001b[0m\u001b[0mx1\u001b[0m\u001b[1;33m,\u001b[0m \u001b[0mx2\u001b[0m\u001b[1;33m,\u001b[0m \u001b[0mx3\u001b[0m\u001b[1;33m,\u001b[0m \u001b[0mx4\u001b[0m\u001b[1;33m)\u001b[0m\u001b[1;33m:\u001b[0m\u001b[1;33m\u001b[0m\u001b[1;33m\u001b[0m\u001b[0m\n\u001b[1;32m----> 2\u001b[1;33m     \u001b[1;32mreturn\u001b[0m \u001b[1;33m(\u001b[0m\u001b[0mx1\u001b[0m \u001b[1;33m*\u001b[0m \u001b[0mx2\u001b[0m \u001b[1;33m*\u001b[0m \u001b[0mx3\u001b[0m\u001b[1;33m)\u001b[0m\u001b[1;33m/\u001b[0m\u001b[0mx4\u001b[0m\u001b[1;33m\u001b[0m\u001b[1;33m\u001b[0m\u001b[0m\n\u001b[0m\u001b[0;32m      3\u001b[0m \u001b[1;33m\u001b[0m\u001b[0m\n\u001b[0;32m      4\u001b[0m \u001b[0mmultiplica\u001b[0m\u001b[1;33m(\u001b[0m\u001b[1;36m4\u001b[0m\u001b[1;33m,\u001b[0m\u001b[1;36m6\u001b[0m\u001b[1;33m,\u001b[0m\u001b[1;36m7\u001b[0m\u001b[1;33m,\u001b[0m\u001b[1;36m2\u001b[0m\u001b[1;33m)\u001b[0m\u001b[1;33m\u001b[0m\u001b[1;33m\u001b[0m\u001b[0m\n\u001b[0;32m      5\u001b[0m \u001b[0mmultiplica\u001b[0m\u001b[1;33m(\u001b[0m\u001b[0mx1\u001b[0m\u001b[1;33m=\u001b[0m\u001b[1;36m4\u001b[0m\u001b[1;33m,\u001b[0m \u001b[0mx2\u001b[0m\u001b[1;33m=\u001b[0m\u001b[1;36m6\u001b[0m\u001b[1;33m,\u001b[0m \u001b[0mx3\u001b[0m\u001b[1;33m=\u001b[0m\u001b[1;36m7\u001b[0m\u001b[1;33m,\u001b[0m \u001b[0mx4\u001b[0m\u001b[1;33m=\u001b[0m\u001b[1;36m2\u001b[0m\u001b[1;33m)\u001b[0m\u001b[1;33m\u001b[0m\u001b[1;33m\u001b[0m\u001b[0m\n",
      "\u001b[1;31mZeroDivisionError\u001b[0m: division by zero"
     ]
    }
   ],
   "source": [
    "multiplica(x2 = 6, x1 = 4,x3 = 7,x4 =0)"
   ]
  },
  {
   "cell_type": "markdown",
   "metadata": {},
   "source": [
    "Fijate que aparece toda la traza del error, tanto la línea donde llamas a la función, como el error dentro de la función. Podemos solventar el error, introduciendo un bloque `try/except`"
   ]
  },
  {
   "cell_type": "code",
   "execution_count": 70,
   "metadata": {},
   "outputs": [
    {
     "name": "stdout",
     "output_type": "stream",
     "text": [
      "<class 'ZeroDivisionError'>\n",
      "Ha habido un error\n"
     ]
    }
   ],
   "source": [
    "\n",
    "try:\n",
    "    multiplica(x2 = 6, x1 = 4,x3 = 7,x4 =0)\n",
    "    \n",
    "except ZeroDivisionError:\n",
    "    print(ZeroDivisionError)\n",
    "    print(\"Ha habido un error\")"
   ]
  },
  {
   "cell_type": "markdown",
   "metadata": {},
   "source": [
    "## 3. Argumentos variables\n",
    "En los ejemplos anteriores teníamos que fijar un número concreto de argumentos, pero hay ocasiones que no tenemos seguro cuántos argumentos son. Por suerte, las funciones de Python nos aportan esa flexibilidad mediante `*`\n",
    "\n",
    "Veamos cómo implementar una función multiplicadora con numero variable de argumentos"
   ]
  },
  {
   "cell_type": "code",
   "execution_count": 72,
   "metadata": {},
   "outputs": [
    {
     "name": "stdout",
     "output_type": "stream",
     "text": [
      "30\n",
      "aaaaaaaaaaaaaaaaaaaaaaaaaaaaaaaaaaaaaaaaaaaaaaaaaaaaaaaaaaaaaaaaaaaaaaaaaaaaaaaaaaaaaaaaaaaaaaaaaaaaaaaaaaaaaaaaaaaaaaaaaaaaaaaaaaaaaaaaaaaaaaaaaaaaaaaaaaaaaaaaaaaaaaaaaaaaaaaaaaaaaaaaaaaaaaaaaaaaaaaaaaaaaaaaaaaaaaaaaaaaaaaaaaaaaaaaaaaaaaaaaaaaaaaaaaaaaaaaaaaaaaaaaaaaaaaaaaaaaaaaaaaaaaaaaaaaaaaaaaaaaaaaaaaaaaaaaaaaaaaaaaaaaaaaaaaaaaaaaaaaaaaaaaaaaaaaaaaaaaaaaaaaaaaaaaaaaaaaaaaaaaaaaaaaaaaaaaaaaaaaaaaaaaaaaaaaaaaaaaaaaaaaaaaaaaaaaaaaaaaaaaaaaaaaaaaaaaaaaaaaaaaaaaaaaaaaaaaaaaaaaaaaaaaaaaaaaaaaaaaaaaaaaaaaaaaaaaaaaaaaaaaaaaaaaaaaaaaaaaaaaaaaaaaaaaaaaaaaaaaaaaaaaaaaaaaaaaaaaaaaaaaaaaaaaaaaaaaaaaaaaaaaaaaaaaaaaaaaaaaaaaaaaaaaaaaaaaaaaaaaaaaaaaaaaaaaaaaaaaaaaaaaaaaaaaaaaaaaaaaaaaaaaaaaaaaaaaaaaaaaaaaaaaaaaaaaaaaaaaaa\n",
      "720\n"
     ]
    }
   ],
   "source": [
    "def multiplica_variable(*args):\n",
    "    #print(args)\n",
    "    #print(type(args))\n",
    "    mult_tot = 1\n",
    "    \n",
    "    for i in args:\n",
    "        mult_tot = mult_tot * i\n",
    "        \n",
    "    return mult_tot\n",
    "\n",
    "print(multiplica_variable(2,5,3))\n",
    "print(multiplica_variable(2,5,4,6,3,4))\n",
    "print(multiplica_variable(2,5,3,2,3,4))"
   ]
  },
  {
   "cell_type": "markdown",
   "metadata": {},
   "source": [
    "Ten en cuenta que `*args` es algo variable con X elementos. Como no sabemos a priori cuantos son, tendremos que recorrerlos con un `for`, y para cada argumento, aplicarle una operación. Por tanto, `*args` es un iterable, en concreto una **tupla**.\n",
    "\n",
    "Puedes combinar argumentos posicionales con los `*args`"
   ]
  },
  {
   "cell_type": "code",
   "execution_count": 75,
   "metadata": {},
   "outputs": [
    {
     "data": {
      "text/plain": [
       "60.0"
      ]
     },
     "execution_count": 75,
     "metadata": {},
     "output_type": "execute_result"
    }
   ],
   "source": [
    "def multiplica_variable_div(*args, div):\n",
    "\n",
    "    mult_tot = 1\n",
    "    \n",
    "    for i in args:\n",
    "        mult_tot = mult_tot * i\n",
    "        \n",
    "    return mult_tot/div\n",
    "\n",
    "multiplica_variable_div(2,5,3,4, div=2)"
   ]
  },
  {
   "cell_type": "markdown",
   "metadata": {},
   "source": [
    "<table align=\"left\">\n",
    " <tr><td width=\"80\"><img src=\"../../imagenes/error.png\" style=\"width:auto;height:auto\"></td>\n",
    "     <td style=\"text-align:left\">\n",
    "         <h3>ERRORES con argumentos variables</h3>\n",
    "         \n",
    " </td></tr>\n",
    "</table>"
   ]
  },
  {
   "cell_type": "markdown",
   "metadata": {},
   "source": [
    "Declara los argumentos variables al principio, y los fijos al final para evitar errores. Además, si los combinas, tendrás que concretar cuáles son los argumentos fijos"
   ]
  },
  {
   "cell_type": "code",
   "execution_count": 76,
   "metadata": {},
   "outputs": [
    {
     "ename": "TypeError",
     "evalue": "multiplica_variable_div() missing 1 required keyword-only argument: 'div'",
     "output_type": "error",
     "traceback": [
      "\u001b[1;31m---------------------------------------------------------------------------\u001b[0m",
      "\u001b[1;31mTypeError\u001b[0m                                 Traceback (most recent call last)",
      "\u001b[1;32m<ipython-input-76-92a6e5b7db9e>\u001b[0m in \u001b[0;36m<module>\u001b[1;34m\u001b[0m\n\u001b[1;32m----> 1\u001b[1;33m \u001b[0mmultiplica_variable_div\u001b[0m\u001b[1;33m(\u001b[0m\u001b[1;36m2\u001b[0m\u001b[1;33m,\u001b[0m\u001b[1;36m5\u001b[0m\u001b[1;33m,\u001b[0m\u001b[1;36m3\u001b[0m\u001b[1;33m,\u001b[0m\u001b[1;36m4\u001b[0m\u001b[1;33m)\u001b[0m\u001b[1;33m\u001b[0m\u001b[1;33m\u001b[0m\u001b[0m\n\u001b[0m",
      "\u001b[1;31mTypeError\u001b[0m: multiplica_variable_div() missing 1 required keyword-only argument: 'div'"
     ]
    }
   ],
   "source": [
    "multiplica_variable_div(2,5,3,4)"
   ]
  },
  {
   "cell_type": "markdown",
   "metadata": {},
   "source": [
    "<table align=\"left\">\n",
    " <tr><td width=\"80\"><img src=\"../../imagenes/ejercicio.png\" style=\"width:auto;height:auto\"></td>\n",
    "     <td style=\"text-align:left\">\n",
    "         <h3>Ejercicio argumentos variables</h3>\n",
    "Crea una función que reciba un número variable de marcas de coche, las concatene todas separandolas por comas, y devuelva ese string concatenado (sin espacios, solo separados por coma)\n",
    "         \n",
    " </td></tr>\n",
    "</table>"
   ]
  },
  {
   "cell_type": "code",
   "execution_count": 105,
   "metadata": {},
   "outputs": [
    {
     "data": {
      "text/plain": [
       "'mazda,BMW,VW'"
      ]
     },
     "execution_count": 105,
     "metadata": {},
     "output_type": "execute_result"
    }
   ],
   "source": [
    "def marcas_coche(*marcas):\n",
    "    marcas1=str()\n",
    "    n = len(marcas)\n",
    "    \n",
    "    for i in range(len(marcas)):\n",
    "        if i < n-1:\n",
    "            marcas1 = marcas1 + marcas[i] + \",\"\n",
    "        else:\n",
    "            marcas1 = marcas1 + marcas[i]\n",
    "        \n",
    "    return marcas1\n",
    "\n",
    "marcas_coche(\"mazda\", \"BMW\", \"VW\")"
   ]
  },
  {
   "cell_type": "code",
   "execution_count": 84,
   "metadata": {},
   "outputs": [
    {
     "data": {
      "text/plain": [
       "'mazda, BMW, VW'"
      ]
     },
     "execution_count": 84,
     "metadata": {},
     "output_type": "execute_result"
    }
   ],
   "source": [
    "', '.join([\"mazda\", \"BMW\", \"VW\"])\n"
   ]
  },
  {
   "cell_type": "code",
   "execution_count": 96,
   "metadata": {},
   "outputs": [
    {
     "data": {
      "text/plain": [
       "<function __main__.marcas_coche(*marcas)>"
      ]
     },
     "execution_count": 96,
     "metadata": {},
     "output_type": "execute_result"
    }
   ],
   "source": [
    "marcas_coche(\"mazda\", \"BMW\", \"VW\")"
   ]
  },
  {
   "cell_type": "markdown",
   "metadata": {},
   "source": [
    "### Argumentos variables con clave-valor\n",
    "Tenemos también la opción de introducir un diccionario como argumentos, de esta forma, aunque el numero de argumentos sea variable, tendremos un inidicador, la clave, y el valor de cada clave. Se implementa con `**`"
   ]
  },
  {
   "cell_type": "code",
   "execution_count": 106,
   "metadata": {},
   "outputs": [
    {
     "name": "stdout",
     "output_type": "stream",
     "text": [
      "Camara = 24MPx\n",
      "Bateria = 10\n",
      "Peso = 200\n"
     ]
    }
   ],
   "source": [
    "def movil(**kwargs):\n",
    "    #print(type(kwargs))\n",
    "    #print(kwargs)\n",
    "    \n",
    "    for key, value in kwargs.items():\n",
    "        print(key,\"=\",value)\n",
    "    \n",
    "movil(Camara = \"24MPx\",\n",
    "     Bateria = 10,\n",
    "     Peso = 200)"
   ]
  },
  {
   "cell_type": "markdown",
   "metadata": {},
   "source": [
    "### Combinar `*args` con `**kwargs`\n",
    "No hay ningun problema en tener un numero variable de argumentos y también argumentos clave-valor, todo ello en la misma función."
   ]
  },
  {
   "cell_type": "code",
   "execution_count": 39,
   "metadata": {},
   "outputs": [
    {
     "name": "stdout",
     "output_type": "stream",
     "text": [
      "Tipo de args: <class 'tuple'>\n",
      "Movil bueno\n",
      "Le dura la bateria\n",
      "Camara = 24MPx\n",
      "Bateria = 10\n",
      "Peso = 200\n"
     ]
    }
   ],
   "source": [
    "def movil(*args, **kwargs):\n",
    "    \n",
    "    print(\"Tipo de args:\", type(args))\n",
    "    for i in args:\n",
    "        print(i)\n",
    "    \n",
    "    for key, value in kwargs.items():\n",
    "        print(key,\"=\",value)\n",
    "    \n",
    "movil(\n",
    "     \"Movil bueno\",\n",
    "     \"Le dura la bateria\",\n",
    "     Camara = \"24MPx\",\n",
    "     Bateria = 10,\n",
    "     Peso = 200)\n",
    "\n"
   ]
  },
  {
   "cell_type": "markdown",
   "metadata": {},
   "source": [
    "## 4. Argumentos keyword\n",
    "Existe otro tipo de argumentos que son los *keyword*. Se caracterizan porque llevan un valor por defecto, y por tanto, si no usamos dicho argumento en la llamada, dentro de la función tomará el valor que que hayamos dejado por defecto.\n",
    "\n",
    "Ten en cuenta que estos argumentos se colocan **al final**"
   ]
  },
  {
   "cell_type": "code",
   "execution_count": 41,
   "metadata": {},
   "outputs": [
    {
     "name": "stdout",
     "output_type": "stream",
     "text": [
      "su pedido AAA se entregará el 2020-07-02\n",
      "Contacte con att. al cliente\n"
     ]
    }
   ],
   "source": [
    "def venta_online(pedido, fecha_entrega, incidencia = False):\n",
    "    if incidencia:\n",
    "        print(\"Contacte con att. al cliente\")\n",
    "    else:\n",
    "        print(\"su pedido\", pedido, \"se entregará el\", fecha_entrega)\n",
    "        \n",
    "venta_online(\"AAA\", \"2020-07-02\")\n",
    "venta_online(\"BBB\", \"2020-07-02\", True)"
   ]
  },
  {
   "cell_type": "code",
   "execution_count": 108,
   "metadata": {},
   "outputs": [
    {
     "data": {
      "text/plain": [
       "['3', '2', '1']"
      ]
     },
     "execution_count": 108,
     "metadata": {},
     "output_type": "execute_result"
    }
   ],
   "source": [
    "lista = ['1', '2', '3']\n",
    "\n",
    "sorted(lista, reverse=True)\n",
    "sorted(lista)"
   ]
  },
  {
   "cell_type": "markdown",
   "metadata": {},
   "source": [
    "<table align=\"left\">\n",
    " <tr><td width=\"80\"><img src=\"../../imagenes/error.png\" style=\"width:auto;height:auto\"></td>\n",
    "     <td style=\"text-align:left\">\n",
    "         <h3>ERRORES con argumentos keyword</h3>\n",
    "         \n",
    " </td></tr>\n",
    "</table>"
   ]
  },
  {
   "cell_type": "code",
   "execution_count": 111,
   "metadata": {},
   "outputs": [
    {
     "ename": "SyntaxError",
     "evalue": "non-default argument follows default argument (<ipython-input-111-5d3626dd7394>, line 1)",
     "output_type": "error",
     "traceback": [
      "\u001b[1;36m  File \u001b[1;32m\"<ipython-input-111-5d3626dd7394>\"\u001b[1;36m, line \u001b[1;32m1\u001b[0m\n\u001b[1;33m    def venta_online(pedido, incidencia = False, fecha_entrega):\u001b[0m\n\u001b[1;37m                     ^\u001b[0m\n\u001b[1;31mSyntaxError\u001b[0m\u001b[1;31m:\u001b[0m non-default argument follows default argument\n"
     ]
    }
   ],
   "source": [
    "def venta_online(pedido, incidencia = False, fecha_entrega):\n",
    "    if incidencia:\n",
    "        print(\"Contacte con att. al cliente\")\n",
    "    else:\n",
    "        print(\"su pedido\", pedido, \"se entregará el\", fecha_entrega)"
   ]
  },
  {
   "cell_type": "markdown",
   "metadata": {},
   "source": [
    "## 5. Recursividad\n",
    "Una función se puede llamar a si misma en la propia declaración, como si de un bucle se tratase. Es un concepto algo complejo, pero normalmente más eficiente y elegante a la hora de implementar nuestros programas. La única parte negativa es que cuesta un poco comprender qué es lo que hace la función. Como todo, tiene sus ventajas y sus inconvenientes.\n",
    "\n",
    "Calculemos el factorial de un numero *n!*"
   ]
  },
  {
   "cell_type": "code",
   "execution_count": 7,
   "metadata": {},
   "outputs": [
    {
     "data": {
      "text/plain": [
       "6"
      ]
     },
     "execution_count": 7,
     "metadata": {},
     "output_type": "execute_result"
    }
   ],
   "source": [
    "# Por ejemplo, para el 3 sería:\n",
    "3 * 2 * 1"
   ]
  },
  {
   "cell_type": "code",
   "execution_count": 46,
   "metadata": {},
   "outputs": [
    {
     "name": "stdout",
     "output_type": "stream",
     "text": [
      "1\n",
      "2\n",
      "3\n",
      "6\n"
     ]
    }
   ],
   "source": [
    "num_factorial = 3\n",
    "\n",
    "output = 1\n",
    "for i in range(num_factorial):\n",
    "    output = output * (i + 1)\n",
    "    print(i + 1)\n",
    "\n",
    "print(output)"
   ]
  },
  {
   "cell_type": "code",
   "execution_count": 48,
   "metadata": {},
   "outputs": [
    {
     "name": "stdout",
     "output_type": "stream",
     "text": [
      "6\n"
     ]
    }
   ],
   "source": [
    "def factorial(x):\n",
    "    if x == 1:\n",
    "        return 1\n",
    "    else:\n",
    "        return (x * factorial(x - 1))\n",
    "\n",
    "print(factorial(3))"
   ]
  },
  {
   "cell_type": "code",
   "execution_count": null,
   "metadata": {},
   "outputs": [],
   "source": [
    "# Llamamos con 3\n",
    "# Return 3 * factorial(2)\n",
    "# 2 * factorial(1)\n",
    "# factorial(1) = 1\n",
    "# TOTAL: 3 * factorial(2) * factorial(1)"
   ]
  },
  {
   "cell_type": "markdown",
   "metadata": {},
   "source": [
    "![imagen](../../imagenes/factorial.png)\n",
    "\n",
    "[Ejemplo paso a paso de cómo se calcula un factorial mediante funciones recursivas](https://www.programiz.com/python-programming/recursion#:~:text=Following%20is%20an%20example%20of,*5*6%20%3D%20720%20.)"
   ]
  },
  {
   "cell_type": "markdown",
   "metadata": {},
   "source": [
    "## 6. Documentar funciones\n",
    "Como ya vimos en el primer Notebook, hay que documentar el código en la medida de lo posible. En particular, es necesario documentar bien las funciones. porque muchas veces las importamos de otro sitio, las usamos porque funcionan, pero no sabemos muy bien que hacen. Es por ello, que en Python existe un atributo dentro de las funciones, módulos, métodos o clases, que permite acceder a \"sus comentarios\", a su documentación, donde nos indica qué es lo que hace.\n",
    "\n",
    "Este atributo especial se llama *docstring*, y se accede mediante `nombre_funcion.__doc__`"
   ]
  },
  {
   "cell_type": "code",
   "execution_count": 113,
   "metadata": {},
   "outputs": [
    {
     "name": "stdout",
     "output_type": "stream",
     "text": [
      "6\n"
     ]
    }
   ],
   "source": [
    "def multiplica(x,y):\n",
    "    '''\n",
    "    Funcion que multiplica los dos argumentos\n",
    "    Inputs:\n",
    "        x: float\n",
    "        y: float\n",
    "    \n",
    "    Output:\n",
    "        x * y: float\n",
    "    '''\n",
    "    # Otro comentario\n",
    "    return x * y\n",
    "\n",
    "print(multiplica(2,3))\n",
    "# print(multiplica.__doc__)"
   ]
  },
  {
   "cell_type": "code",
   "execution_count": 115,
   "metadata": {},
   "outputs": [
    {
     "name": "stdout",
     "output_type": "stream",
     "text": [
      "\n",
      "    Funcion que multiplica los dos argumentos\n",
      "    Inputs:\n",
      "        x: float\n",
      "        y: float\n",
      "    \n",
      "    Output:\n",
      "        x * y: float\n",
      "    \n"
     ]
    }
   ],
   "source": [
    "print(multiplica.__doc__)"
   ]
  },
  {
   "cell_type": "markdown",
   "metadata": {},
   "source": [
    "Los comentarios que se ponen pueden ser de línea o multilínea. Para funciones sencillas puede ser suficiente con una sola línea de comentario, pero si fuesen más complejas, el *docstring* debería llevar la siguiente información:\n",
    "* Descripción de la función\n",
    "* Argumentos de entrada: nombre, tipos y qué es lo que hacen\n",
    "* Argumentos de salida: nombre, tipos y qué son"
   ]
  },
  {
   "cell_type": "markdown",
   "metadata": {},
   "source": [
    "## 7. Resumen"
   ]
  },
  {
   "cell_type": "code",
   "execution_count": 1,
   "metadata": {},
   "outputs": [
    {
     "name": "stdout",
     "output_type": "stream",
     "text": [
      "1.24\n",
      "3.1\n",
      "6.2\n",
      "<class 'tuple'>\n",
      "<class 'dict'>\n",
      "Camara = 24MPx\n",
      "Bateria = 10\n",
      "Peso = 200\n",
      "{'Camara': '24MPx', 'Bateria': 10, 'Peso': 200}\n",
      "Su pedido AAA se entregará el 20-07-2020\n",
      "Contacte con Att. Cliente\n",
      "Empieza la funcion\n",
      "4\n",
      "\n",
      "    Funcion que multiplca los dos argumentos: x*y\n",
      "    \n"
     ]
    }
   ],
   "source": [
    "# Una funcion tiene la siguiente sintaxis\n",
    "def km_millas(distancia):\n",
    "    millas = distancia * 0.62\n",
    "    return millas\n",
    "\n",
    "# La podemos llamar cuántas veces queramos\n",
    "print(km_millas(2))\n",
    "print(km_millas(5))\n",
    "print(km_millas(10))\n",
    "\n",
    "# Las funciones pueden tener argumentos posicionales\n",
    "def multipl(x1, x2, x3, x4):\n",
    "    return (x1 * x2 * x3) / x4\n",
    "\n",
    "multipl(4,6,7,2)\n",
    "\n",
    "# Argumentos variables\n",
    "def multipl_var(*args):\n",
    "    print(type(args))\n",
    "    mult_tot = 1\n",
    "    \n",
    "    for i in args:\n",
    "        mult_tot = mult_tot * i\n",
    "        \n",
    "    return mult_tot\n",
    "\n",
    "\n",
    "multipl_var(4,5,6,3)\n",
    "\n",
    "\n",
    "# Argumentos con formato clave valor\n",
    "def movil(**kwargs):\n",
    "    \n",
    "    print(type(kwargs))\n",
    "    for key, value in kwargs.items():\n",
    "        print(key, \"=\", value)\n",
    "        \n",
    "    return kwargs\n",
    "\n",
    "# Llamamos a la funcion\n",
    "print(movil(Camara = \"24MPx\",\n",
    "           Bateria = 10,\n",
    "           Peso = 200))\n",
    "\n",
    "\n",
    "# Argumentos keyword\n",
    "def venta_online(pedido, fecha_entrega, incidencia = False):\n",
    "    \n",
    "    if(incidencia):\n",
    "        print(\"Contacte con Att. Cliente\")\n",
    "        \n",
    "    else:\n",
    "        print(\"Su pedido\", pedido, \"se entregará el\", fecha_entrega)\n",
    "        \n",
    "venta_online(\"AAA\", \"20-07-2020\")\n",
    "venta_online(\"AAA\", \"20-07-2020\", True)\n",
    "\n",
    "\n",
    "\n",
    "# Las funciones se documentan con el atributo docstring\n",
    "def multiplica(x,y):\n",
    "    \"\"\"\n",
    "    Funcion que multiplca los dos argumentos: x*y\n",
    "    \"\"\"\n",
    "    print(\"Empieza la funcion\")\n",
    "    # Mas comentarios\n",
    "    \n",
    "    return x*y\n",
    "\n",
    "print(multiplica(2,2))\n",
    "print(multiplica.__doc__)"
   ]
  }
 ],
 "metadata": {
  "kernelspec": {
   "display_name": "Python 3",
   "language": "python",
   "name": "python3"
  },
  "language_info": {
   "codemirror_mode": {
    "name": "ipython",
    "version": 3
   },
   "file_extension": ".py",
   "mimetype": "text/x-python",
   "name": "python",
   "nbconvert_exporter": "python",
   "pygments_lexer": "ipython3",
   "version": "3.8.3"
  }
 },
 "nbformat": 4,
 "nbformat_minor": 4
}
