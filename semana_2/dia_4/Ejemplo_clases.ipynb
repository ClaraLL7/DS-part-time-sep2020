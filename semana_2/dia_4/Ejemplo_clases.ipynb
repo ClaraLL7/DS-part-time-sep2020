{
 "cells": [
  {
   "cell_type": "markdown",
   "metadata": {},
   "source": [
    "# Ejemplo de clases: Juego Pokémon"
   ]
  },
  {
   "cell_type": "markdown",
   "metadata": {},
   "source": [
    "En este ejemplo, crearemos nuestra clase básica Pokémon, que tendrá sus atributos y funciones, comunes a todos los pokémons."
   ]
  },
  {
   "cell_type": "code",
   "execution_count": 1,
   "metadata": {},
   "outputs": [],
   "source": [
    "# Necesitaremos un diccionario con las razas de pokemons y sus tipos, así como sus stats base:\n",
    "POKES = {'bulbasaur': {'ps': 100, 'at': 100, 'de': 100, 've': 150, 'tipo': 'pla'}, \n",
    "        'charmander': {'ps': 120, 'at': 150, 'de': 100, 've': 110, 'tipo': 'fue'}, \n",
    "        'squirtle': {'ps': 80, 'at': 80, 'de': 200, 've': 80, 'tipo': 'agu'}}\n",
    "\n",
    "# También nos crearemos un diccionario con la efectividad de los tips:\n",
    "EFECTIVIDAD = {'pla': {'agu': 2, 'fue': 0.5},\n",
    "              'fue': {'pla': 2, 'agu': 0.5},\n",
    "              'agu': {'fue': 2, 'pla': 0.5}}\n"
   ]
  },
  {
   "cell_type": "code",
   "execution_count": 2,
   "metadata": {},
   "outputs": [],
   "source": [
    "import random\n",
    "\n",
    "\n",
    "\n",
    "class Pokemon:\n",
    "\n",
    "    # Constructor de la clase\n",
    "    def __init__(self, nombre, raza, nivel):\n",
    "        # Atributos:\n",
    "        self.nombre = nombre\n",
    "        self.raza = raza\n",
    "        self.raza_pokemon = POKES[raza]\n",
    "        self.nivel = int(nivel)\n",
    "        # Para darle importancia al nivel, multiplicamos los stats por un valor\n",
    "        self.ps = int(self.raza_pokemon['ps'] * nivel/10)\n",
    "        self.ataque = int(self.raza_pokemon['at'] * nivel/10)\n",
    "        self.defensa = int(self.raza_pokemon['de'] * nivel/10)\n",
    "        self.velocidad = int(self.raza_pokemon['ve'] * nivel/10)\n",
    "        self.tipo = self.raza_pokemon['tipo']\n",
    "    \n",
    "    def ataca(self, pokemon_rival):\n",
    "        efectividad = EFECTIVIDAD[self.tipo].get(pokemon_rival.tipo, 1)\n",
    "        ataque = int(self.ataque * random.random() * 10 / pokemon_rival.defensa * efectividad)\n",
    "        pokemon_rival.ps = max(pokemon_rival.ps - ataque, 0)\n",
    "        print(f\"El ataque de {self.nombre} es de {ataque} puntos.\")\n",
    "        if pokemon_rival.ps <= 0:\n",
    "            pokemon_rival.muere()\n",
    "            # Esta función indicará al bucle de ejecución principal si se termina la batalla\n",
    "            return True\n",
    "        else:\n",
    "            print(f\"{pokemon_rival.nombre.title()} se ha quedado a {pokemon_rival.ps} puntos de vida\")\n",
    "            return False\n",
    "    \n",
    "    def cura(self):\n",
    "        ps_recuperado = int(20 * random(0, 5))\n",
    "        self.ps = self.ps + ps_recuperado\n",
    "        print(f\"{self.nombre.title()} ha recuperado {ps_recuperado} puntos de vida\")\n",
    "            \n",
    "    def muere(self):\n",
    "        print(f\"Oh, no. Parece que {self.nombre} ha perdido todos sus puntos de vida.\")\n",
    "        \n",
    "    # Además, vamos a darle una interfaz chula para conocer los stats de nuestro poke:\n",
    "    def get_stats(self):\n",
    "        print(f\"{self.nombre} ({self.raza})\")\n",
    "        print(f\"\\tPS:\\t{self.ps}\")\n",
    "        print(f\"\\tAT:\\t{self.ataque}\")\n",
    "        print(f\"\\tDE:\\t{self.defensa}\")\n",
    "        print(f\"\\tVE:\\t{self.velocidad}\")\n",
    "        print(f\"\\tTipo:\\t{self.tipo}\")\n",
    "        print()\n",
    "    \n",
    "    def revivir(self):\n",
    "        self.ps = self.raza_pokemon['ps'] * self.nivel/10\n",
    "        print(f\"{self.nombre.title()} ha tomado un revivir y está en plenas condiciones con sus {self.ps} puntos de vida. LLévalo a un centro Pokémon.\")\n",
    "        \n",
    "        "
   ]
  },
  {
   "cell_type": "markdown",
   "metadata": {},
   "source": [
    "Una vez definida la estructura del pokemon, pasamos al bucle de ejecución principal:"
   ]
  },
  {
   "cell_type": "code",
   "execution_count": 3,
   "metadata": {},
   "outputs": [],
   "source": [
    "# Instanciamos 2 pokemons:\n",
    "bulbasaur = Pokemon(nombre='Plantita', raza = 'bulbasaur', nivel = 20)\n",
    "charmander = Pokemon(nombre='Bombero', raza = 'charmander', nivel = 20)"
   ]
  },
  {
   "cell_type": "code",
   "execution_count": 4,
   "metadata": {},
   "outputs": [
    {
     "name": "stdout",
     "output_type": "stream",
     "text": [
      "Plantita (bulbasaur)\n",
      "\tPS:\t200\n",
      "\tAT:\t200\n",
      "\tDE:\t200\n",
      "\tVE:\t300\n",
      "\tTipo:\tpla\n",
      "\n",
      "Bombero (charmander)\n",
      "\tPS:\t240\n",
      "\tAT:\t300\n",
      "\tDE:\t200\n",
      "\tVE:\t220\n",
      "\tTipo:\tfue\n",
      "\n"
     ]
    }
   ],
   "source": [
    "# Ahora podemos acceder a los stats de cada pokemon:\n",
    "bulbasaur.get_stats()\n",
    "charmander.get_stats()"
   ]
  },
  {
   "cell_type": "code",
   "execution_count": 5,
   "metadata": {},
   "outputs": [
    {
     "name": "stdout",
     "output_type": "stream",
     "text": [
      "El ataque de Bombero es de 3 puntos.\n",
      "Plantita se ha quedado a 197 puntos de vida\n"
     ]
    },
    {
     "data": {
      "text/plain": [
       "False"
      ]
     },
     "execution_count": 5,
     "metadata": {},
     "output_type": "execute_result"
    }
   ],
   "source": [
    "# Simulamos un ataque de charmander:\n",
    "charmander.ataca(bulbasaur)"
   ]
  },
  {
   "cell_type": "code",
   "execution_count": 6,
   "metadata": {},
   "outputs": [
    {
     "name": "stdout",
     "output_type": "stream",
     "text": [
      "El ataque de Plantita es de 2 puntos.\n",
      "Bombero se ha quedado a 238 puntos de vida\n"
     ]
    },
    {
     "data": {
      "text/plain": [
       "False"
      ]
     },
     "execution_count": 6,
     "metadata": {},
     "output_type": "execute_result"
    }
   ],
   "source": [
    "# Y si hubiera sido al revés?\n",
    "bulbasaur.ataca(charmander)"
   ]
  },
  {
   "cell_type": "markdown",
   "metadata": {},
   "source": [
    "Vamos a revivir a bulbasaur para que sea un poco menos injusto:"
   ]
  },
  {
   "cell_type": "code",
   "execution_count": 7,
   "metadata": {},
   "outputs": [
    {
     "name": "stdout",
     "output_type": "stream",
     "text": [
      "Plantita ha tomado un revivir y está en plenas condiciones con sus 200.0 puntos de vida. LLévalo a un centro Pokémon.\n",
      "Plantita (bulbasaur)\n",
      "\tPS:\t200.0\n",
      "\tAT:\t200\n",
      "\tDE:\t200\n",
      "\tVE:\t300\n",
      "\tTipo:\tpla\n",
      "\n"
     ]
    }
   ],
   "source": [
    "bulbasaur.revivir()\n",
    "bulbasaur.get_stats()"
   ]
  },
  {
   "cell_type": "code",
   "execution_count": 8,
   "metadata": {},
   "outputs": [
    {
     "name": "stdout",
     "output_type": "stream",
     "text": [
      "El ataque de Plantita es de 4 puntos.\n",
      "Bombero se ha quedado a 234 puntos de vida\n",
      "El ataque de Bombero es de 26 puntos.\n",
      "Plantita se ha quedado a 174.0 puntos de vida\n",
      "El ataque de Plantita es de 0 puntos.\n",
      "Bombero se ha quedado a 234 puntos de vida\n",
      "El ataque de Bombero es de 13 puntos.\n",
      "Plantita se ha quedado a 161.0 puntos de vida\n",
      "El ataque de Plantita es de 1 puntos.\n",
      "Bombero se ha quedado a 233 puntos de vida\n",
      "El ataque de Bombero es de 19 puntos.\n",
      "Plantita se ha quedado a 142.0 puntos de vida\n",
      "El ataque de Plantita es de 3 puntos.\n",
      "Bombero se ha quedado a 230 puntos de vida\n",
      "El ataque de Bombero es de 3 puntos.\n",
      "Plantita se ha quedado a 139.0 puntos de vida\n",
      "El ataque de Plantita es de 4 puntos.\n",
      "Bombero se ha quedado a 226 puntos de vida\n",
      "El ataque de Bombero es de 21 puntos.\n",
      "Plantita se ha quedado a 118.0 puntos de vida\n",
      "El ataque de Plantita es de 3 puntos.\n",
      "Bombero se ha quedado a 223 puntos de vida\n",
      "El ataque de Bombero es de 16 puntos.\n",
      "Plantita se ha quedado a 102.0 puntos de vida\n",
      "El ataque de Plantita es de 1 puntos.\n",
      "Bombero se ha quedado a 222 puntos de vida\n",
      "El ataque de Bombero es de 7 puntos.\n",
      "Plantita se ha quedado a 95.0 puntos de vida\n",
      "El ataque de Plantita es de 3 puntos.\n",
      "Bombero se ha quedado a 219 puntos de vida\n",
      "El ataque de Bombero es de 6 puntos.\n",
      "Plantita se ha quedado a 89.0 puntos de vida\n",
      "El ataque de Plantita es de 0 puntos.\n",
      "Bombero se ha quedado a 219 puntos de vida\n",
      "El ataque de Bombero es de 16 puntos.\n",
      "Plantita se ha quedado a 73.0 puntos de vida\n",
      "El ataque de Plantita es de 0 puntos.\n",
      "Bombero se ha quedado a 219 puntos de vida\n",
      "El ataque de Bombero es de 20 puntos.\n",
      "Plantita se ha quedado a 53.0 puntos de vida\n",
      "El ataque de Plantita es de 0 puntos.\n",
      "Bombero se ha quedado a 219 puntos de vida\n",
      "El ataque de Bombero es de 4 puntos.\n",
      "Plantita se ha quedado a 49.0 puntos de vida\n",
      "El ataque de Plantita es de 0 puntos.\n",
      "Bombero se ha quedado a 219 puntos de vida\n",
      "El ataque de Bombero es de 9 puntos.\n",
      "Plantita se ha quedado a 40.0 puntos de vida\n",
      "El ataque de Plantita es de 4 puntos.\n",
      "Bombero se ha quedado a 215 puntos de vida\n",
      "El ataque de Bombero es de 5 puntos.\n",
      "Plantita se ha quedado a 35.0 puntos de vida\n",
      "El ataque de Plantita es de 4 puntos.\n",
      "Bombero se ha quedado a 211 puntos de vida\n",
      "El ataque de Bombero es de 25 puntos.\n",
      "Plantita se ha quedado a 10.0 puntos de vida\n",
      "El ataque de Plantita es de 3 puntos.\n",
      "Bombero se ha quedado a 208 puntos de vida\n",
      "El ataque de Bombero es de 10 puntos.\n",
      "Oh, no. Parece que Plantita ha perdido todos sus puntos de vida.\n"
     ]
    }
   ],
   "source": [
    "# Ahora podemos hacer una lucha:\n",
    "\n",
    "final = False\n",
    "\n",
    "pokemons = [bulbasaur, charmander]\n",
    "while not final:\n",
    "    if pokemons[0].velocidad >= pokemons[1].velocidad:\n",
    "        # Aunque lo pongamos en un if, como estamos ejecutando el método, la interacción se produce y pierde puntos de vida:\n",
    "        # Empieza atacando el más rápido (en caso de empate, vamos con el priemro que hayamos puesto en la lista, no somos legales jajaja)\n",
    "        if pokemons[0].ataca(pokemons[1]):\n",
    "            ganador = pokemons[0]\n",
    "            break\n",
    "        # Luego ataca el otro:\n",
    "        if pokemons[1].ataca(pokemons[0]):\n",
    "            ganador = pokemons[1]\n",
    "            break\n",
    "    else:\n",
    "        if pokemons[1].ataca(pokemons[0]):\n",
    "            ganador = pokemons[0]\n",
    "            break\n",
    "        # Luego ataca el otro:\n",
    "        if pokemons[0].ataca(pokemons[1]):\n",
    "            ganador = pokemons[1]\n",
    "            break\n",
    "            \n",
    "        \n",
    "    "
   ]
  },
  {
   "cell_type": "markdown",
   "metadata": {},
   "source": [
    "# Probemos ahora contra squirtle"
   ]
  },
  {
   "cell_type": "code",
   "execution_count": 9,
   "metadata": {},
   "outputs": [],
   "source": [
    "# Instanciamos 2 pokemons:\n",
    "squirtle = Pokemon(nombre='Tortuguín', raza = 'squirtle', nivel = 15)\n",
    "charmander = Pokemon(nombre='Bombero', raza = 'charmander', nivel = 20)"
   ]
  },
  {
   "cell_type": "code",
   "execution_count": 10,
   "metadata": {},
   "outputs": [
    {
     "name": "stdout",
     "output_type": "stream",
     "text": [
      "Tortuguín (squirtle)\n",
      "\tPS:\t120\n",
      "\tAT:\t120\n",
      "\tDE:\t300\n",
      "\tVE:\t120\n",
      "\tTipo:\tagu\n",
      "\n",
      "Bombero (charmander)\n",
      "\tPS:\t240\n",
      "\tAT:\t300\n",
      "\tDE:\t200\n",
      "\tVE:\t220\n",
      "\tTipo:\tfue\n",
      "\n"
     ]
    }
   ],
   "source": [
    "# Ahora podemos acceder a los stats de cada pokemon:\n",
    "squirtle.get_stats()\n",
    "charmander.get_stats()"
   ]
  },
  {
   "cell_type": "code",
   "execution_count": 11,
   "metadata": {},
   "outputs": [
    {
     "name": "stdout",
     "output_type": "stream",
     "text": [
      "El ataque de Bombero es de 3 puntos.\n",
      "Tortuguín se ha quedado a 117 puntos de vida\n",
      "El ataque de Tortuguín es de 6 puntos.\n",
      "Bombero se ha quedado a 234 puntos de vida\n",
      "El ataque de Bombero es de 3 puntos.\n",
      "Tortuguín se ha quedado a 114 puntos de vida\n",
      "El ataque de Tortuguín es de 10 puntos.\n",
      "Bombero se ha quedado a 224 puntos de vida\n",
      "El ataque de Bombero es de 1 puntos.\n",
      "Tortuguín se ha quedado a 113 puntos de vida\n",
      "El ataque de Tortuguín es de 11 puntos.\n",
      "Bombero se ha quedado a 213 puntos de vida\n",
      "El ataque de Bombero es de 3 puntos.\n",
      "Tortuguín se ha quedado a 110 puntos de vida\n",
      "El ataque de Tortuguín es de 8 puntos.\n",
      "Bombero se ha quedado a 205 puntos de vida\n",
      "El ataque de Bombero es de 0 puntos.\n",
      "Tortuguín se ha quedado a 110 puntos de vida\n",
      "El ataque de Tortuguín es de 0 puntos.\n",
      "Bombero se ha quedado a 205 puntos de vida\n",
      "El ataque de Bombero es de 2 puntos.\n",
      "Tortuguín se ha quedado a 108 puntos de vida\n",
      "El ataque de Tortuguín es de 2 puntos.\n",
      "Bombero se ha quedado a 203 puntos de vida\n",
      "El ataque de Bombero es de 0 puntos.\n",
      "Tortuguín se ha quedado a 108 puntos de vida\n",
      "El ataque de Tortuguín es de 4 puntos.\n",
      "Bombero se ha quedado a 199 puntos de vida\n",
      "El ataque de Bombero es de 2 puntos.\n",
      "Tortuguín se ha quedado a 106 puntos de vida\n",
      "El ataque de Tortuguín es de 9 puntos.\n",
      "Bombero se ha quedado a 190 puntos de vida\n",
      "El ataque de Bombero es de 1 puntos.\n",
      "Tortuguín se ha quedado a 105 puntos de vida\n",
      "El ataque de Tortuguín es de 9 puntos.\n",
      "Bombero se ha quedado a 181 puntos de vida\n",
      "El ataque de Bombero es de 4 puntos.\n",
      "Tortuguín se ha quedado a 101 puntos de vida\n",
      "El ataque de Tortuguín es de 10 puntos.\n",
      "Bombero se ha quedado a 171 puntos de vida\n",
      "El ataque de Bombero es de 0 puntos.\n",
      "Tortuguín se ha quedado a 101 puntos de vida\n",
      "El ataque de Tortuguín es de 0 puntos.\n",
      "Bombero se ha quedado a 171 puntos de vida\n",
      "El ataque de Bombero es de 4 puntos.\n",
      "Tortuguín se ha quedado a 97 puntos de vida\n",
      "El ataque de Tortuguín es de 9 puntos.\n",
      "Bombero se ha quedado a 162 puntos de vida\n",
      "El ataque de Bombero es de 3 puntos.\n",
      "Tortuguín se ha quedado a 94 puntos de vida\n",
      "El ataque de Tortuguín es de 4 puntos.\n",
      "Bombero se ha quedado a 158 puntos de vida\n",
      "El ataque de Bombero es de 0 puntos.\n",
      "Tortuguín se ha quedado a 94 puntos de vida\n",
      "El ataque de Tortuguín es de 6 puntos.\n",
      "Bombero se ha quedado a 152 puntos de vida\n",
      "El ataque de Bombero es de 4 puntos.\n",
      "Tortuguín se ha quedado a 90 puntos de vida\n",
      "El ataque de Tortuguín es de 6 puntos.\n",
      "Bombero se ha quedado a 146 puntos de vida\n",
      "El ataque de Bombero es de 1 puntos.\n",
      "Tortuguín se ha quedado a 89 puntos de vida\n",
      "El ataque de Tortuguín es de 5 puntos.\n",
      "Bombero se ha quedado a 141 puntos de vida\n",
      "El ataque de Bombero es de 2 puntos.\n",
      "Tortuguín se ha quedado a 87 puntos de vida\n",
      "El ataque de Tortuguín es de 1 puntos.\n",
      "Bombero se ha quedado a 140 puntos de vida\n",
      "El ataque de Bombero es de 0 puntos.\n",
      "Tortuguín se ha quedado a 87 puntos de vida\n",
      "El ataque de Tortuguín es de 5 puntos.\n",
      "Bombero se ha quedado a 135 puntos de vida\n",
      "El ataque de Bombero es de 4 puntos.\n",
      "Tortuguín se ha quedado a 83 puntos de vida\n",
      "El ataque de Tortuguín es de 2 puntos.\n",
      "Bombero se ha quedado a 133 puntos de vida\n",
      "El ataque de Bombero es de 1 puntos.\n",
      "Tortuguín se ha quedado a 82 puntos de vida\n",
      "El ataque de Tortuguín es de 7 puntos.\n",
      "Bombero se ha quedado a 126 puntos de vida\n",
      "El ataque de Bombero es de 4 puntos.\n",
      "Tortuguín se ha quedado a 78 puntos de vida\n",
      "El ataque de Tortuguín es de 11 puntos.\n",
      "Bombero se ha quedado a 115 puntos de vida\n",
      "El ataque de Bombero es de 2 puntos.\n",
      "Tortuguín se ha quedado a 76 puntos de vida\n",
      "El ataque de Tortuguín es de 2 puntos.\n",
      "Bombero se ha quedado a 113 puntos de vida\n",
      "El ataque de Bombero es de 0 puntos.\n",
      "Tortuguín se ha quedado a 76 puntos de vida\n",
      "El ataque de Tortuguín es de 1 puntos.\n",
      "Bombero se ha quedado a 112 puntos de vida\n",
      "El ataque de Bombero es de 0 puntos.\n",
      "Tortuguín se ha quedado a 76 puntos de vida\n",
      "El ataque de Tortuguín es de 0 puntos.\n",
      "Bombero se ha quedado a 112 puntos de vida\n",
      "El ataque de Bombero es de 3 puntos.\n",
      "Tortuguín se ha quedado a 73 puntos de vida\n",
      "El ataque de Tortuguín es de 1 puntos.\n",
      "Bombero se ha quedado a 111 puntos de vida\n",
      "El ataque de Bombero es de 3 puntos.\n",
      "Tortuguín se ha quedado a 70 puntos de vida\n",
      "El ataque de Tortuguín es de 5 puntos.\n",
      "Bombero se ha quedado a 106 puntos de vida\n",
      "El ataque de Bombero es de 3 puntos.\n",
      "Tortuguín se ha quedado a 67 puntos de vida\n",
      "El ataque de Tortuguín es de 1 puntos.\n",
      "Bombero se ha quedado a 105 puntos de vida\n",
      "El ataque de Bombero es de 0 puntos.\n",
      "Tortuguín se ha quedado a 67 puntos de vida\n",
      "El ataque de Tortuguín es de 4 puntos.\n",
      "Bombero se ha quedado a 101 puntos de vida\n",
      "El ataque de Bombero es de 0 puntos.\n",
      "Tortuguín se ha quedado a 67 puntos de vida\n",
      "El ataque de Tortuguín es de 11 puntos.\n",
      "Bombero se ha quedado a 90 puntos de vida\n",
      "El ataque de Bombero es de 2 puntos.\n",
      "Tortuguín se ha quedado a 65 puntos de vida\n",
      "El ataque de Tortuguín es de 3 puntos.\n",
      "Bombero se ha quedado a 87 puntos de vida\n",
      "El ataque de Bombero es de 3 puntos.\n",
      "Tortuguín se ha quedado a 62 puntos de vida\n",
      "El ataque de Tortuguín es de 7 puntos.\n",
      "Bombero se ha quedado a 80 puntos de vida\n",
      "El ataque de Bombero es de 0 puntos.\n",
      "Tortuguín se ha quedado a 62 puntos de vida\n",
      "El ataque de Tortuguín es de 1 puntos.\n",
      "Bombero se ha quedado a 79 puntos de vida\n",
      "El ataque de Bombero es de 2 puntos.\n",
      "Tortuguín se ha quedado a 60 puntos de vida\n",
      "El ataque de Tortuguín es de 6 puntos.\n",
      "Bombero se ha quedado a 73 puntos de vida\n",
      "El ataque de Bombero es de 4 puntos.\n",
      "Tortuguín se ha quedado a 56 puntos de vida\n",
      "El ataque de Tortuguín es de 1 puntos.\n",
      "Bombero se ha quedado a 72 puntos de vida\n",
      "El ataque de Bombero es de 0 puntos.\n",
      "Tortuguín se ha quedado a 56 puntos de vida\n",
      "El ataque de Tortuguín es de 6 puntos.\n",
      "Bombero se ha quedado a 66 puntos de vida\n",
      "El ataque de Bombero es de 2 puntos.\n",
      "Tortuguín se ha quedado a 54 puntos de vida\n",
      "El ataque de Tortuguín es de 1 puntos.\n",
      "Bombero se ha quedado a 65 puntos de vida\n",
      "El ataque de Bombero es de 3 puntos.\n",
      "Tortuguín se ha quedado a 51 puntos de vida\n",
      "El ataque de Tortuguín es de 11 puntos.\n",
      "Bombero se ha quedado a 54 puntos de vida\n",
      "El ataque de Bombero es de 1 puntos.\n",
      "Tortuguín se ha quedado a 50 puntos de vida\n",
      "El ataque de Tortuguín es de 5 puntos.\n",
      "Bombero se ha quedado a 49 puntos de vida\n",
      "El ataque de Bombero es de 0 puntos.\n",
      "Tortuguín se ha quedado a 50 puntos de vida\n",
      "El ataque de Tortuguín es de 2 puntos.\n",
      "Bombero se ha quedado a 47 puntos de vida\n",
      "El ataque de Bombero es de 3 puntos.\n",
      "Tortuguín se ha quedado a 47 puntos de vida\n",
      "El ataque de Tortuguín es de 11 puntos.\n",
      "Bombero se ha quedado a 36 puntos de vida\n",
      "El ataque de Bombero es de 1 puntos.\n",
      "Tortuguín se ha quedado a 46 puntos de vida\n",
      "El ataque de Tortuguín es de 1 puntos.\n",
      "Bombero se ha quedado a 35 puntos de vida\n",
      "El ataque de Bombero es de 3 puntos.\n",
      "Tortuguín se ha quedado a 43 puntos de vida\n",
      "El ataque de Tortuguín es de 6 puntos.\n",
      "Bombero se ha quedado a 29 puntos de vida\n",
      "El ataque de Bombero es de 1 puntos.\n",
      "Tortuguín se ha quedado a 42 puntos de vida\n",
      "El ataque de Tortuguín es de 3 puntos.\n",
      "Bombero se ha quedado a 26 puntos de vida\n",
      "El ataque de Bombero es de 2 puntos.\n",
      "Tortuguín se ha quedado a 40 puntos de vida\n",
      "El ataque de Tortuguín es de 3 puntos.\n",
      "Bombero se ha quedado a 23 puntos de vida\n",
      "El ataque de Bombero es de 1 puntos.\n",
      "Tortuguín se ha quedado a 39 puntos de vida\n",
      "El ataque de Tortuguín es de 10 puntos.\n",
      "Bombero se ha quedado a 13 puntos de vida\n",
      "El ataque de Bombero es de 3 puntos.\n",
      "Tortuguín se ha quedado a 36 puntos de vida\n",
      "El ataque de Tortuguín es de 8 puntos.\n",
      "Bombero se ha quedado a 5 puntos de vida\n",
      "El ataque de Bombero es de 1 puntos.\n",
      "Tortuguín se ha quedado a 35 puntos de vida\n",
      "El ataque de Tortuguín es de 0 puntos.\n",
      "Bombero se ha quedado a 5 puntos de vida\n",
      "El ataque de Bombero es de 1 puntos.\n",
      "Tortuguín se ha quedado a 34 puntos de vida\n",
      "El ataque de Tortuguín es de 8 puntos.\n",
      "Oh, no. Parece que Bombero ha perdido todos sus puntos de vida.\n"
     ]
    }
   ],
   "source": [
    "# Ahora podemos hacer una lucha:\n",
    "final = False\n",
    "\n",
    "\n",
    "\n",
    "pokemons = [squirtle, charmander]\n",
    "while not final:\n",
    "    if pokemons[0].velocidad >= pokemons[1].velocidad:\n",
    "        # Aunque lo pongamos en un if, como estamos ejecutando el método, la interacción se produce y pierde puntos de vida:\n",
    "        # Empieza atacando el más rápido (en caso de empate, vamos con el priemro que hayamos puesto en la lista, no somos legales jajaja)\n",
    "        if pokemons[0].ataca(pokemons[1]):\n",
    "            ganador = pokemons[0]\n",
    "            break\n",
    "        # Luego ataca el otro:\n",
    "        if pokemons[1].ataca(pokemons[0]):\n",
    "            ganador = pokemons[1]\n",
    "            break\n",
    "    else:\n",
    "        if pokemons[1].ataca(pokemons[0]):\n",
    "            ganador = pokemons[0]\n",
    "            break\n",
    "        # Luego ataca el otro:\n",
    "        if pokemons[0].ataca(pokemons[1]):\n",
    "            ganador = pokemons[1]\n",
    "            break\n",
    "            \n",
    "        \n",
    "    "
   ]
  },
  {
   "cell_type": "code",
   "execution_count": null,
   "metadata": {},
   "outputs": [],
   "source": []
  }
 ],
 "metadata": {
  "kernelspec": {
   "display_name": "Python 3",
   "language": "python",
   "name": "python3"
  },
  "language_info": {
   "codemirror_mode": {
    "name": "ipython",
    "version": 3
   },
   "file_extension": ".py",
   "mimetype": "text/x-python",
   "name": "python",
   "nbconvert_exporter": "python",
   "pygments_lexer": "ipython3",
   "version": "3.8.3"
  }
 },
 "nbformat": 4,
 "nbformat_minor": 4
}
