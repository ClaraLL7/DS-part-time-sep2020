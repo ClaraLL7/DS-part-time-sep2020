{
 "cells": [
  {
   "cell_type": "markdown",
   "metadata": {},
   "source": [
    "![imagen](../../imagenes/ejercicios.png)\n",
    "\n",
    "# Ejercicios Clases y Objetos"
   ]
  },
  {
   "cell_type": "markdown",
   "metadata": {},
   "source": [
    "## Ejercicio 1\n",
    "Somos una empresa que tiene varias tiendas de electrodomésticos, con ventas en todo el territorio nacional. Necesitamos un programa para manejar las tiendas, ver las ventas que han tenido, cuántos empleados hay, etc... Para ello vamos a modelizar la tienda en una clase, que tendrá las siguientes características:\n",
    "* Nombre clase: \"Tienda\"\n",
    "* Atributos comunes:\n",
    "    * Negocio: \"Electrodomésticos\"\n",
    "    * Abierta: True\n",
    "* Atributos propios de cada tienda:\n",
    "    * Nombre - String\n",
    "    * Dirección - String\n",
    "    * Número de empleados - int\n",
    "    * Ventas ultimos 3 meses - Lista de 3 numeros\n",
    "* Método para calcular las ventas de todos los meses, que devuelva un numero con todas las ventas.\n",
    "* Método que calcula la media de ventas de los ultimos meses, por empleado\n",
    "* Método que devuelve en un string el nombre de la tienda, junto con su dirección.\n",
    "* Método que saca las ventas del último mes.\n",
    "* Método para dar una proyección de las ventas en caso de haber invertido X dinero en marketing en esa tienda. Siendo X el parámetro de entrada. Si X es menor de 1000, las ventas de los ultimos 3 meses hubiesen sido de (1.2 x ventas), si es mayor o igual de 1000, las ventas hubiesen sido de (1.5 x venta). El método reescribe el atributo de ventas en los últimos 3 meses, y además devuelve las ventas con el aumento.\n",
    "\n",
    "Se pide:\n",
    "1. Implementar la clase \"Tienda\"\n",
    "2. Crear tres tiendas con datos inventados\n",
    "3. Comprueba en al menos una de ellas, todo lo implementado en la clase tienda (sus atributos, media de ventas, ventas/empleado...)\n",
    "3. Calcular las ventas del último mes de todas las tiendas. Para ello usa el bucle `for`\n",
    "4. Imprime por pantalla los nombres de las tiendas cuya dirección lleve el string \"Avenida\"\n",
    "5. Seguro que ya has hecho este apartado... Documenta la clase :)"
   ]
  },
  {
   "cell_type": "code",
   "execution_count": 46,
   "metadata": {},
   "outputs": [
    {
     "name": "stdout",
     "output_type": "stream",
     "text": [
      "700000\n",
      "7000.0\n",
      "Nombre: Super Selectos Plaza Mundo\n",
      "Dirección: Boulevard del Ejército\n",
      "325000\n",
      "840000.0\n",
      "[180000.0, 270000.0, 390000.0]\n",
      "1260000.0\n",
      "[270000.0, 405000.0, 585000.0]\n"
     ]
    }
   ],
   "source": [
    "class Tienda:\n",
    "    '''\n",
    "        Clase llamada \"Tienda\" que cuenta con los siguientes atributos propios:\n",
    "        Negocio = Área o giro de la tienda\n",
    "        Abierta = Para saber si está abierta/funcionamiento\n",
    "        Además, esta clase cuenta con un constructor y 5 métodos propios que son:\n",
    "        1. suma_ventas\n",
    "        2. media_ventas\n",
    "        3. info_tienda\n",
    "        4. ventas_ultimo_mes\n",
    "        5. proyeccion_ventas\n",
    "    '''\n",
    "    # Atributos generales de la clase\n",
    "    negocio = \"Electrodomésticos\"\n",
    "    abierta = True\n",
    "    # Constructor para recibir parámetros de entrada\n",
    "    def __init__(self, nombre, direccion, cant_empleados, ventas_tres_meses):\n",
    "        self.nombre = nombre\n",
    "        self.direccion = direccion\n",
    "        self.cant_empleados = cant_empleados\n",
    "        self.ventas = ventas_tres_meses\n",
    "    \n",
    "    # Sumatoria de ventas de todos los meses y que retorna la suma\n",
    "    def suma_ventas(self):\n",
    "        return sum(self.ventas)\n",
    "    \n",
    "    # Media de ventas por empleados\n",
    "    def media_ventas(self):\n",
    "        return self.suma_ventas()/self.cant_empleados\n",
    "    \n",
    "    # Método para retornar información de la tienda, como su nombre y dirección\n",
    "    def info_tienda(self):\n",
    "        return \"Nombre: \" + self.nombre + \"\\nDirección: \" + self.direccion\n",
    "    \n",
    "    def ventas_ultimo_mes(self):\n",
    "        return self.ventas[-1]\n",
    "\n",
    "    def proyeccion_ventas(self, inversion):\n",
    "        '''\n",
    "        Método para dar una proyección de las ventas en caso de haber invertido X dinero en marketing en esa tienda.\n",
    "        Siendo X el parámetro de entrada.\n",
    "        Si X es menor de 1000, las ventas de los ultimos 3 meses hubiesen sido de (1.2 x ventas),\n",
    "        si es mayor o igual de 1000, las ventas hubiesen sido de (1.5 x venta).\n",
    "        El método reescribe el atributo de ventas en los últimos 3 meses, y además devuelve las ventas con el aumento.\n",
    "        '''\n",
    "#         print(self.ventas)\n",
    "        if inversion < 1000:\n",
    "            for i in range(len(self.ventas)):\n",
    "                self.ventas[i] = self.ventas[i] * 1.2\n",
    "        elif inversion >= 1000:\n",
    "            for i in range(len(self.ventas)):\n",
    "                self.ventas[i] = self.ventas[i] * 1.5\n",
    "#         print(self.ventas)\n",
    "        return sum(self.ventas)\n",
    "\n",
    "ss =  Tienda('Super Selectos Plaza Mundo', 'Boulevard del Ejército',100,[150000,225000,325000])\n",
    "print(ss.suma_ventas())\n",
    "print(ss.media_ventas())\n",
    "print(ss.info_tienda())\n",
    "print(ss.ventas_ultimo_mes())\n",
    "print(ss.proyeccion_ventas(900))\n",
    "print(ss.ventas)\n",
    "print(ss.proyeccion_ventas(1890))\n",
    "print(ss.ventas)"
   ]
  },
  {
   "cell_type": "code",
   "execution_count": 47,
   "metadata": {},
   "outputs": [],
   "source": [
    "class Tienda:\n",
    "    negocio = \"Electrodomésticos\"\n",
    "    abierta = True\n",
    "    def __init__(self, nombre, direccion, empleados, ventas=[10, 100, 1000]):\n",
    "        self.nombre = nombre\n",
    "        self.direccion = direccion\n",
    "        self.empleados = empleados\n",
    "        self.ventas = ventas\n",
    "    def all_sales(self):\n",
    "        return sum(self.ventas)\n",
    "    def average_ee(self):\n",
    "        return self.all_sales()/self.empleados\n",
    "    def detail(self):\n",
    "        return self.nombre + \":\" + self.direccion + \".\"\n",
    "    def last_sale(self):\n",
    "        return self.ventas[-1]\n",
    "    def forecast(self, x):\n",
    "        ventas_aux = []\n",
    "        if x <= 1000:\n",
    "            for venta_mes in self.ventas:\n",
    "                ventas_aux.append(venta_mes * 1.2)\n",
    "        else:\n",
    "            for venta_mes in self.ventas:\n",
    "                ventas_aux.append(venta_mes * 1.5)\n",
    "        self.ventas = ventas_aux\n",
    "        return self.all_sales()"
   ]
  },
  {
   "cell_type": "code",
   "execution_count": 49,
   "metadata": {},
   "outputs": [
    {
     "name": "stdout",
     "output_type": "stream",
     "text": [
      "\n",
      "\n",
      "1110\n",
      "22.2\n",
      "ECI:Gran Via.\n",
      "1000\n",
      "1332.0\n",
      "[12.0, 120.0, 1200.0]\n",
      "1998.0\n",
      "[18.0, 180.0, 1800.0]\n"
     ]
    }
   ],
   "source": [
    "eci1 = Tienda(\"ECI\", \"Gran Via\", 50)\n",
    "eci2 = Tienda(\"ECI\", \"Recoletos\", 30, ventas = [300000, 100000, 75000])\n",
    "eci3 = Tienda(\"ECI\", \"Atocha\", 30, ventas = [50000, 75000, 65000])\n",
    "print(\"\\n\")\n",
    "print(eci1.all_sales())\n",
    "print(eci1.average_ee())\n",
    "print(eci1.detail())\n",
    "print(eci1.last_sale())\n",
    "print(eci1.forecast(500))\n",
    "print(eci1.ventas)\n",
    "print(eci1.forecast(1001))\n",
    "print(eci1.ventas)"
   ]
  },
  {
   "cell_type": "code",
   "execution_count": 12,
   "metadata": {},
   "outputs": [
    {
     "name": "stdout",
     "output_type": "stream",
     "text": [
      "3\n",
      "3\n"
     ]
    }
   ],
   "source": [
    "p = prueba()\n",
    "\n",
    "print(p.suma())\n",
    "print(p.dame_suma())"
   ]
  },
  {
   "cell_type": "code",
   "execution_count": 15,
   "metadata": {},
   "outputs": [
    {
     "data": {
      "text/plain": [
       "129"
      ]
     },
     "execution_count": 15,
     "metadata": {},
     "output_type": "execute_result"
    }
   ],
   "source": [
    "sum([i * 3 for i in [1, 12, 30]])"
   ]
  },
  {
   "cell_type": "markdown",
   "metadata": {},
   "source": [
    "## Ejercicio 2\n",
    "En este ejercicio vamos a implementar una clase *Perro* en Python. La clase tiene las siguientes características:\n",
    "* Cosas que sabemos seguro que tiene un perro\n",
    "    * Tiene 4 patas\n",
    "    * 2 orejas\n",
    "    * 2 ojos\n",
    "    * Una velocidad de 0. Por defecto, el perro está parado\n",
    "* Cuando se inicialice:\n",
    "    * El perro será de una determinada raza\n",
    "    * Por defecto tendrá pelo \"Marrón\", a no ser que se diga lo contrario.\n",
    "    * Por defecto no tendrá dueño, a no ser que se diga lo contrario.\n",
    "    \n",
    "* Dispondrá también de un método llamado andar, que tiene un argumento de entrada (aumento_velocidad). Este valor se le sumará a la velocidad que ya llevaba el perro.\n",
    "* Necesita otro método (parar), donde pondremos la velocidad a 0.\n",
    "* Otro método llamado \"ladrar\", que tendrá un argumento de entrada, y la salida será el siguiente string: \"GUAU!\" + el argumento de entrada.\n",
    "\n",
    "\n",
    "Se pide:\n",
    "* Implementa la clase *Perro*\n",
    "* Crea un objeto de tipo *Perro*, sin dueño\n",
    "* Comprueba que están bien todos sus atributos\n",
    "* Prueba que ande, y comprueba su velocidad\n",
    "* Páralo\n",
    "* Documenta la clase *Perro*"
   ]
  },
  {
   "cell_type": "code",
   "execution_count": 65,
   "metadata": {},
   "outputs": [
    {
     "name": "stdout",
     "output_type": "stream",
     "text": [
      "dálmata\n",
      "4\n",
      "2\n",
      "7\n",
      "0\n",
      "GUAU!qué perro!\n"
     ]
    }
   ],
   "source": [
    "OJOS = 1\n",
    "\n",
    "def habla(prefijo, texto):\n",
    "    return(prefijo + texto)\n",
    "\n",
    "\n",
    "class Perro:\n",
    "    patas = patas\n",
    "    orejas = 2\n",
    "    ojos = OJOS\n",
    "    velocidad = 0\n",
    "    \n",
    "    def __init__(self, raza, pelo = \"Marrón\", dueño = False):\n",
    "        self.raza_perro = raza\n",
    "        self.pelo = pelo\n",
    "        self.dueño = dueño\n",
    "        \n",
    "    def andar(self, aumento_velocidad):\n",
    "        self.velocidad = self.velocidad + aumento_velocidad\n",
    "        \n",
    "    def parar(self):\n",
    "        self.velocidad = 0\n",
    "        \n",
    "    def ladrar(self, entrada):\n",
    "        return habla(\"GUAU!\", entrada)\n",
    "    \n",
    "perro1 = Perro(\"dálmata\")\n",
    "print(perro1.raza_perro)\n",
    "print(perro1.patas)\n",
    "perro1.andar(2)\n",
    "print(perro1.velocidad)\n",
    "perro1.andar(5)\n",
    "print(perro1.velocidad)\n",
    "perro1.parar()\n",
    "print(perro1.velocidad)\n",
    "print(perro1.ladrar(\"qué perro!\"))"
   ]
  },
  {
   "cell_type": "code",
   "execution_count": 59,
   "metadata": {},
   "outputs": [
    {
     "name": "stdout",
     "output_type": "stream",
     "text": [
      "None\n",
      "[1, 2, 3, 5, 7, 9]\n"
     ]
    }
   ],
   "source": [
    "lista = [1, 5, 2, 3, 9, 7]\n",
    "\n",
    "print(lista.sort())\n",
    "print(lista)"
   ]
  }
 ],
 "metadata": {
  "kernelspec": {
   "display_name": "Python 3",
   "language": "python",
   "name": "python3"
  },
  "language_info": {
   "codemirror_mode": {
    "name": "ipython",
    "version": 3
   },
   "file_extension": ".py",
   "mimetype": "text/x-python",
   "name": "python",
   "nbconvert_exporter": "python",
   "pygments_lexer": "ipython3",
   "version": "3.8.3"
  }
 },
 "nbformat": 4,
 "nbformat_minor": 4
}
