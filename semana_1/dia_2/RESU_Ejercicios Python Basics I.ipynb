{
 "cells": [
  {
   "cell_type": "markdown",
   "metadata": {},
   "source": [
    "![imagen](../../imagenes/ejercicios.png)"
   ]
  },
  {
   "cell_type": "markdown",
   "metadata": {},
   "source": [
    "# Ejercicios Python Basics I"
   ]
  },
  {
   "cell_type": "markdown",
   "metadata": {},
   "source": [
    "## Ejercicio 1\n",
    "Imprime por pantalla estas frases con el siguiente formato\n",
    "\n",
    "![imagen](../../imagenes/frase_Einstein.PNG)"
   ]
  },
  {
   "cell_type": "code",
   "execution_count": null,
   "metadata": {},
   "outputs": [],
   "source": [
    "print(\"\"\"¿Por qué esta magnífica tecnología cientifica,\\n\\tque ahorra trabajo y nos hace la vida mas fácil,\\n\\t\\tnos aporta tan poca felicidad?\\n\\t\\t\\tLa respuesta es está, simplemente: porque aún no hemos aprendido a usarla con tino.\\n\"Albert Einstein\" \"\"\")"
   ]
  },
  {
   "cell_type": "code",
   "execution_count": null,
   "metadata": {},
   "outputs": [],
   "source": [
    "print(\"¿Por qué esta magnífica tecnología cientifica,\\n\\tque ahorra trabajo y nos hace la vida mas fácil,\\n\\t\\tnos aporta tan poca felicidad?\\n\\t\\t\\tLa respuesta es está, simplemente: porque aún no hemos aprendido a usarla con tino.\\n\\\"Albert Einstein\\\"\")"
   ]
  },
  {
   "cell_type": "markdown",
   "metadata": {},
   "source": [
    "## Ejercicio 2\n",
    "1. Escribe el nombre de tu calle en un variable\n",
    "2. Escribe el numero donde vives en otra\n",
    "3. Población en una tercera\n",
    "4. Codigo postal en la cuarta variable\n",
    "5. Crea una quinta variable que concatene todas ellas\n",
    "6. Imprimela por pantalla"
   ]
  },
  {
   "cell_type": "code",
   "execution_count": null,
   "metadata": {},
   "outputs": [],
   "source": [
    "nom_calle = \"Recoletos\"\n",
    "num_calle = 15\n",
    "pobl = \"Madrid\"\n",
    "cp = 23665\n",
    "total = nom_calle + \" \" + str(num_calle) + \" \" + pobl + \" \" + str(cp)\n",
    "print(total)"
   ]
  },
  {
   "cell_type": "markdown",
   "metadata": {},
   "source": [
    "## Ejercicio 3\n",
    "Replica el output del ejercicio dos, pero está vez sin usar una variable intermedia que concatene todas las demas. Realiza este ejercicio en una línea, con un  único `print`"
   ]
  },
  {
   "cell_type": "code",
   "execution_count": null,
   "metadata": {},
   "outputs": [],
   "source": [
    "print(nom_calle, num_calle, pobl, cp)"
   ]
  },
  {
   "cell_type": "markdown",
   "metadata": {},
   "source": [
    "## Ejercicio 4\n",
    "¿Qué variables están mal escritas y por qué? Realiza primero tu hipótesis y luego ejecuta las variables para comprobarlo. En ese orden :)\n",
    "\n",
    "\n",
    "1. mi_variable = \"Economía\"\n",
    "2. otra_var = \"Ejercicio\n",
    "3. True = \"Ejercicio\"\n",
    "4. mi variab1e = \"Alpha\"\n",
    "5. exec = True\n",
    "6. import = 40\n",
    "7. 81mi_variable = \"Agua\"\n",
    "8. mi_variable10 = 6"
   ]
  },
  {
   "cell_type": "markdown",
   "metadata": {},
   "source": [
    "1. OK\n",
    "2. Falta comilla\n",
    "3. Palabra reservada. No podemos usarla para nombre de variables\n",
    "4. espacio en nombre de variable\n",
    "5. bien\n",
    "6. palabra reservada\n",
    "7. no podemos empezar con numero\n",
    "8. all right!"
   ]
  },
  {
   "cell_type": "markdown",
   "metadata": {},
   "source": [
    "## Ejercicio 5\n",
    "Realiza un conversor de grados Celsius a Fahrenheit. El conversor tiene que recibir el input del usuario y devolver la conversión.\n",
    "\n",
    "La conversión de grados sigue la siguiente fórmula: F = (C × 9 / 5) + 32 "
   ]
  },
  {
   "cell_type": "code",
   "execution_count": null,
   "metadata": {},
   "outputs": [],
   "source": [
    "celsius = float(input(\"Introduzca grados celsius\"))\n",
    "fahrenheit = 32 + celsius * (9/5)\n",
    "\n",
    "print(\"El equivalente en grados Fahrenheit es\", fahrenheit)"
   ]
  },
  {
   "cell_type": "markdown",
   "metadata": {},
   "source": [
    "## Ejercicio 6\n",
    "Comenta en la medida de lo posible el Ejercicio 5. Será suficiente con poner al menos un comentario de línea, y otro multilínea"
   ]
  },
  {
   "cell_type": "code",
   "execution_count": null,
   "metadata": {},
   "outputs": [],
   "source": [
    "\"\"\"\n",
    "Calculadora de grados Farenheit\n",
    "\"\"\"\n",
    "\n",
    "celsius = float(input(\"Introduzca grados celsius\")) # Input del usuario\n",
    "\n",
    "# Hay que convertir los tipos para que no haya problemas\n",
    "fahrenheit = 32 + celsius * (9/5)\n",
    "\n",
    "print(\"El equivalente en grados Fahrenheit es\", fahrenheit)"
   ]
  }
 ],
 "metadata": {
  "kernelspec": {
   "display_name": "Python 3",
   "language": "python",
   "name": "python3"
  },
  "language_info": {
   "codemirror_mode": {
    "name": "ipython",
    "version": 3
   },
   "file_extension": ".py",
   "mimetype": "text/x-python",
   "name": "python",
   "nbconvert_exporter": "python",
   "pygments_lexer": "ipython3",
   "version": "3.8.3"
  }
 },
 "nbformat": 4,
 "nbformat_minor": 4
}
