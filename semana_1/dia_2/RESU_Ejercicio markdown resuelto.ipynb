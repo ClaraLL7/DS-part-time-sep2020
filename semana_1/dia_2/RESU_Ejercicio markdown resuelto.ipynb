{
 "cells": [
  {
   "cell_type": "markdown",
   "metadata": {},
   "source": [
    "## Ejercicio semana 1 - Markdown"
   ]
  },
  {
   "cell_type": "markdown",
   "metadata": {},
   "source": [
    "### Aptitudes de Data Scientist\n",
    "> **Lo más importante**\n",
    ">\n",
    "> - Matemáticas\n",
    "> - Programación\n",
    ">    - # SQL\n",
    ">    - Python\n",
    ">    ![imagen](../../imagenes/python.png)\n",
    ">\n",
    ">  Otro tema importante es el *Business Intelligence*.\n",
    ">\n",
    ">  Si tienes dudas, pudes escribirme a: <francisco.canon@thebridgeschool.es>\n",
    ">\n",
    ">  En esta página se aprende mucho de machine learning: **[pagina con ML](https://www.kaggle.com/)**"
   ]
  },
  {
   "cell_type": "code",
   "execution_count": null,
   "metadata": {},
   "outputs": [],
   "source": []
  }
 ],
 "metadata": {
  "kernelspec": {
   "display_name": "Python 3",
   "language": "python",
   "name": "python3"
  },
  "language_info": {
   "codemirror_mode": {
    "name": "ipython",
    "version": 3
   },
   "file_extension": ".py",
   "mimetype": "text/x-python",
   "name": "python",
   "nbconvert_exporter": "python",
   "pygments_lexer": "ipython3",
   "version": "3.8.3"
  }
 },
 "nbformat": 4,
 "nbformat_minor": 4
}
