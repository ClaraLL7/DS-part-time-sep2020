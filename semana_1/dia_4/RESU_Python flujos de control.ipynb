{
 "cells": [
  {
   "cell_type": "markdown",
   "metadata": {},
   "source": [
    "![imagen](../../imagenes/python.jpg)"
   ]
  },
  {
   "cell_type": "markdown",
   "metadata": {},
   "source": [
    "# Python Flujos de Control\n",
    "\n",
    "Hasta ahora hemos visto cómo ejecutar un programa secuencialmente, pero ¿y si queremos que cambien los outputs del programa en función de ciertas condiciones, o si queremos que tome otros caminos en caso de encontrar errores?. Todo esto lo podremos hacer con los flujos de control. Sentencias que encontrarás en todos los lenguajes de programación.\n",
    "\n",
    "1. [Sintaxis de línea](#1.-Sintaxis-de-línea)\n",
    "1. [if/elif/else](#2.-if/elif/else)\n",
    "2. [Bucle for](#3.-Bucle-for)\n",
    "3. [Bucle while](#4.-Bucle-while)\n",
    "4. [Break/continue](#5.-Break/continue)\n",
    "5. [Try/except](#6.-Try/except)\n",
    "10. [Resumen](#7.-Resumen)"
   ]
  },
  {
   "cell_type": "markdown",
   "metadata": {},
   "source": [
    "## 1. Sintaxis de línea\n",
    "La manera en la que Python encapsula todo el código que va dentro de un flujo de control como `if` o `for` es diferente a como se suele hacer en otros lenguajes, donde se declara el flujo de control, y todo lo que va dentro se rodea de llaves `{}` o paréntesis `()`. Con Python no. En Python simplemente hay que añadir una tabulación a cada línea de código que vaya dentro del flujo de control.\n",
    "\n",
    "> ```Python\n",
    "> for condiciones:\n",
    ">     Código dentro de este bucle\n",
    "> ```\n",
    "\n",
    "\n",
    "Si lo dejamos fuera, este código se ejecutará secuencialmente después de que corra el for\n",
    "\n",
    "> ```Python\n",
    "> for condiciones:\n",
    ">\n",
    "> Código fuera de este bucle\n",
    "> ```\n",
    "\n",
    "Veamos un ejemplo. Tenemos una lista de numeros, y queremos ver cuales son enteros. Para ello los recorremos con un `for` (vermos más en profundiad en este notebook). Vamos iternando uno a uno cada elemento. Luego mediante un `if` comprobamos si es entero. Fíjate que todo lo que va dentro del `for` lleva una tabulación y lo que va dentro del `if` lleva dos tabulaciones, ya que sus sentencias van tanto dentro del `if`, como dentro del `for`."
   ]
  },
  {
   "cell_type": "code",
   "execution_count": 8,
   "metadata": {},
   "outputs": [
    {
     "name": "stdout",
     "output_type": "stream",
     "text": [
      "El numero 4 es un entero\n",
      "El numero 6 es un entero\n"
     ]
    }
   ],
   "source": [
    "numeros = [4, 6, 4.0, 3.0]\n",
    "\n",
    "for num in numeros:\n",
    "    \n",
    "    if type(num) == int:\n",
    "        \n",
    "        print(\"El numero\", num, \"es un entero\")\n"
   ]
  },
  {
   "cell_type": "markdown",
   "metadata": {},
   "source": [
    "<table align=\"left\">\n",
    " <tr><td width=\"80\"><img src=\"../../imagenes/error.png\" style=\"width:auto;height:auto\"></td>\n",
    "     <td style=\"text-align:left\">\n",
    "         <h3>ERRORES ¿Qué ocurre si nos olvidamos de tabular?</h3>\n",
    "         \n",
    " </td></tr>\n",
    "</table>"
   ]
  },
  {
   "cell_type": "code",
   "execution_count": 13,
   "metadata": {},
   "outputs": [
    {
     "ename": "IndentationError",
     "evalue": "expected an indented block (<ipython-input-13-063e701cc68b>, line 4)",
     "output_type": "error",
     "traceback": [
      "\u001b[1;36m  File \u001b[1;32m\"<ipython-input-13-063e701cc68b>\"\u001b[1;36m, line \u001b[1;32m4\u001b[0m\n\u001b[1;33m    if type(num) == int:\u001b[0m\n\u001b[1;37m     ^\u001b[0m\n\u001b[1;31mIndentationError\u001b[0m\u001b[1;31m:\u001b[0m expected an indented block\n"
     ]
    }
   ],
   "source": [
    "numeros = [4, 6, 4.0, 3.0]\n",
    "\n",
    "for num in numeros:\n",
    "if type(num) == int:\n",
    "print(\"El numero\", num, \"es un entero\")"
   ]
  },
  {
   "cell_type": "markdown",
   "metadata": {},
   "source": [
    "Ojo, el error no ha dado en el `if`, sino en el `for`. Te señala lo que hay inmediatamente despues de los dos puntos del `for`, ya que considera que ahí debería haber una tabulación. No la hay, y por eso salta el error."
   ]
  },
  {
   "cell_type": "markdown",
   "metadata": {},
   "source": [
    "### Sintaxis\n",
    "Por tanto, toda sentencia `if`, `for`, `while`, `try`, declaración de funciones, de clases, llevan dos puntos. Y después de los dos puntos, tabulado, va todo el contenido de ese bloque. **Siempre**.\n",
    "\n",
    "Si pones los dos puntos y le das a enter, Python automáticamente te tabula todo lo que vayas a escribir a continuación."
   ]
  },
  {
   "cell_type": "code",
   "execution_count": null,
   "metadata": {},
   "outputs": [],
   "source": [
    "if 1 == 1:\n",
    "    # Lo tabula"
   ]
  },
  {
   "cell_type": "markdown",
   "metadata": {},
   "source": [
    "### ¿Tabulaciones o espacios?\n",
    "Cuidado con las tabulaciones ya que cuando pasamos de un editor de Python a otro, o cuando ejecutamos un corrector de estilo sobre nuestro código, hay veces que las tabulaciones dan problemas. Es por ello que muchos programadores en vez de usar tabulaciones, los sustituyen por 4 espacios. \n",
    "\n",
    "Este es el problema cuando no se normaliza o estandariza algo. Que cada progrmador usa lo que considera y después hay conflictos cuando pasamos de un IDE a otro. Este asunto lleva años sobre la mesa por lo que ahora la mayordía de IDEs no suelen tener problemas.\n",
    "\n",
    "Entonces, ¿qué usamos? Lo más cómo es añadir una tabulación, pero lo más correcto son espacios. En Jupyter esto es bastante transparente para nosotros ya que cuando añadimos una tabulación, realmente Jupyter lo traduce a 4 espacios, por lo que no debería ser un tema preocupante\n",
    "\n",
    "Es tal la discusión que hasta le [han dedicado una escena en la serie Silicon Valley](https://www.youtube.com/watch?v=ussOk-ilK_8)"
   ]
  },
  {
   "cell_type": "markdown",
   "metadata": {},
   "source": [
    "## 2. if/elif/else\n",
    "En función de lo que valgan unas condiciones booleanas, ejecutaremos unas líneas de código, u otras. La sintaxis es muy sencilla:\n",
    "\n",
    "\n",
    "> ```Python\n",
    "> if condiciones:\n",
    ">     Si se cumplen las condiciones, ejecuta este código\n",
    "> else:\n",
    ">     Si no, ejecutas estre otro código\n",
    "> ```\n",
    "    \n",
    "Veamos un ejemplo"
   ]
  },
  {
   "cell_type": "code",
   "execution_count": 3,
   "metadata": {},
   "outputs": [
    {
     "name": "stdout",
     "output_type": "stream",
     "text": [
      "A septiembre :(\n"
     ]
    }
   ],
   "source": [
    "mi_nota_de_examen = 4\n",
    "\n",
    "if mi_nota_de_examen < 5:\n",
    "    print(\"A septiembre :(\")\n",
    "    \n",
    "else:\n",
    "    print(\"Aprobado!\")"
   ]
  },
  {
   "cell_type": "markdown",
   "metadata": {},
   "source": [
    "Únicamente se ejecuta la parte de código que consigue un `True` en la condición. `print(\"Aprobado!\")` sólo se imprimirá por pantalla si la nota es mayor o igual a 5.\n",
    "\n",
    "Vamos a ver otro ejemplo. Ahora quiero un poco más de granularidad en la nota, con bienes, notables y tal"
   ]
  },
  {
   "cell_type": "code",
   "execution_count": 4,
   "metadata": {},
   "outputs": [
    {
     "name": "stdout",
     "output_type": "stream",
     "text": [
      "Notable\n"
     ]
    }
   ],
   "source": [
    "mi_nota_de_examen = 7\n",
    "\n",
    "if mi_nota_de_examen < 5 :\n",
    "    print(\"A septiembre :(\")\n",
    "\n",
    "elif mi_nota_de_examen < 6 :\n",
    "    print(\"Suficiente\")\n",
    "    \n",
    "elif mi_nota_de_examen < 7 :\n",
    "    print(\"Bien\")\n",
    "    \n",
    "elif mi_nota_de_examen < 9 :\n",
    "    print(\"Notable\")\n",
    "    \n",
    "else:\n",
    "    print(\"Sobresaliente\")"
   ]
  },
  {
   "cell_type": "markdown",
   "metadata": {},
   "source": [
    "**IMPORTANTE**. Todos los `ifs` se ejecutan secuencialmente. Por eso, en este caso no es necesario acotar tanto la nota:\n",
    "\n",
    "* Primero comprueba si es menor de 5, de ser así, suspenso.\n",
    "* Ya sabemos que es mayor o igual a 5\n",
    "* En la siguiente condición comprueba si es menor que 6, es decir, entre 5 y 6. Si es `False`, seguimos a la siguiente condición. Ahora bien, si es `True`, ejecutamos únicamente ese código y nos olvidamos de todo lo demás. Ya puede haber 150 condiciones, que si la primera es `True`, el resto es como si no existiese.\n",
    "\n",
    "Fíjate que la sintaxis es bastante intuitiva. `if` una condición, dos puntos y me ejecutas todo lo que hay aqui dentro, `elif` (acorta el `else if`), si se cumple esta otra condición, se ejecuta este otro código. Y si no se cumple ninguna de estas, ejecuta lo que haya en el `else`."
   ]
  },
  {
   "cell_type": "markdown",
   "metadata": {},
   "source": [
    "<table align=\"left\">\n",
    " <tr><td width=\"80\"><img src=\"../../imagenes/ejercicio.png\" style=\"width:auto;height:auto\"></td>\n",
    "     <td style=\"text-align:left\">\n",
    "         <h3>Ejercicio if/else</h3>\n",
    "\n",
    "El ejemplo de las notas está muy bien, pero demasiado sencillo. ¿Qué pasa si la nota es mayor de 10 o menor que 0? No parece una nota correcta. En programación hay que anticiparse a los errores. Reescribe el código para tener en cuenta esos casos, cuya nota tendrás que catalogarla como \"Nota errónea\"\n",
    "         \n",
    " </td></tr>\n",
    "</table>"
   ]
  },
  {
   "cell_type": "code",
   "execution_count": 2,
   "metadata": {},
   "outputs": [
    {
     "name": "stdout",
     "output_type": "stream",
     "text": [
      "Nota Erronea\n"
     ]
    }
   ],
   "source": [
    "mi_nota_de_examen = 11\n",
    "\n",
    "if mi_nota_de_examen < 0 :\n",
    "    print(\"Nota Erronea\")\n",
    "    \n",
    "elif mi_nota_de_examen < 5 :\n",
    "    print(\"A septiembre :(\")\n",
    "\n",
    "elif mi_nota_de_examen < 6 :\n",
    "    print(\"Suficiente\")\n",
    "    \n",
    "elif mi_nota_de_examen < 7 :\n",
    "    print(\"Bien\")\n",
    "    \n",
    "elif mi_nota_de_examen < 9 :\n",
    "    print(\"Notable\")\n",
    "    \n",
    "elif mi_nota_de_examen <= 10 :\n",
    "    print(\"Sobresaliente\")\n",
    "else:\n",
    "    print(\"Nota Erronea\")"
   ]
  },
  {
   "cell_type": "markdown",
   "metadata": {},
   "source": [
    "## 3. Bucle for\n",
    "Gracias a los bucles podemos ejecutar código repetitivo, de manera bastante automática. Son muy útiles para que nuestro código no sea redundante, y también para aplicar operaciones cuando manejamos colecciones. Ya descubrirás que tienen muchísimas aplicaciones.\n",
    "\n",
    "La sintaxis de los bucles `for` es la siguiente:\n",
    "\n",
    "> `for var_ejecucion in limites ejecución:`\n",
    "> \n",
    ">           codigo del for...\n",
    "    \n",
    "    \n",
    "* **Límites de ejecución**: La cantidad de veces que queremos que se ejecute un `for`. Por ejemplo del 1 al 10. Esto es así porque si no se ejecutarían hasta el infinito. Y además, tienen una variable de ejecución que se va actualizando. Primero valdría 1, luego 2...así hasta 10.\n",
    "\n",
    "\n",
    "* **Variable de ejecución**: dentro del for habrá una variable que se irá actualizando con cada ejecución. Si se ejecuta 10 veces, primero la variable valdrá 1, luego 2, y así hasta 10.\n",
    "\n",
    "Mejor vemos un ejemplo para entenderlo. Tienes las notas de tres alumnos en una lista, y quieres imprimir por pantalla las notas"
   ]
  },
  {
   "cell_type": "code",
   "execution_count": 9,
   "metadata": {},
   "outputs": [
    {
     "name": "stdout",
     "output_type": "stream",
     "text": [
      "3\n",
      "4\n",
      "4\n"
     ]
    }
   ],
   "source": [
    "notas = [3, 4, 4]\n",
    "\n",
    "print(notas[0])\n",
    "print(notas[1])\n",
    "print(notas[2])"
   ]
  },
  {
   "cell_type": "markdown",
   "metadata": {},
   "source": [
    "Genial, pero qué ocurre si ahora tienes 30 notas, o simplemente quieres que tu programa no dependa de cuantas notas tienes, unas veces son 30, otras 20..."
   ]
  },
  {
   "cell_type": "code",
   "execution_count": 13,
   "metadata": {},
   "outputs": [
    {
     "name": "stdout",
     "output_type": "stream",
     "text": [
      "4\n",
      "5\n",
      "7\n",
      "3\n",
      "4\n",
      "6\n",
      "5\n",
      "5\n",
      "4\n",
      "5\n",
      "5\n",
      "6\n"
     ]
    }
   ],
   "source": [
    "notas_clase = [4,5,7,3,4,6,5,5,4,5,5,6]\n",
    "\n",
    "for nota in notas_clase:\n",
    "    print(nota)"
   ]
  },
  {
   "cell_type": "code",
   "execution_count": 12,
   "metadata": {},
   "outputs": [
    {
     "name": "stdout",
     "output_type": "stream",
     "text": [
      "4\n",
      "5\n",
      "7\n",
      "3\n",
      "4\n",
      "6\n",
      "5\n",
      "5\n",
      "4\n",
      "5\n",
      "6\n",
      "7\n",
      "8\n",
      "7\n",
      "6\n",
      "4\n",
      "6\n",
      "5\n",
      "5\n",
      "4\n",
      "5\n",
      "6\n"
     ]
    }
   ],
   "source": [
    "# Si me cambia el numero de alumnos, el for de antes me vale igual\n",
    "notas_clase = [4,5,7,3,4,6,5,5,4,5,6,7,8,7,6,4,6,5,5,4,5,6,]\n",
    "\n",
    "for nota in notas_clase:\n",
    "    print(nota)"
   ]
  },
  {
   "cell_type": "code",
   "execution_count": 15,
   "metadata": {},
   "outputs": [
    {
     "name": "stdout",
     "output_type": "stream",
     "text": [
      "Lunes\n",
      "Martes\n",
      "Miércoles\n",
      "Jueves\n",
      "Viernes\n",
      "Sábado\n",
      "Domingo\n"
     ]
    }
   ],
   "source": [
    "# Si en vez de numeros, tenemos texto, también nos vale\n",
    "dias_semana = [\"Lunes\", \"Martes\", \"Miércoles\", \"Jueves\", \"Viernes\", \"Sábado\", \"Domingo\"]\n",
    "\n",
    "for dia in dias_semana:\n",
    "    print(dia)"
   ]
  },
  {
   "cell_type": "markdown",
   "metadata": {},
   "source": [
    "Todo objeto que sea **iterable**, lo podrás recorrer en un `for`. Los objetos iterables son aquellos que tienen un número contable de elementos, como es el caso de una lista. Veremos los iterables más en detalle en las colecciones."
   ]
  },
  {
   "cell_type": "code",
   "execution_count": 17,
   "metadata": {},
   "outputs": [
    {
     "name": "stdout",
     "output_type": "stream",
     "text": [
      "P\n",
      "y\n",
      "t\n",
      "h\n",
      "o\n",
      "n\n"
     ]
    }
   ],
   "source": [
    "# Fijate que un String también es un iterable\n",
    "\n",
    "for letra in \"Python\":\n",
    "    print(letra)"
   ]
  },
  {
   "cell_type": "markdown",
   "metadata": {},
   "source": [
    "### Función range\n",
    "Es muy común usar la función `range()` en las condiciones de un bucle. Esta función puede funcionar con un único argumento numérico y su output es un **iterable**, comprendido entre el 0 y el número introducido como argumento.\n",
    "\n",
    "Verás en [la documentación](https://www.w3schools.com/python/ref_func_range.asp) que `range()` tiene más posibilidades, combinando sus argumentos."
   ]
  },
  {
   "cell_type": "code",
   "execution_count": 5,
   "metadata": {},
   "outputs": [
    {
     "name": "stdout",
     "output_type": "stream",
     "text": [
      "0\n",
      "1\n",
      "2\n"
     ]
    },
    {
     "data": {
      "text/plain": [
       "range"
      ]
     },
     "execution_count": 5,
     "metadata": {},
     "output_type": "execute_result"
    }
   ],
   "source": [
    "for num in range(3):\n",
    "    print(num)\n",
    "    \n",
    "type(range(3))"
   ]
  },
  {
   "cell_type": "markdown",
   "metadata": {},
   "source": [
    "En ocasiones nos interesa iterar sobre la posición que tiene cada elemento dentro de un iterable. Para ello podemos combinar `range` con `len` dentro de las condiciones del bucle"
   ]
  },
  {
   "cell_type": "code",
   "execution_count": 6,
   "metadata": {},
   "outputs": [
    {
     "name": "stdout",
     "output_type": "stream",
     "text": [
      "rojo\n",
      "0\n",
      "verde\n",
      "1\n",
      "azul\n",
      "2\n"
     ]
    }
   ],
   "source": [
    "colores = [\"rojo\", \"verde\", \"azul\"]\n",
    "\n",
    "for i in range(len(colores)):\n",
    "    print(colores[i])\n",
    "    print(i)"
   ]
  },
  {
   "cell_type": "markdown",
   "metadata": {},
   "source": [
    "### Función enumerate\n",
    "¿Y si dentro del bucle necesitamos tanto el elemento del iterable, como su índice? En [la documentación](https://www.w3schools.com/python/ref_func_enumerate.asp) verás que puedes elegir desde qué elemento de la lista quieres empezar."
   ]
  },
  {
   "cell_type": "code",
   "execution_count": 8,
   "metadata": {},
   "outputs": [
    {
     "name": "stdout",
     "output_type": "stream",
     "text": [
      "Nombre 0: Pedro\n",
      "Nombre 1: Mariano\n",
      "Nombre 2: Jose Luis\n"
     ]
    }
   ],
   "source": [
    "names = [\"Pedro\", \"Mariano\", \"Jose Luis\"]\n",
    "\n",
    "for num, name in enumerate(names):\n",
    "    print(\"Nombre {}: {}\".format(num, name))"
   ]
  },
  {
   "cell_type": "code",
   "execution_count": 9,
   "metadata": {},
   "outputs": [
    {
     "data": {
      "text/plain": [
       "enumerate"
      ]
     },
     "execution_count": 9,
     "metadata": {},
     "output_type": "execute_result"
    }
   ],
   "source": [
    "type(enumerate(names))"
   ]
  },
  {
   "cell_type": "markdown",
   "metadata": {},
   "source": [
    "<table align=\"left\">\n",
    " <tr><td width=\"80\"><img src=\"../../imagenes/error.png\" style=\"width:auto;height:auto\"></td>\n",
    "     <td style=\"text-align:left\">\n",
    "         <h3>ERRORES en los rangos</h3>\n",
    "         \n",
    " </td></tr>\n",
    "</table>"
   ]
  },
  {
   "cell_type": "markdown",
   "metadata": {},
   "source": [
    "Mucho cuidado al escribir las condiciones del bucle. Lo primero, porque podríamos tener condiciones infinitas de ejecución que ni nosotros, ni nuestro ordenador lo deseamos. Y lo segundo porque si intentamos acceder a un índice de nuestro iterable que no existe, saltará un error. Veamos ejemplo"
   ]
  },
  {
   "cell_type": "code",
   "execution_count": 19,
   "metadata": {},
   "outputs": [
    {
     "name": "stdout",
     "output_type": "stream",
     "text": [
      "Nombre: Pedro\n",
      "Nombre: Mariano\n",
      "Nombre: Jose Luis\n"
     ]
    },
    {
     "ename": "IndexError",
     "evalue": "list index out of range",
     "output_type": "error",
     "traceback": [
      "\u001b[1;31m---------------------------------------------------------------------------\u001b[0m",
      "\u001b[1;31mIndexError\u001b[0m                                Traceback (most recent call last)",
      "\u001b[1;32m<ipython-input-19-e46bb775d0c8>\u001b[0m in \u001b[0;36m<module>\u001b[1;34m\u001b[0m\n\u001b[0;32m      2\u001b[0m \u001b[1;33m\u001b[0m\u001b[0m\n\u001b[0;32m      3\u001b[0m \u001b[1;32mfor\u001b[0m \u001b[0mi\u001b[0m \u001b[1;32min\u001b[0m \u001b[0mrange\u001b[0m\u001b[1;33m(\u001b[0m\u001b[1;36m4\u001b[0m\u001b[1;33m)\u001b[0m\u001b[1;33m:\u001b[0m\u001b[1;33m\u001b[0m\u001b[1;33m\u001b[0m\u001b[0m\n\u001b[1;32m----> 4\u001b[1;33m     \u001b[0mprint\u001b[0m\u001b[1;33m(\u001b[0m\u001b[1;34m\"Nombre:\"\u001b[0m\u001b[1;33m,\u001b[0m \u001b[0mnames\u001b[0m\u001b[1;33m[\u001b[0m\u001b[0mi\u001b[0m\u001b[1;33m]\u001b[0m\u001b[1;33m)\u001b[0m\u001b[1;33m\u001b[0m\u001b[1;33m\u001b[0m\u001b[0m\n\u001b[0m",
      "\u001b[1;31mIndexError\u001b[0m: list index out of range"
     ]
    }
   ],
   "source": [
    "names = [\"Pedro\", \"Mariano\", \"Jose Luis\"]\n",
    "\n",
    "for i in range(4):\n",
    "    print(\"Nombre:\", names[i])"
   ]
  },
  {
   "cell_type": "markdown",
   "metadata": {},
   "source": [
    "Es por ello que se recomienda dejar el código lo más \"en automático\" posible. Poner en el range la longitud del iterable no es una buena práctica, ¿Y si mañana el iterable tiene menos nombres? saltará error. ¿Y si tiene más? No los tendremos en cuenta en el for. Por ello es mejor usar `len`."
   ]
  },
  {
   "cell_type": "markdown",
   "metadata": {},
   "source": [
    "<table align=\"left\">\n",
    " <tr><td width=\"80\"><img src=\"../../imagenes/ejercicio.png\" style=\"width:auto;height:auto\"></td>\n",
    "     <td style=\"text-align:left\">\n",
    "         <h3>Ejercicio bucle for</h3>\n",
    "\n",
    "Recorre la siguiente lista con un for, imprime únicamente los elementos múltiplos de 3, así como el índice que tengan dentro de la lista\n",
    "         \n",
    " </td></tr>\n",
    "</table>"
   ]
  },
  {
   "cell_type": "code",
   "execution_count": 1,
   "metadata": {},
   "outputs": [
    {
     "name": "stdout",
     "output_type": "stream",
     "text": [
      "3\n",
      "6\n",
      "6\n",
      "3\n",
      "9\n"
     ]
    }
   ],
   "source": [
    "nums_bucle = [5, 7, 3, 4, 2, 4, 7, 6, 10, 1, 6, 3, 5, 9]\n",
    "\n",
    "for i, numero in enumerate(nums_bucle):\n",
    "    if numero % 3 == 0:\n",
    "        print(numero)\n",
    "        print(i)"
   ]
  },
  {
   "cell_type": "markdown",
   "metadata": {},
   "source": [
    "<table align=\"left\">\n",
    " <tr><td width=\"80\"><img src=\"../../imagenes/ejercicio.png\" style=\"width:auto;height:auto\"></td>\n",
    "     <td style=\"text-align:left\">\n",
    "         <h3>Ejercicio bucle for 2</h3>\n",
    "\n",
    "Crea una lista con los 10 primeros múltiplos de 3. Recórrela 1 a 1 e imprímelo por pantalla si es múltiplo de 2, en cuyo caso también deberás ver si es múltiplo de 5, especificando en cada caso que sea múltiplo de ese número.\n",
    "         \n",
    " </td></tr>\n",
    "</table>"
   ]
  },
  {
   "cell_type": "code",
   "execution_count": 1,
   "metadata": {},
   "outputs": [
    {
     "name": "stdout",
     "output_type": "stream",
     "text": [
      "6 es múltiplo de 2\n",
      "12 es múltiplo de 2\n",
      "18 es múltiplo de 2\n",
      "24 es múltiplo de 2\n",
      "30 es múltiplo de 2\n",
      "30 es múltiplo de 5\n"
     ]
    }
   ],
   "source": [
    "multiplos = []\n",
    "for i in range(10):\n",
    "#     multiplos.append((i+1)*3)\n",
    "    multiplos = multiplos + [(i+1)*3]\n",
    "    \n",
    "multiplos    \n",
    "\n",
    "for i in multiplos:\n",
    "    if i % 2 == 0:\n",
    "        print(i, \"es múltiplo de 2\")\n",
    "        if i % 5 == 0:\n",
    "            print(i, \"es múltiplo de 5\")"
   ]
  },
  {
   "cell_type": "markdown",
   "metadata": {},
   "source": [
    "<table align=\"left\">\n",
    " <tr><td width=\"80\"><img src=\"../../imagenes/ejercicio.png\" style=\"width:auto;height:auto\"></td>\n",
    "     <td style=\"text-align:left\">\n",
    "         <h3>Ejercicio bucle for 3</h3>\n",
    "\n",
    "Crea una lista con 5 colores. Añade 3 colores (de los que ya has puesto en la lista original) en las posiciones 2, 4 y 6 (posiciones de la lista final). Recorre la lista uno a uno e indica si está en los elementos anteriores a él o no.\n",
    "        \n",
    "PISTA: Utiliza un bucle for dentro de otro bucle for para \n",
    "         \n",
    " </td></tr>\n",
    "</table>"
   ]
  },
  {
   "cell_type": "code",
   "execution_count": 16,
   "metadata": {},
   "outputs": [
    {
     "name": "stdout",
     "output_type": "stream",
     "text": [
      "La lista con la que trabajaremos será:\n",
      "['rojo', 'azul', 'rojo', 'amarillo', 'verde', 'verde', 'amarillo']\n",
      "Se ha detectado que el color rojo estaba anteriormente\n",
      "Se ha detectado que el color verde estaba anteriormente\n",
      "Se ha detectado que el color amarillo estaba anteriormente\n"
     ]
    }
   ],
   "source": [
    "colores = ['rojo', 'azul', 'amarillo', 'verde']\n",
    "\n",
    "# Como nos dicen posiciones finales, podemos ir insertándolos en la posición indicada si vamos por orden, ya que si empezamos \n",
    "#insertando el 4 y después el 2,el 4 pasaría a la posición 5\n",
    "colores.insert(2, \"rojo\")\n",
    "colores.insert(4, \"verde\")\n",
    "colores.insert(6, \"amarillo\")\n",
    "\n",
    "print(\"La lista con la que trabajaremos será:\")\n",
    "print(colores)\n",
    "\n",
    "# Ahora recorremos la lista uno a uno, y por cada elemento recorreremos la lista hasta su posición, para comprobar si está en los\n",
    "#anteriores o no. Si fuésemos elemento a elemento, no podríamos hacer este ejercicio, ya que tendremos que interactuar con los\n",
    "#índices de la lista:\n",
    "for indice, color in enumerate(colores):\n",
    "    # Para obtener la lista de los colores anteriores, podemos hacer uso de los índices con el modificador \":\", que nos permite tomar\n",
    "    #todas las posiciones hasta una en concreto, o desde una al final, como hemos visto en clase:\n",
    "    colores_anteriores = colores[:indice]\n",
    "    for color_anterior in colores_anteriores:\n",
    "        if color_anterior == color:\n",
    "            print(f\"Se ha detectado que el color {color} estaba anteriormente\")"
   ]
  },
  {
   "cell_type": "markdown",
   "metadata": {},
   "source": [
    "## 4. Bucle while\n",
    "Se trata de otra manera de implementar un bucle en programación. Los bucles tienen que ir siempre limitados. En el caso del `for`, le poníamos un número concreto de ejecuciones, según el iterable que estuviésemos recorriendo. Para el `while` es algo diferente. Tiene una **condición de ejecución**, que mientras que se cumpla (`True`), seguirá ejecutando una y otra vez. Por otro lado, el bucle tiene una **variable de ejecucón**, al igual que en el `for`, que se irá actualizando con cada vuelta, y es esa variable la que determina cuándo acaba el bucle.\n",
    "\n",
    "Veamos un ejemplo"
   ]
  },
  {
   "cell_type": "code",
   "execution_count": 17,
   "metadata": {},
   "outputs": [
    {
     "name": "stdout",
     "output_type": "stream",
     "text": [
      "0\n",
      "1\n",
      "2\n",
      "3\n",
      "4\n"
     ]
    }
   ],
   "source": [
    "i = 0 # Variable de ejecución\n",
    "\n",
    "while(i < 5): # Condición de ejecución\n",
    "    \n",
    "    print(i)\n",
    "    \n",
    "    i = i + 1 # Actualiza variable de ejecución"
   ]
  },
  {
   "cell_type": "markdown",
   "metadata": {},
   "source": [
    "La manera más habitual de implementar estos bucles es:\n",
    "1. Declaro la **variable de ejecución fuera del bucle**\n",
    "2. Establezco una **condición de ejecución** para determinar cuándo queremos que se pare el bucle.\n",
    "3. **Actualizo la variable de ejecución** en cada iteración del bucle.\n",
    "\n",
    "**Cuidado** con estos bucles ya que es muy fácil olvidarnos de actualiza la variable de ejecución, o equivocarnos en la condición de ejecución. Si esto ocurre el código se quedará corriendo hasta que detengamos el kernel (botón *interrupt the kernel*, arriba al lado del Run)"
   ]
  },
  {
   "cell_type": "markdown",
   "metadata": {},
   "source": [
    "## 5. Break/continue\n",
    "Son dos sentencias que podemo usar dentro de los bucles para evitar ejecutar código de más.\n",
    "\n",
    "### Break\n",
    "Se usa cuando queremos salir del bucle forzadamente. Imagina que eres una tienda y estás buscando con un for si al menos uno de los pedidos era un abrigo. Si has tenido 1000 pedidos, vas a tener que iterar sobre todos y mediante un `if`, comprobar si es un abrigo. Ahora bien, si el abrigo es el primer elemento de la lista, el `for` va a recorrer igualmente los otros 999 elementos, cuando no es necesario. Con un `break` podremos salirnos del bucle y continuar con el programa"
   ]
  },
  {
   "cell_type": "code",
   "execution_count": 18,
   "metadata": {},
   "outputs": [
    {
     "name": "stdout",
     "output_type": "stream",
     "text": [
      "s\n",
      "t\n",
      "r\n",
      "Fin\n"
     ]
    }
   ],
   "source": [
    "for val in \"string\":\n",
    "    if val == \"i\":\n",
    "        break\n",
    "    print(val)\n",
    "\n",
    "print(\"Fin\")"
   ]
  },
  {
   "cell_type": "markdown",
   "metadata": {},
   "source": [
    "### Continue\n",
    "Esta sentencia se usa dentro de un bucle para indicarle que continue con el siguiente elemento del iterable. Al igual que con el `break`, nos sirve para evitar que se ejecute código de más. Volviendo al ejemplo anterior, si después de comprobar que tenemos un abrigo, hay 200 líneas más de código que se utiliza en otros casos, con un `continue` evitamos que se ejecute todo eso, hacemos lo que tengamos que hacer con el abrigo, y le decimos al bucle que pase al siguiente elemento, e ignore el resto del código."
   ]
  },
  {
   "cell_type": "code",
   "execution_count": 19,
   "metadata": {},
   "outputs": [
    {
     "name": "stdout",
     "output_type": "stream",
     "text": [
      "s\n",
      "t\n",
      "r\n",
      "n\n",
      "g\n",
      "Fin\n"
     ]
    }
   ],
   "source": [
    "for val in \"string\":\n",
    "    if val == \"i\":\n",
    "        continue\n",
    "    print(val)\n",
    "\n",
    "print(\"Fin\")"
   ]
  },
  {
   "cell_type": "markdown",
   "metadata": {},
   "source": [
    "## 6. Try/except\n",
    "¿Qué ocurre cuando hay un error en nuestro código? Se para toda la ejecución. Por muy buenos programadores que seamos, hay que contar siempre con que puede haber errores. Podemos llegar a controlarlos con sentencias `if/else`, por ejemplo si no sabemos muy bien los tipos de los datos, `if type(data) == float:` haces algo con floats, `else` haces otra cosa con otro tipo de datos, pero lo mejor es usar `try/except`.\n",
    "\n",
    "Ahora bien, si intuimos que el comportamiento de nuestro código puede ser algo impredecible, en programación podemos usar las sentencias `try/except` para capturar ese error, tomar decisiones, y que el código pueda continuar ejecutándose.\n",
    "\n",
    "La sintaxis es la siguiente:\n",
    "\n",
    "> ```Python\n",
    "> try:\n",
    ">     Código que puede contener errores\n",
    "> except:\n",
    ">     Qué hacer si nos encontramos con un error\n",
    "> ```"
   ]
  },
  {
   "cell_type": "code",
   "execution_count": 20,
   "metadata": {},
   "outputs": [
    {
     "name": "stdout",
     "output_type": "stream",
     "text": [
      "El codigo tiene errores porque la variable 'variable_' no existe\n",
      "Continuo con el programa\n"
     ]
    }
   ],
   "source": [
    "try:\n",
    "  print(variable_)\n",
    "except:\n",
    "  print(\"El codigo tiene errores porque la variable 'variable_' no existe\")\n",
    "\n",
    "print(\"Continuo con el programa\")"
   ]
  },
  {
   "cell_type": "markdown",
   "metadata": {},
   "source": [
    "Hay un error en el código, pero no para el programa.\n",
    "\n",
    "Podemos ser un poco más específicos con los errores, y en función del tipo de error que nos de, tomaremos diferentes caminos"
   ]
  },
  {
   "cell_type": "code",
   "execution_count": 21,
   "metadata": {},
   "outputs": [
    {
     "name": "stdout",
     "output_type": "stream",
     "text": [
      "El codigo tiene errores porque la variable 'variable_' no existe\n",
      "<class 'NameError'>\n",
      "Parece ser que ha sido otro tipo de error\n"
     ]
    }
   ],
   "source": [
    "try:\n",
    "  print(variable_)\n",
    "except NameError:\n",
    "    print(\"El codigo tiene errores porque la variable 'variable_' no existe\")\n",
    "    print(NameError) # Tendremos tambien disponible el error, por si queremos manipularlo\n",
    "except:\n",
    "  print(\"Parece ser que ha sido otro tipo de error\")\n",
    "\n",
    "lista_ = [1,2,3]\n",
    "try:\n",
    "  print(lista_[5])\n",
    "except NameError:\n",
    "  print(\"El codigo tiene errores porque la variable 'variable_' no existe\")\n",
    "except:\n",
    "  print(\"Parece ser que ha sido otro tipo de error\")"
   ]
  },
  {
   "cell_type": "markdown",
   "metadata": {},
   "source": [
    "## 7. Resumen"
   ]
  },
  {
   "cell_type": "code",
   "execution_count": 23,
   "metadata": {},
   "outputs": [
    {
     "name": "stdout",
     "output_type": "stream",
     "text": [
      "Notable\n",
      "Lunes\n",
      "Martes\n",
      "Miércoles\n",
      "Jueves\n",
      "Viernes\n",
      "Sábado\n",
      "Domingo\n",
      "0\n",
      "1\n",
      "2\n",
      "3\n",
      "4\n",
      "s\n",
      "t\n",
      "r\n",
      "Fin\n",
      "El codigo tiene errores porque la variable 'variable_' no existe\n",
      "Continuo con el programa\n"
     ]
    }
   ],
   "source": [
    "# If/elif/else\n",
    "mi_nota_de_examen = 7\n",
    "\n",
    "if mi_nota_de_examen < 5 :\n",
    "    print(\"A septiembre :(\")\n",
    "\n",
    "elif mi_nota_de_examen < 6 :\n",
    "    print(\"Suficiente\")\n",
    "    \n",
    "elif mi_nota_de_examen < 7 :\n",
    "    print(\"Bien\")\n",
    "    \n",
    "elif mi_nota_de_examen < 9 :\n",
    "    print(\"Notable\")\n",
    "    \n",
    "else:\n",
    "    print(\"Sobresaliente\")\n",
    "    \n",
    "    \n",
    "# Bucle for\n",
    "dias_semana = [\"Lunes\", \"Martes\", \"Miércoles\", \"Jueves\", \"Viernes\", \"Sábado\", \"Domingo\"]\n",
    "\n",
    "for dia in dias_semana:\n",
    "    print(dia)\n",
    "    \n",
    "    \n",
    "# Bucle while\n",
    "i = 0\n",
    "\n",
    "while(i < 5):\n",
    "    print(i)\n",
    "    i = i + 1\n",
    "    \n",
    "    \n",
    "# Break y continue\n",
    "for val in \"string\":\n",
    "    if val == \"i\":\n",
    "        break\n",
    "    print(val)\n",
    "\n",
    "print(\"Fin\")\n",
    "\n",
    "\n",
    "# Try/except\n",
    "try:\n",
    "    print(variable_)\n",
    "except:\n",
    "    print(\"El codigo tiene errores porque la variable 'variable_' no existe\")\n",
    "\n",
    "print(\"Continuo con el programa\")"
   ]
  }
 ],
 "metadata": {
  "kernelspec": {
   "display_name": "Python 3",
   "language": "python",
   "name": "python3"
  },
  "language_info": {
   "codemirror_mode": {
    "name": "ipython",
    "version": 3
   },
   "file_extension": ".py",
   "mimetype": "text/x-python",
   "name": "python",
   "nbconvert_exporter": "python",
   "pygments_lexer": "ipython3",
   "version": "3.8.3"
  }
 },
 "nbformat": 4,
 "nbformat_minor": 4
}
