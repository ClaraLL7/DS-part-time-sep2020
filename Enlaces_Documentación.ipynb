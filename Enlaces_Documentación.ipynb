{
 "cells": [
  {
   "cell_type": "markdown",
   "metadata": {},
   "source": [
    "# Índice de documentación\n",
    "\n",
    "A continuación, se recogen algunos de los enlaces a diversas webs con documentación de los elementos básicos que hemos visto a lo largo del Ramp-up. Os recuerdo que esto solo es una ayudita para localizar la documentación que hemos visto más rápidamente. Sin embargo, os recomendaría que os acostumbrárais a buscar vuestras dudas en Internet directamente, ya que así es como procederéis en el futuro con dudas más complejas."
   ]
  },
  {
   "cell_type": "markdown",
   "metadata": {},
   "source": [
    "1. [Sintaxis Markdown](https://www.markdownguide.org/basic-syntax/)\n",
    "1. [Comentarios](https://realpython.com/python-comments-guide/)\n",
    "1. [Tipos de datos básicos (built-in Types)](https://docs.python.org/3/library/stdtypes.html)\n",
    "1. [Funciones built-in](\"https://docs.python.org/3/library/functions.html)\n",
    "1. [Caracteres de espcape (escape characters)](https://www.w3schools.com/python/gloss_python_escape_characters.asp)\n",
    "1. [Módulo math: operaciones matemáticas](https://docs.python.org/3/library/math.html)\n",
    "1. [Métodos: Cadenas de texto / Strings](https://docs.python.org/2.5/lib/string-methods.html)\n",
    "1. [Métodos: Listas](https://www.w3schools.com/python/python_ref_list.asp)\n",
    "1. Bucles: Funciones útiles:\n",
    "  1. [range()](https://www.w3schools.com/python/ref_func_range.asp)\n",
    "  1. [enumerate()](https://www.w3schools.com/python/ref_func_enumerate.asp)\n",
    "1. [Sets](https://docs.python.org/2/library/sets.html)\n",
    "1. [Diccionarios](https://www.w3schools.com/python/python_ref_dictionary.asp)\n"
   ]
  }
 ],
 "metadata": {
  "kernelspec": {
   "display_name": "Python 3",
   "language": "python",
   "name": "python3"
  },
  "language_info": {
   "codemirror_mode": {
    "name": "ipython",
    "version": 3
   },
   "file_extension": ".py",
   "mimetype": "text/x-python",
   "name": "python",
   "nbconvert_exporter": "python",
   "pygments_lexer": "ipython3",
   "version": "3.8.3"
  }
 },
 "nbformat": 4,
 "nbformat_minor": 4
}
