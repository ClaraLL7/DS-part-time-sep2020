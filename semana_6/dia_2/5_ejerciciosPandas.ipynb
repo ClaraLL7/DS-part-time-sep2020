{
 "cells": [
  {
   "cell_type": "markdown",
   "metadata": {
    "id": "cZ13pp6YKxrv"
   },
   "source": [
    "# Ejercicio 1\n",
    "\n",
    "Vamos a hacer un ejercicio con datos de verdad"
   ]
  },
  {
   "cell_type": "markdown",
   "metadata": {
    "id": "7yF16-dvKxrw"
   },
   "source": [
    "### 1. Vamos a utilizar el fichero\"openfoodfacts_products.csv\"\n",
    "\n",
    "Para no andar descargando ficheros muy grandes, lo que tenemos es una muestra del fichero de 3GB descargable desde https://static.openfoodfacts.org/data/en.openfoodfacts.org.products.csv\n",
    "\n",
    "Si quieres, y tienes memoria suficiente en tu PC, podrías intentar el ejemplo con el dataset completo, pero las operaciones serán mucho más lento."
   ]
  },
  {
   "cell_type": "markdown",
   "metadata": {
    "id": "P_dQTGMuKxrx"
   },
   "source": [
    "###  2. Importa las librerías de Pandas y Numpy"
   ]
  },
  {
   "cell_type": "code",
   "execution_count": 1,
   "metadata": {
    "id": "fvGUXRQjKxrx"
   },
   "outputs": [],
   "source": [
    "import pandas as pd\n",
    "import numpy as np"
   ]
  },
  {
   "cell_type": "markdown",
   "metadata": {
    "id": "e4xRaQoTKxr1"
   },
   "source": [
    "### 3. Asegúrate de que el fichero esté en la misma carpeta (semana6/dia_2) y léelo con la sentencia que tienes ahí\n"
   ]
  },
  {
   "cell_type": "code",
   "execution_count": 33,
   "metadata": {
    "colab": {
     "base_uri": "https://localhost:8080/",
     "height": 401
    },
    "collapsed": false,
    "id": "Fw4-_vDUKxr1",
    "jupyter": {
     "outputs_hidden": false
    },
    "outputId": "7aea72eb-aa6d-49a0-998f-1339ad5ee28f"
   },
   "outputs": [],
   "source": [
    "food = pd.read_csv(\"en.openfoodfacts.org.products.csv\", sep='\\t')"
   ]
  },
  {
   "cell_type": "markdown",
   "metadata": {
    "id": "y_RJTjZsKxr4"
   },
   "source": [
    "### 4. Muestra las 5 primeras filas"
   ]
  },
  {
   "cell_type": "code",
   "execution_count": null,
   "metadata": {
    "collapsed": false,
    "id": "A8qlU6mEKxr4",
    "jupyter": {
     "outputs_hidden": false
    }
   },
   "outputs": [],
   "source": []
  },
  {
   "cell_type": "markdown",
   "metadata": {
    "id": "vebRgy7MKxr6"
   },
   "source": [
    "### 5. ¿Cuántas observacinoes tiene el dataset?"
   ]
  },
  {
   "cell_type": "code",
   "execution_count": null,
   "metadata": {
    "collapsed": false,
    "id": "_-_K0umEKxr7",
    "jupyter": {
     "outputs_hidden": false
    }
   },
   "outputs": [],
   "source": []
  },
  {
   "cell_type": "markdown",
   "metadata": {
    "id": "tmmBGLq1KxsA"
   },
   "source": [
    "### 6. ¿Y el número de columnas?"
   ]
  },
  {
   "cell_type": "code",
   "execution_count": null,
   "metadata": {
    "collapsed": false,
    "id": "TbxnQpMDKxsA",
    "jupyter": {
     "outputs_hidden": false
    }
   },
   "outputs": [],
   "source": []
  },
  {
   "cell_type": "markdown",
   "metadata": {
    "id": "rbSq-xszKxsD"
   },
   "source": [
    "### 7. Muestra el nombre de TODAS las columnas"
   ]
  },
  {
   "cell_type": "code",
   "execution_count": null,
   "metadata": {
    "collapsed": true,
    "id": "yfJ6eQm_KxsD",
    "jupyter": {
     "outputs_hidden": true
    }
   },
   "outputs": [],
   "source": []
  },
  {
   "cell_type": "markdown",
   "metadata": {
    "id": "yjmI-rn1KxsF"
   },
   "source": [
    "### 8. ¿Cuál es el nombre de la columna 105ª?"
   ]
  },
  {
   "cell_type": "code",
   "execution_count": null,
   "metadata": {
    "collapsed": false,
    "id": "i6qZ3fg6KxsG",
    "jupyter": {
     "outputs_hidden": false
    }
   },
   "outputs": [],
   "source": []
  },
  {
   "cell_type": "markdown",
   "metadata": {
    "id": "OQwFOapaKxsI"
   },
   "source": [
    "### 9. ¿Cuál es el tipo de esa columna?"
   ]
  },
  {
   "cell_type": "code",
   "execution_count": null,
   "metadata": {
    "id": "Z9KPgoUjJSuZ"
   },
   "outputs": [],
   "source": []
  },
  {
   "cell_type": "markdown",
   "metadata": {
    "id": "Qwvu3xkJKxsK"
   },
   "source": [
    "### 10. ¿Cómo está indexado el dataset?"
   ]
  },
  {
   "cell_type": "code",
   "execution_count": null,
   "metadata": {
    "collapsed": false,
    "id": "FfP8uT2tKxsL",
    "jupyter": {
     "outputs_hidden": false
    }
   },
   "outputs": [],
   "source": []
  },
  {
   "cell_type": "markdown",
   "metadata": {
    "id": "RyApbH-VKxsN"
   },
   "source": [
    "### 11. ¿Cuál es el nombre de producto de la 19ª observación?"
   ]
  },
  {
   "cell_type": "code",
   "execution_count": null,
   "metadata": {
    "collapsed": false,
    "id": "2qezUKfeKxsO",
    "jupyter": {
     "outputs_hidden": false
    }
   },
   "outputs": [],
   "source": []
  },
  {
   "cell_type": "markdown",
   "metadata": {
    "id": "3dm3Pe_bKxsQ"
   },
   "source": [
    "# Ejercicio 2"
   ]
  },
  {
   "cell_type": "markdown",
   "metadata": {
    "id": "ecvQYeN8KxsQ"
   },
   "source": [
    "### 1. Comenzamos importando las librerías que vamos a utilizar"
   ]
  },
  {
   "cell_type": "code",
   "execution_count": 110,
   "metadata": {
    "collapsed": false,
    "id": "9AYaJ_nJKxsQ",
    "jupyter": {
     "outputs_hidden": false
    }
   },
   "outputs": [],
   "source": [
    "import pandas as pd\n",
    "import numpy as np"
   ]
  },
  {
   "cell_type": "markdown",
   "metadata": {
    "id": "ZjEDFI6PKxsS"
   },
   "source": [
    "### 2. Leemos el fichero directamente de la siguiente [url](https://raw.githubusercontent.com/justmarkham/DAT8/master/data/chipotle.tsv)\n",
    "\n",
    "Será de tipo .tsv. No te preocupes, es otro tipo de fichero más, que en unos días veremos junto a otros para trabajar con la lectura y escritura de datos.\n",
    "\n",
    "Además, al hacerlo directamente, no se nos descargará un fichero sino que se leerá en un DataFrame, por lo que no tendremos que andar moviendo ficheros"
   ]
  },
  {
   "cell_type": "code",
   "execution_count": 159,
   "metadata": {
    "collapsed": false,
    "id": "KpmAkMHjKxsT",
    "jupyter": {
     "outputs_hidden": false
    }
   },
   "outputs": [],
   "source": [
    "url = 'https://raw.githubusercontent.com/justmarkham/DAT8/master/data/chipotle.tsv'\n",
    "    \n",
    "chipo = pd.read_csv(url, sep = '\\t')"
   ]
  },
  {
   "cell_type": "markdown",
   "metadata": {
    "id": "sF1xS2wtKxsV"
   },
   "source": [
    "### 3. Muestra las 100 primeras filas"
   ]
  },
  {
   "cell_type": "code",
   "execution_count": null,
   "metadata": {
    "collapsed": false,
    "id": "ldO4JTMQKxsW",
    "jupyter": {
     "outputs_hidden": false
    }
   },
   "outputs": [],
   "source": []
  },
  {
   "cell_type": "markdown",
   "metadata": {
    "id": "qHZO6fGyKxsY"
   },
   "source": [
    "### 4. Traduce las columnas al castellano (el id lo puedes dejar así)"
   ]
  },
  {
   "cell_type": "code",
   "execution_count": null,
   "metadata": {
    "collapsed": false,
    "id": "AVlTzK25KxsY",
    "jupyter": {
     "outputs_hidden": false
    }
   },
   "outputs": [],
   "source": []
  },
  {
   "cell_type": "markdown",
   "metadata": {
    "id": "qHZO6fGyKxsY"
   },
   "source": [
    "### 5. ¿Cuál es el número de observaciones del dataset? Obtenlo de 2 formas diferentes"
   ]
  },
  {
   "cell_type": "code",
   "execution_count": null,
   "metadata": {
    "collapsed": false,
    "id": "AVlTzK25KxsY",
    "jupyter": {
     "outputs_hidden": false
    }
   },
   "outputs": [],
   "source": []
  },
  {
   "cell_type": "code",
   "execution_count": null,
   "metadata": {
    "collapsed": false,
    "id": "j_Se1nG2Kxsa",
    "jupyter": {
     "outputs_hidden": false
    }
   },
   "outputs": [],
   "source": []
  },
  {
   "cell_type": "markdown",
   "metadata": {
    "id": "qHZO6fGyKxsY"
   },
   "source": [
    "### 6. ¿Cuál es el número de columnas del dataset? Obtenlo de 2 formas diferentes"
   ]
  },
  {
   "cell_type": "code",
   "execution_count": null,
   "metadata": {
    "collapsed": false,
    "id": "AVlTzK25KxsY",
    "jupyter": {
     "outputs_hidden": false
    }
   },
   "outputs": [],
   "source": []
  },
  {
   "cell_type": "code",
   "execution_count": null,
   "metadata": {
    "collapsed": false,
    "id": "j_Se1nG2Kxsa",
    "jupyter": {
     "outputs_hidden": false
    }
   },
   "outputs": [],
   "source": []
  },
  {
   "cell_type": "markdown",
   "metadata": {
    "id": "MnRihwhoKxse"
   },
   "source": [
    "### 7. Imprime todas las columnas que tengan un ``_`` en su nombre"
   ]
  },
  {
   "cell_type": "code",
   "execution_count": null,
   "metadata": {
    "collapsed": false,
    "id": "vloWnx38Kxsf",
    "jupyter": {
     "outputs_hidden": false
    }
   },
   "outputs": [],
   "source": []
  },
  {
   "cell_type": "markdown",
   "metadata": {
    "id": "W5IDLV5BKxsg"
   },
   "source": [
    "### 8. ¿Cómo está indexado?"
   ]
  },
  {
   "cell_type": "code",
   "execution_count": null,
   "metadata": {
    "collapsed": false,
    "id": "7jrFvz5oKxsg",
    "jupyter": {
     "outputs_hidden": false
    }
   },
   "outputs": [],
   "source": []
  },
  {
   "cell_type": "markdown",
   "metadata": {
    "id": "V9eZv5SlKxsi"
   },
   "source": [
    "### 9. Muestra el dataset filtrado para quedarnos con los registros cuya cantidad sea mayor que 1"
   ]
  },
  {
   "cell_type": "code",
   "execution_count": null,
   "metadata": {
    "collapsed": false,
    "id": "H0SeiITYKxsi",
    "jupyter": {
     "outputs_hidden": false
    }
   },
   "outputs": [],
   "source": []
  },
  {
   "cell_type": "markdown",
   "metadata": {
    "id": "V9eZv5SlKxsi"
   },
   "source": [
    "### 10. ¿Qué tipo de datos tiene la columna que hace referencia al precio del objeto?"
   ]
  },
  {
   "cell_type": "code",
   "execution_count": null,
   "metadata": {
    "collapsed": false,
    "id": "H0SeiITYKxsi",
    "jupyter": {
     "outputs_hidden": false
    }
   },
   "outputs": [],
   "source": []
  },
  {
   "cell_type": "markdown",
   "metadata": {
    "id": "V9eZv5SlKxsi"
   },
   "source": [
    "### 11. Sobreescribe la columna de precio para que tenga un tipo numérico\n",
    "\n",
    "Para hacerlo, iteraremos por cada uno de los registros de la columna modificando cada registro para que nos quedemos con lo que nos interese.\n",
    "\n",
    "Otra opción, más segura, sería crearnos una copia de la columna en una variable, que será de tipo Series. Haremos las modificaciones sobre el Series. Y, una vez lo tengamos, sobreescribimos la columna inicial con el series modificado"
   ]
  },
  {
   "cell_type": "code",
   "execution_count": null,
   "metadata": {
    "collapsed": true,
    "id": "H0SeiITYKxsi",
    "jupyter": {
     "outputs_hidden": true
    }
   },
   "outputs": [],
   "source": []
  },
  {
   "cell_type": "markdown",
   "metadata": {
    "id": "V9eZv5SlKxsi"
   },
   "source": [
    "### 11. Crea una nueva columna 'precio_total' que sea el producto de las columnas que hacen referencia a la cantidad y al precio por objeto\n",
    "\n",
    "Asegúrate de que la columna resultado muestra lo que realmente se pide"
   ]
  },
  {
   "cell_type": "code",
   "execution_count": null,
   "metadata": {
    "collapsed": false,
    "id": "H0SeiITYKxsi",
    "jupyter": {
     "outputs_hidden": false
    }
   },
   "outputs": [],
   "source": []
  },
  {
   "cell_type": "markdown",
   "metadata": {
    "id": "V9eZv5SlKxsi"
   },
   "source": [
    "### 12. Muestra el dataset filtrado para quedarnos con los registros cuya precio total esté entre 10 y 12 dólares (límites incluidos)"
   ]
  },
  {
   "cell_type": "code",
   "execution_count": null,
   "metadata": {
    "collapsed": false,
    "id": "H0SeiITYKxsi",
    "jupyter": {
     "outputs_hidden": false
    }
   },
   "outputs": [],
   "source": []
  },
  {
   "cell_type": "markdown",
   "metadata": {
    "id": "V9eZv5SlKxsi"
   },
   "source": [
    "### 13. ¿Cuál es la media de las columnas del DataFrame?"
   ]
  },
  {
   "cell_type": "code",
   "execution_count": null,
   "metadata": {
    "collapsed": false,
    "id": "H0SeiITYKxsi",
    "jupyter": {
     "outputs_hidden": false
    }
   },
   "outputs": [],
   "source": []
  },
  {
   "cell_type": "markdown",
   "metadata": {
    "id": "V9eZv5SlKxsi"
   },
   "source": [
    "### 14. ¿Cuál es el nombre del objeto más caro?\n",
    "\n",
    "Probablemente tengas que hacerlo en varios pasos"
   ]
  },
  {
   "cell_type": "code",
   "execution_count": null,
   "metadata": {
    "collapsed": false,
    "id": "H0SeiITYKxsi",
    "jupyter": {
     "outputs_hidden": false
    }
   },
   "outputs": [],
   "source": []
  },
  {
   "cell_type": "markdown",
   "metadata": {
    "id": "V9eZv5SlKxsi"
   },
   "source": [
    "### 15. Réstale, a cada una de las columnas numéricas, el valor que tiene la primera fila\n",
    "\n",
    "Puedes hacerlo de varias formas, como utilizando un DataFrame auxiliar, ¿se te ocurre cómo podemos hacer para que obtengamos un DataFrame que mantenga los datos de las no numéricas?"
   ]
  },
  {
   "cell_type": "code",
   "execution_count": null,
   "metadata": {
    "collapsed": true,
    "id": "H0SeiITYKxsi",
    "jupyter": {
     "outputs_hidden": true
    }
   },
   "outputs": [],
   "source": []
  },
  {
   "cell_type": "markdown",
   "metadata": {
    "id": "V9eZv5SlKxsi"
   },
   "source": [
    "### 16. Repite lo mismo restándole la media\n"
   ]
  },
  {
   "cell_type": "code",
   "execution_count": null,
   "metadata": {
    "id": "H0SeiITYKxsi"
   },
   "outputs": [],
   "source": []
  }
 ],
 "metadata": {
  "colab": {
   "name": "3-ejerciciosPandas.ipynb",
   "provenance": []
  },
  "kernelspec": {
   "display_name": "Python 3",
   "language": "python",
   "name": "python3"
  },
  "language_info": {
   "codemirror_mode": {
    "name": "ipython",
    "version": 3
   },
   "file_extension": ".py",
   "mimetype": "text/x-python",
   "name": "python",
   "nbconvert_exporter": "python",
   "pygments_lexer": "ipython3",
   "version": "3.8.3"
  }
 },
 "nbformat": 4,
 "nbformat_minor": 4
}
