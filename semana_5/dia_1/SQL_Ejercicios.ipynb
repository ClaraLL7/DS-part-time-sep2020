{
 "cells": [
  {
   "cell_type": "markdown",
   "metadata": {},
   "source": [
    "![imagen](../../imagenes/ejercicios.png)\n",
    "\n",
    "# Ejercicio SQL\n",
    "Para este ejercicio usaremos una base de datos del FIFA 20. **Asegúrate que tienes el CSV \"FIFA20.csv\" en la misma carpeta donde está este Notebook**. Realiza los siguientes apartados:\n",
    "\n",
    "1. Obtén una tabla con todos los campos\n",
    "2. Obtén una tabla con los campos \"short_name\", \"club\", \"team_position\"\n",
    "3. Obtén la misma tabla que el apartado anterior, pero en este caso renombrando los campos al castellano.\n",
    "4. ¿Cuáles son todos los \"team_position\" diferentes?\n",
    "5. ¿Cuáles son todos los \"team_position\" y \"preferred_foot\" diferentes?\n",
    "6. ¿Cuáles son los jugadores diestros? (\"preferred_foot\" = \"Right\")\n",
    "7. Obtén una tabla con los jugadores influencers\n",
    "8. Obtén una tabla con los extremos izquierda ('team_position' = 'LW') influencers\n",
    "9. Obtén una tabla con los jugadores cuyo nombre empieze por \"W\" y tenga una puntuación ('overall') mayor de 80 puntos.\n",
    "  1. ¿Y si ponemos el límite de la puntuación en mayor de 90 puntos?\n",
    "10. Saca una tabla con los jugadores del Real Madrid, que NO sean diestros y tengan un potencial superior a 85\n",
    "11. ¿Cuál es el jugador con la puntuación ('overall') más alta?\n",
    "12. ¿Cuál es la media del valor (value_eur) de todos los jugadores, en millones de euros, sabiendo que las unidades del valor de la tabla son euros?\n",
    "13. ¿Cuál es la media del salario por equipo? Ordena el resultado de mayor a menor salario\n",
    "14. Calcula la máxima puntuación ('overall') por club. Ordena el resultado de menor a mayor puntuación\n",
    "\n",
    "**NOTA**: se recomienda añadir un `LIMIT 5` en la mayoría de apartados para evitar grandes outputs de las queries."
   ]
  },
  {
   "cell_type": "code",
   "execution_count": 25,
   "metadata": {},
   "outputs": [
    {
     "data": {
      "text/html": [
       "<div>\n",
       "<style scoped>\n",
       "    .dataframe tbody tr th:only-of-type {\n",
       "        vertical-align: middle;\n",
       "    }\n",
       "\n",
       "    .dataframe tbody tr th {\n",
       "        vertical-align: top;\n",
       "    }\n",
       "\n",
       "    .dataframe thead th {\n",
       "        text-align: right;\n",
       "    }\n",
       "</style>\n",
       "<table border=\"1\" class=\"dataframe\">\n",
       "  <thead>\n",
       "    <tr style=\"text-align: right;\">\n",
       "      <th></th>\n",
       "      <th>short_name</th>\n",
       "      <th>long_name</th>\n",
       "      <th>dob</th>\n",
       "      <th>club</th>\n",
       "      <th>overall</th>\n",
       "      <th>potential</th>\n",
       "      <th>value_eur</th>\n",
       "      <th>wage_eur</th>\n",
       "      <th>team_position</th>\n",
       "      <th>preferred_foot</th>\n",
       "      <th>influencer</th>\n",
       "    </tr>\n",
       "  </thead>\n",
       "  <tbody>\n",
       "    <tr>\n",
       "      <th>0</th>\n",
       "      <td>L. Messi</td>\n",
       "      <td>Lionel Andrés Messi Cuccittini</td>\n",
       "      <td>1987-06-24</td>\n",
       "      <td>FC Barcelona</td>\n",
       "      <td>94</td>\n",
       "      <td>94</td>\n",
       "      <td>95500000</td>\n",
       "      <td>565000</td>\n",
       "      <td>RW</td>\n",
       "      <td>Left</td>\n",
       "      <td>True</td>\n",
       "    </tr>\n",
       "    <tr>\n",
       "      <th>1</th>\n",
       "      <td>Cristiano Ronaldo</td>\n",
       "      <td>Cristiano Ronaldo dos Santos Aveiro</td>\n",
       "      <td>1985-02-05</td>\n",
       "      <td>Juventus</td>\n",
       "      <td>93</td>\n",
       "      <td>93</td>\n",
       "      <td>58500000</td>\n",
       "      <td>405000</td>\n",
       "      <td>LW</td>\n",
       "      <td>Right</td>\n",
       "      <td>True</td>\n",
       "    </tr>\n",
       "    <tr>\n",
       "      <th>2</th>\n",
       "      <td>Neymar Jr</td>\n",
       "      <td>Neymar da Silva Santos Junior</td>\n",
       "      <td>1992-02-05</td>\n",
       "      <td>Paris Saint-Germain</td>\n",
       "      <td>92</td>\n",
       "      <td>92</td>\n",
       "      <td>105500000</td>\n",
       "      <td>290000</td>\n",
       "      <td>CAM</td>\n",
       "      <td>Right</td>\n",
       "      <td>True</td>\n",
       "    </tr>\n",
       "    <tr>\n",
       "      <th>3</th>\n",
       "      <td>J. Oblak</td>\n",
       "      <td>Jan Oblak</td>\n",
       "      <td>1993-01-07</td>\n",
       "      <td>Atlético Madrid</td>\n",
       "      <td>91</td>\n",
       "      <td>93</td>\n",
       "      <td>77500000</td>\n",
       "      <td>125000</td>\n",
       "      <td>GK</td>\n",
       "      <td>Right</td>\n",
       "      <td>False</td>\n",
       "    </tr>\n",
       "    <tr>\n",
       "      <th>4</th>\n",
       "      <td>E. Hazard</td>\n",
       "      <td>Eden Hazard</td>\n",
       "      <td>1991-01-07</td>\n",
       "      <td>Real Madrid</td>\n",
       "      <td>91</td>\n",
       "      <td>91</td>\n",
       "      <td>90000000</td>\n",
       "      <td>470000</td>\n",
       "      <td>LW</td>\n",
       "      <td>Right</td>\n",
       "      <td>True</td>\n",
       "    </tr>\n",
       "  </tbody>\n",
       "</table>\n",
       "</div>"
      ],
      "text/plain": [
       "          short_name                            long_name         dob  \\\n",
       "0           L. Messi       Lionel Andrés Messi Cuccittini  1987-06-24   \n",
       "1  Cristiano Ronaldo  Cristiano Ronaldo dos Santos Aveiro  1985-02-05   \n",
       "2          Neymar Jr        Neymar da Silva Santos Junior  1992-02-05   \n",
       "3           J. Oblak                            Jan Oblak  1993-01-07   \n",
       "4          E. Hazard                          Eden Hazard  1991-01-07   \n",
       "\n",
       "                  club  overall  potential  value_eur  wage_eur team_position  \\\n",
       "0         FC Barcelona       94         94   95500000    565000            RW   \n",
       "1             Juventus       93         93   58500000    405000            LW   \n",
       "2  Paris Saint-Germain       92         92  105500000    290000           CAM   \n",
       "3      Atlético Madrid       91         93   77500000    125000            GK   \n",
       "4          Real Madrid       91         91   90000000    470000            LW   \n",
       "\n",
       "  preferred_foot  influencer  \n",
       "0           Left        True  \n",
       "1          Right        True  \n",
       "2          Right        True  \n",
       "3          Right       False  \n",
       "4          Right        True  "
      ]
     },
     "execution_count": 25,
     "metadata": {},
     "output_type": "execute_result"
    }
   ],
   "source": [
    "# Importamos paquetes\n",
    "import pandas as pd\n",
    "import sqlite3\n",
    "cnx = sqlite3.connect(':memory:')\n",
    "\n",
    "# Importamos datos de un CSV\n",
    "df = pd.read_csv('FIFA20.csv')\n",
    "df.head()"
   ]
  },
  {
   "cell_type": "code",
   "execution_count": 26,
   "metadata": {},
   "outputs": [],
   "source": [
    "# Pasamos el DataFrame de Pandas a SQL\n",
    "df.to_sql('fifa20', con=cnx, if_exists='replace', index=False)\n",
    "\n",
    "# Definimos la función para hacer queries.\n",
    "def sql_query(query):\n",
    "    return pd.read_sql(query, cnx)"
   ]
  },
  {
   "cell_type": "code",
   "execution_count": 27,
   "metadata": {},
   "outputs": [
    {
     "data": {
      "text/html": [
       "<div>\n",
       "<style scoped>\n",
       "    .dataframe tbody tr th:only-of-type {\n",
       "        vertical-align: middle;\n",
       "    }\n",
       "\n",
       "    .dataframe tbody tr th {\n",
       "        vertical-align: top;\n",
       "    }\n",
       "\n",
       "    .dataframe thead th {\n",
       "        text-align: right;\n",
       "    }\n",
       "</style>\n",
       "<table border=\"1\" class=\"dataframe\">\n",
       "  <thead>\n",
       "    <tr style=\"text-align: right;\">\n",
       "      <th></th>\n",
       "      <th>COUNT(1)</th>\n",
       "    </tr>\n",
       "  </thead>\n",
       "  <tbody>\n",
       "    <tr>\n",
       "      <th>0</th>\n",
       "      <td>18278</td>\n",
       "    </tr>\n",
       "  </tbody>\n",
       "</table>\n",
       "</div>"
      ],
      "text/plain": [
       "   COUNT(1)\n",
       "0     18278"
      ]
     },
     "execution_count": 27,
     "metadata": {},
     "output_type": "execute_result"
    }
   ],
   "source": [
    "# 1. Ejemplo estructura para formar las queries en este entorno. Solo dbeemos fijarnos en entender SQL de momento\n",
    "# El ejemplo obtiene la cuenta de todos los registros de la tabla\n",
    "query = '''\n",
    "SELECT COUNT(1) FROM fifa20\n",
    "'''\n",
    "\n",
    "sql_query(query)"
   ]
  },
  {
   "cell_type": "code",
   "execution_count": null,
   "metadata": {},
   "outputs": [],
   "source": [
    "# 1. Obten una tabla con todos los campos\n",
    "query = '''\n",
    "\n",
    "'''\n",
    "\n",
    "sql_query(query)"
   ]
  },
  {
   "cell_type": "code",
   "execution_count": null,
   "metadata": {},
   "outputs": [],
   "source": [
    "# 2. Obtén una tabla con los campos \"short_name\", \"club\", \"team_position\"\n",
    "query = '''\n",
    "\n",
    "'''\n",
    "\n",
    "sql_query(query)"
   ]
  },
  {
   "cell_type": "code",
   "execution_count": null,
   "metadata": {},
   "outputs": [],
   "source": [
    "# 3. Obtén la misma tabla que el apartado anterior, pero en este caso renombrando los campos al castellano.\n",
    "query = '''\n",
    "\n",
    "'''\n",
    "\n",
    "sql_query(query)"
   ]
  },
  {
   "cell_type": "code",
   "execution_count": null,
   "metadata": {},
   "outputs": [],
   "source": [
    "# 4. ¿Cuáles son todos los \"team_position\" diferentes?\n",
    "query = '''\n",
    "\n",
    "'''\n",
    "\n",
    "sql_query(query)"
   ]
  },
  {
   "cell_type": "code",
   "execution_count": null,
   "metadata": {},
   "outputs": [],
   "source": [
    "# 5. ¿Cuáles son todos los \"team_position\" y \"preferred_foot\" diferentes?\n",
    "query = '''\n",
    "\n",
    "'''\n",
    "\n",
    "sql_query(query)"
   ]
  },
  {
   "cell_type": "code",
   "execution_count": null,
   "metadata": {},
   "outputs": [],
   "source": [
    "# 6. ¿Cuáles son los jugadores diestros? (\"preferred_foot\" = \"Right\")\n",
    "query = '''\n",
    "\n",
    "'''\n",
    "\n",
    "sql_query(query)"
   ]
  },
  {
   "cell_type": "code",
   "execution_count": null,
   "metadata": {},
   "outputs": [],
   "source": [
    "# 7. Obtén una tabla con los jugadores influencers\n",
    "query = '''\n",
    "\n",
    "'''\n",
    "\n",
    "sql_query(query)"
   ]
  },
  {
   "cell_type": "code",
   "execution_count": null,
   "metadata": {},
   "outputs": [],
   "source": [
    "query = '''\n",
    "\n",
    "'''\n",
    "\n",
    "sql_query(query)"
   ]
  },
  {
   "cell_type": "code",
   "execution_count": null,
   "metadata": {},
   "outputs": [],
   "source": [
    "# 8. Obtén una tabla con los extremos izquierda ('team_position' = 'LW') influencers\n",
    "query = '''\n",
    "\n",
    "'''\n",
    "\n",
    "sql_query(query)"
   ]
  },
  {
   "cell_type": "code",
   "execution_count": null,
   "metadata": {},
   "outputs": [],
   "source": [
    "# 9. Obtén una tabla con los jugadores cuyo nombre empieze por \"W\" y tenga una puntuación ('overall') mayor de 80 puntos\n",
    "query = '''\n",
    "\n",
    "'''\n",
    "\n",
    "sql_query(query)"
   ]
  },
  {
   "cell_type": "code",
   "execution_count": null,
   "metadata": {},
   "outputs": [],
   "source": [
    "# 9. ¿Y si en lugar de 80, buscamos que la puntuación sea mayor de 90?\n",
    "query = '''\n",
    "\n",
    "'''\n",
    "\n",
    "sql_query(query)"
   ]
  },
  {
   "cell_type": "markdown",
   "metadata": {},
   "source": [
    "Correcto. Ninguno lo cumple"
   ]
  },
  {
   "cell_type": "code",
   "execution_count": null,
   "metadata": {},
   "outputs": [],
   "source": [
    "# 10. Saca una tabla con los jugadores del Real Madrid, que NO sean diestros y tengan un potencial superior a 85\n",
    "query = '''\n",
    "\n",
    "'''\n",
    "\n",
    "sql_query(query)"
   ]
  },
  {
   "cell_type": "code",
   "execution_count": null,
   "metadata": {},
   "outputs": [],
   "source": [
    "# 11. ¿Cuál es el jugador con la puntuación ('overall') más alta?\n",
    "query = '''\n",
    "\n",
    "'''\n",
    "\n",
    "sql_query(query)"
   ]
  },
  {
   "cell_type": "code",
   "execution_count": null,
   "metadata": {},
   "outputs": [],
   "source": [
    "# 12. ¿Cuál es la media del valor (value_eur) de todos los jugadores, en millones de euros, sabiendo que las unidades del valor de la tabla son euros?\n",
    "query = '''\n",
    "\n",
    "'''\n",
    "\n",
    "sql_query(query)"
   ]
  },
  {
   "cell_type": "code",
   "execution_count": null,
   "metadata": {},
   "outputs": [],
   "source": [
    "# 13. ¿Cuál es la media del salario por equipo? Ordena el resultado de mayor a menor salario\n",
    "query = '''\n",
    "\n",
    "'''\n",
    "\n",
    "sql_query(query)"
   ]
  },
  {
   "cell_type": "code",
   "execution_count": null,
   "metadata": {},
   "outputs": [],
   "source": [
    "# 14. Calcula la máxima puntuación ('overall') por club. Ordena el resultado de menor a mayor puntuación\n",
    "query = '''\n",
    "\n",
    "'''\n",
    "\n",
    "sql_query(query)"
   ]
  }
 ],
 "metadata": {
  "kernelspec": {
   "display_name": "Python 3",
   "language": "python",
   "name": "python3"
  },
  "language_info": {
   "codemirror_mode": {
    "name": "ipython",
    "version": 3
   },
   "file_extension": ".py",
   "mimetype": "text/x-python",
   "name": "python",
   "nbconvert_exporter": "python",
   "pygments_lexer": "ipython3",
   "version": "3.8.3"
  }
 },
 "nbformat": 4,
 "nbformat_minor": 4
}
