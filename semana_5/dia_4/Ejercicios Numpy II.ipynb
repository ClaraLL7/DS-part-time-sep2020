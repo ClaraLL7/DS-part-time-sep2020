{
 "cells": [
  {
   "cell_type": "markdown",
   "metadata": {},
   "source": [
    "![imagen](../../imagenes/ejercicios.png)"
   ]
  },
  {
   "cell_type": "markdown",
   "metadata": {},
   "source": [
    "## Ejercicio 1\n",
    "Crea un array unidimensional que vaya del 0 al 9. Llámalo `my_array`. \n",
    "1. Multiplica cada uno de los elementos de `my_array` por 10, en un nuevo array\n",
    "2. Accede al primer elemento del array\n",
    "3. Accede al último elemento del array\n",
    "4. Imprime por pantalla los numeros del 1 al 7"
   ]
  },
  {
   "cell_type": "code",
   "execution_count": 2,
   "metadata": {},
   "outputs": [
    {
     "name": "stdout",
     "output_type": "stream",
     "text": [
      "[0 1 2 3 4 5 6 7 8 9]\n",
      "[ 0 10 20 30 40 50 60 70 80 90]\n",
      "0\n",
      "9\n",
      "[1 2 3 4 5 6 7]\n"
     ]
    }
   ],
   "source": [
    "import numpy as np\n",
    "\n",
    "my_array = np.arange(10)\n",
    "print(my_array)\n",
    "\n",
    "# 1.\n",
    "my_array2 = my_array * 10\n",
    "print(my_array2)\n",
    "\n",
    "# 2.\n",
    "print(my_array[0])\n",
    "\n",
    "# 3.\n",
    "print(my_array[-1])\n",
    "\n",
    "# 4.\n",
    "print(my_array[1:8])"
   ]
  },
  {
   "cell_type": "markdown",
   "metadata": {},
   "source": [
    "## Ejercicio 2\n",
    "Repitamos lo mismo para un array biidimensional que vaya del 0 al 9 y que sea (2 x 5). Llámalo `my_matrix`. \n",
    "1. Multiplica cada uno de los elementos de `my_matrix` por 10, en un nuevo array\n",
    "2. Accede a la primera fila y al primer elemento del array\n",
    "3. Accede a la última fila y al último elemento del array\n",
    "4. Imprime por pantalla la primera, tercera y quita columnas. Utiliza el slicing que hemos visto"
   ]
  },
  {
   "cell_type": "code",
   "execution_count": 4,
   "metadata": {},
   "outputs": [
    {
     "name": "stdout",
     "output_type": "stream",
     "text": [
      "[[0 1 2 3 4]\n",
      " [5 6 7 8 9]]\n",
      "[[ 0 10 20 30 40]\n",
      " [50 60 70 80 90]]\n",
      "[0 1 2 3 4]\n",
      "0\n",
      "[5 6 7 8 9]\n",
      "9\n",
      "[[0 1 2 3 4]]\n"
     ]
    }
   ],
   "source": [
    "my_array = np.arange(10).reshape(2, 5)\n",
    "print(my_array)\n",
    "\n",
    "# 1.\n",
    "my_array2 = my_array * 10\n",
    "print(my_array2)\n",
    "\n",
    "# 2.\n",
    "print(my_array[0])\n",
    "print(my_array[0][0])\n",
    "\n",
    "# 3.\n",
    "print(my_array[-1])\n",
    "print(my_array[-1][-1])\n",
    "\n",
    "# 4.\n",
    "print(my_array[::2])"
   ]
  },
  {
   "cell_type": "markdown",
   "metadata": {},
   "source": [
    "## Ejercicio 3\n",
    "Repitamos lo mismo ahora para un array ndimensional del tamaño que sea. Llámalo `my_nmatrix`. \n",
    "1. Multiplica cada uno de los elementos de `my_nmatrix` por 10, en un nuevo array\n",
    "2. Imprime el primer elemento de cada subarray, es decir, en el caso de una matriz tridimensional, imprime la primera matriz bidimensional que aparezca, la primera fila que tenga esa matriz bidimensional y el primer elemento de esa fila. Utiliza un bucle for para recorrer las dimensiones. Ejemplo, si tengo una matriz de 3 dimensiones, imprimiré, matriz[0], matriz[0][0], matriz[0][0][0], pero tengo que hacerlo de forma genérica, de modo que se adapte a las dimensiones de la matriz\n",
    "3. Haz lo mismo que en el apartado 2, pero para los últimos elementos"
   ]
  },
  {
   "cell_type": "code",
   "execution_count": 11,
   "metadata": {},
   "outputs": [
    {
     "name": "stdout",
     "output_type": "stream",
     "text": [
      "[[[ 0  1  2  3  4]\n",
      "  [ 5  6  7  8  9]]\n",
      "\n",
      " [[10 11 12 13 14]\n",
      "  [15 16 17 18 19]]]\n",
      "[[0 1 2 3 4]\n",
      " [5 6 7 8 9]]\n",
      "[0 1 2 3 4]\n",
      "0\n",
      "[[[40 41 42 43 44]\n",
      "  [45 46 47 48 49]]\n",
      "\n",
      " [[50 51 52 53 54]\n",
      "  [55 56 57 58 59]]]\n",
      "[[50 51 52 53 54]\n",
      " [55 56 57 58 59]]\n",
      "[55 56 57 58 59]\n",
      "59\n"
     ]
    }
   ],
   "source": [
    "my_matrix = np.arange(60).reshape(3, 2, 2, 5)\n",
    "aux_matrix = my_matrix\n",
    "\n",
    "for i in range(my_matrix.ndim):\n",
    "    print(aux_matrix[0])\n",
    "    aux_matrix = aux_matrix[0]\n",
    "    \n",
    "\n",
    "aux_matrix = my_matrix\n",
    "\n",
    "for i in range(my_matrix.ndim):\n",
    "    print(aux_matrix[-1])\n",
    "    aux_matrix = aux_matrix[-1]\n",
    "    \n",
    "# print(my_matrix)"
   ]
  },
  {
   "cell_type": "markdown",
   "metadata": {},
   "source": [
    "## Ejercicio 4\n",
    "Obtén la siguiente secuencia:\n",
    "\n",
    "```Python\n",
    "[ 1,  4,  7, 10, 13, 16, 19, 22, 25, 28, 31, 34, 37, 40, 43, 46, 49]\n",
    "```\n"
   ]
  },
  {
   "cell_type": "code",
   "execution_count": 10,
   "metadata": {},
   "outputs": [
    {
     "data": {
      "text/plain": [
       "array([ 1,  4,  7, 10, 13, 16, 19, 22, 25, 28, 31, 34, 37, 40, 43, 46, 49])"
      ]
     },
     "execution_count": 10,
     "metadata": {},
     "output_type": "execute_result"
    }
   ],
   "source": [
    "np.arange(1,50,3)"
   ]
  },
  {
   "cell_type": "markdown",
   "metadata": {},
   "source": [
    "## Ejercicio 5\n",
    "Obtén la siguiente secuencia\n",
    "\n",
    "```Python\n",
    "[4., 3.75, 3.5 , 3.25, 3.  , 2.75, 2.5 , 2.25, 2., 1.75, 1.5 ,1.25]\n",
    "```"
   ]
  },
  {
   "cell_type": "code",
   "execution_count": 11,
   "metadata": {},
   "outputs": [
    {
     "data": {
      "text/plain": [
       "array([4.  , 3.75, 3.5 , 3.25, 3.  , 2.75, 2.5 , 2.25, 2.  , 1.75, 1.5 ,\n",
       "       1.25])"
      ]
     },
     "execution_count": 11,
     "metadata": {},
     "output_type": "execute_result"
    }
   ],
   "source": [
    "np.arange(4,1,-0.25)"
   ]
  },
  {
   "cell_type": "markdown",
   "metadata": {},
   "source": [
    "## Ejercicio 6\n",
    "\n",
    "Crea una función que tome como argumento un array numérico (no hay que hacer ninguna comprobación, vamos a suponer que el argumento que nos pasan es un array numérico y no va a tener strings ni nada por el estilo) y compruebe si todos sus elementos son enteros o, si está formada por decimales, que todas las partes decimales sean 0. En ambos casos, la función deberá devolver una matriz con enteros.\n",
    "\n",
    "NOTA: Si la matriz ya era de enteros, no hace falta hacer ninguna modificación, pero si la matriz tiene floats, tendremos que comprobar que todas las partes decimales sean 0 e ir guardando en una nueva matriz cada uno de estos elementos convertidos a entero (np.int32). Si detectamos alguna parte decimal distinta de 0, tendremos que imprimir un mensaje diciendo que esta matriz no es entera y devolveremos la matriz original."
   ]
  },
  {
   "cell_type": "code",
   "execution_count": 17,
   "metadata": {},
   "outputs": [],
   "source": [
    "def interiorizate(my_array):\n",
    "    aux_array = np.zeros(my_array.shape, np.int32)\n",
    "    for i in range(aux_array.shape[0]):\n",
    "        for j in range(aux_array.shape[1]):\n",
    "            if my_array[i][j] == int(my_array[i][j]):\n",
    "                aux_array[i][j] = int(my_array[i][j])\n",
    "            else:\n",
    "                print(\"La matriz no es entera\")\n",
    "                return my_array\n",
    "    return aux_array\n",
    "        "
   ]
  },
  {
   "cell_type": "code",
   "execution_count": 18,
   "metadata": {},
   "outputs": [
    {
     "name": "stdout",
     "output_type": "stream",
     "text": [
      "La matriz no es entera\n"
     ]
    },
    {
     "data": {
      "text/plain": [
       "array([[ 1. ,  2. ,  3. ],\n",
       "       [51. , 21.1,  0. ]])"
      ]
     },
     "execution_count": 18,
     "metadata": {},
     "output_type": "execute_result"
    }
   ],
   "source": [
    "prueba_array = np.array([[1.0, 2, 3.0],\n",
    "                        [51, 21.1, 0.0]])\n",
    "\n",
    "interiorizate(prueba_array)"
   ]
  },
  {
   "cell_type": "markdown",
   "metadata": {},
   "source": [
    "## Ejercicio 7\n",
    "Crea un array de 4x1. A continuación convierte el array a un 2x2"
   ]
  },
  {
   "cell_type": "code",
   "execution_count": 14,
   "metadata": {},
   "outputs": [
    {
     "name": "stdout",
     "output_type": "stream",
     "text": [
      "[[1]\n",
      " [2]\n",
      " [3]\n",
      " [4]]\n"
     ]
    }
   ],
   "source": [
    "x = np.array([[1],[2],[3],[4]])\n",
    "print(x)"
   ]
  },
  {
   "cell_type": "code",
   "execution_count": 15,
   "metadata": {},
   "outputs": [
    {
     "data": {
      "text/plain": [
       "array([[1, 2],\n",
       "       [3, 4]])"
      ]
     },
     "execution_count": 15,
     "metadata": {},
     "output_type": "execute_result"
    }
   ],
   "source": [
    "x.reshape((2,2))"
   ]
  },
  {
   "cell_type": "markdown",
   "metadata": {},
   "source": [
    "## Ejercicio 8\n",
    "Crea una secuencia aleatoria. La secuencia se tiene que componer de 4 matrices de 5x3. Serían 3 dimensiones diferentes."
   ]
  },
  {
   "cell_type": "code",
   "execution_count": 35,
   "metadata": {},
   "outputs": [
    {
     "name": "stdout",
     "output_type": "stream",
     "text": [
      "[[[19 13 14]\n",
      "  [10 19 11]\n",
      "  [19 11 14]\n",
      "  [11 18 12]\n",
      "  [14 12 15]]\n",
      "\n",
      " [[19 16 12]\n",
      "  [15 15 11]\n",
      "  [14 15 10]\n",
      "  [12 12 13]\n",
      "  [15 19 15]]\n",
      "\n",
      " [[12 17 18]\n",
      "  [15 16 13]\n",
      "  [15 11 12]\n",
      "  [13 16 19]\n",
      "  [19 18 10]]\n",
      "\n",
      " [[13 17 14]\n",
      "  [18 11 12]\n",
      "  [14 11 15]\n",
      "  [15 16 11]\n",
      "  [19 10 15]]]\n"
     ]
    }
   ],
   "source": [
    "np.random.seed(6)\n",
    "a = np.random.randint(10,20, size = (4,5,3))\n",
    "print(a)"
   ]
  },
  {
   "cell_type": "code",
   "execution_count": 39,
   "metadata": {},
   "outputs": [
    {
     "name": "stdout",
     "output_type": "stream",
     "text": [
      "[[[19 13 14]\n",
      "  [10 19 11]\n",
      "  [19 11 14]\n",
      "  [11 18 12]\n",
      "  [14 12 15]]\n",
      "\n",
      " [[19 16 12]\n",
      "  [15 15 11]\n",
      "  [14 15 10]\n",
      "  [12 12 13]\n",
      "  [15 19 15]]\n",
      "\n",
      " [[12 17 18]\n",
      "  [15 16 13]\n",
      "  [15 11 12]\n",
      "  [13 16 19]\n",
      "  [19 18 10]]\n",
      "\n",
      " [[13 17 14]\n",
      "  [18 11 12]\n",
      "  [14 11 15]\n",
      "  [15 16 11]\n",
      "  [19 10 15]]]\n"
     ]
    }
   ],
   "source": [
    "np.random.seed(6)\n",
    "b = np.random.randint(10,20, size = (4,5,3))\n",
    "print(b)"
   ]
  },
  {
   "cell_type": "markdown",
   "metadata": {},
   "source": [
    "## Ejercicio 9\n",
    "Crea una matriz de 10x1, toda ella compuesta por `False`. Después transformalo en un 2x5"
   ]
  },
  {
   "cell_type": "code",
   "execution_count": 40,
   "metadata": {},
   "outputs": [
    {
     "name": "stdout",
     "output_type": "stream",
     "text": [
      "[[False]\n",
      " [False]\n",
      " [False]\n",
      " [False]\n",
      " [False]\n",
      " [False]\n",
      " [False]\n",
      " [False]\n",
      " [False]\n",
      " [False]]\n"
     ]
    }
   ],
   "source": [
    "x = np.full((10,1), False)\n",
    "print(x)"
   ]
  },
  {
   "cell_type": "code",
   "execution_count": 41,
   "metadata": {},
   "outputs": [
    {
     "data": {
      "text/plain": [
       "array([[False, False, False, False, False],\n",
       "       [False, False, False, False, False]])"
      ]
     },
     "execution_count": 41,
     "metadata": {},
     "output_type": "execute_result"
    }
   ],
   "source": [
    "x.reshape((2,5))"
   ]
  },
  {
   "cell_type": "markdown",
   "metadata": {},
   "source": [
    "## Ejercicio 10\n",
    "Dado el siguiente array\n",
    "\n",
    "```Python\n",
    "x =np.random.randint(10, 20, size = (5,2,6))\n",
    "```\n",
    "\n",
    "1. ¿Cuántos elementos tiene el array?\n",
    "2. ¿Cuántas dimensiones?\n",
    "3. ¿Cuántos elementos tiene cada dimensión? (Es decir, cuál es la forma del array. En una matriz sería ¿cuántas filas y columnas tiene?)"
   ]
  },
  {
   "cell_type": "code",
   "execution_count": 44,
   "metadata": {},
   "outputs": [
    {
     "name": "stdout",
     "output_type": "stream",
     "text": [
      "[[[15 14 18 12 14 12]\n",
      "  [13 19 14 10 15 17]]\n",
      "\n",
      " [[16 11 11 17 11 16]\n",
      "  [18 11 15 19 12 12]]\n",
      "\n",
      " [[14 18 17 11 15 13]\n",
      "  [14 16 14 15 16 18]]\n",
      "\n",
      " [[15 19 17 10 13 14]\n",
      "  [16 12 17 16 10 15]]\n",
      "\n",
      " [[18 18 18 16 11 15]\n",
      "  [12 11 17 12 17 10]]]\n",
      "60\n",
      "3\n",
      "(5, 2, 6)\n"
     ]
    }
   ],
   "source": [
    "x =np.random.randint(10, 20, size = (5,2,6))\n",
    "print(x)\n",
    "\n",
    "# 1.\n",
    "print(x.size)\n",
    "\n",
    "# 2.\n",
    "print(x.ndim)\n",
    "\n",
    "# 3.\n",
    "print(x.shape)"
   ]
  },
  {
   "cell_type": "markdown",
   "metadata": {},
   "source": [
    "## Ejercicio 11\n",
    "\n",
    "Crea una función que reciba como argumento un array y te imprima por pantalla la info que hemos sacado en el ejercicio anterior:\n",
    "\n",
    "1. ¿Cuántos elementos tiene el array?\n",
    "2. ¿Cuántas dimensiones?\n",
    "3. ¿Cuántos elementos tiene cada dimensión?"
   ]
  },
  {
   "cell_type": "code",
   "execution_count": 21,
   "metadata": {},
   "outputs": [
    {
     "name": "stdout",
     "output_type": "stream",
     "text": [
      "60\n",
      "3\n",
      "(5, 2, 6)\n"
     ]
    }
   ],
   "source": [
    "x =np.random.randint(10, 20, size = (5,2,6))\n",
    "# print(x)\n",
    "\n",
    "def info_array(matriz):\n",
    "    print(matriz.size)\n",
    "    print(matriz.ndim)\n",
    "    print(matriz.shape)\n",
    "    \n",
    "info_array(x)"
   ]
  }
 ],
 "metadata": {
  "kernelspec": {
   "display_name": "Python 3",
   "language": "python",
   "name": "python3"
  },
  "language_info": {
   "codemirror_mode": {
    "name": "ipython",
    "version": 3
   },
   "file_extension": ".py",
   "mimetype": "text/x-python",
   "name": "python",
   "nbconvert_exporter": "python",
   "pygments_lexer": "ipython3",
   "version": "3.8.3"
  }
 },
 "nbformat": 4,
 "nbformat_minor": 4
}
