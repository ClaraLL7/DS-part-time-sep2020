{
 "cells": [
  {
   "cell_type": "markdown",
   "metadata": {},
   "source": [
    "## Bootcamp Data Science - The Bridge. Septiembre 2020. Precurso. "
   ]
  },
  {
   "cell_type": "markdown",
   "metadata": {},
   "source": [
    "## Repaso\n",
    "\n",
    "1. Variables y tipos:\n",
    "    - Creación de variables\n",
    "    - String\n",
    "    - Enteros\n",
    "    - Booleanos\n",
    "    - None (Ningún tipo)\n",
    "2. Operadores lógicos:\n",
    "    - Suma\n",
    "    - Resta\n",
    "    - División\n",
    "    - División absoluta\n",
    "    - Exponente\n",
    "    - Multiplicación\n",
    "    - And, or, not\n",
    "3. Listas, Tuplas y Set (Conjuntos):\n",
    "    - Acceso a dato por posiciones\n",
    "    - Tamaño de lista \n",
    "    - Listas dentro de listas\n",
    "    - Añadir datos a la listas\n",
    "    - Eliminar datos de listas\n",
    "4. Bucles:\n",
    "    - For\n",
    "    - range\n",
    "    - enumerate\n",
    "    - break\n",
    "    - while\n",
    "5. Funciones:\n",
    "    - Función con parámetros\n",
    "    - Funciones dentro de Funciones\n",
    "    - Funciones recursivas\n",
    "    - Return\n",
    "6. Input \n"
   ]
  },
  {
   "cell_type": "markdown",
   "metadata": {},
   "source": [
    "## Ejercicios:\n",
    "\n",
    "### Apartado 1:\n",
    "\n",
    "1. Crea una variable llamada 'numero_bridge' que tenga como valor 15. Tipo entero.\n",
    "2. Crea una variable llamada 'nombre_calle' que sea un string y sea 'Recoletos'\n",
    "3. Crea una variable llamada 'gusto_personal' que sea True si eres más de playa y False si eres más de montaña.\n",
    "4. Crea una variable llamada 'nada' de la siguiente forma: 'nada = None'. None no representa ningún valor. Ha de tenerse en cuenta que si se hace 'if (nada):', 'nada' actúa como un valor booleano False. Para más información, observar el primer ejemplo de abajo.\n",
    "5. Crea una variable que llamada 'lista_direccion' que sea una lista y que contenga 2 valores. El primer valor debe ser la variable 'numero_bridge' y el segundo valor de la lista debe ser la variable 'nombre_calle'\n",
    "6. Crea una variable llamada 'horas_sueno' que almacene, en forma de String, las horas que has dormido hoy. Ejemplo: horas_sueno = \"8\" \n",
    "6. Crea una lista llamada 'lista_informacion' que tenga cada una de las variables creadas anteriormente en el orden en el que se han expuesto en el ejercicio.\n",
    "\n",
    "IMPORTANTE: A partir de este momento y para todos estos ejercicios, solo se van a utilizar los datos almacenados en 'lista_informacion'. Debe contener 6 elementos. "
   ]
  },
  {
   "cell_type": "code",
   "execution_count": 61,
   "metadata": {},
   "outputs": [],
   "source": [
    "numero_bridge = 15\n",
    "nombre_calle = \"Recoletos\"\n",
    "gusto_personal = False\n",
    "nada = None\n",
    "lista_direccion = [numero_bridge, nombre_calle]\n",
    "horas_sueno = \"7\"\n",
    "lista_informacion = [numero_bridge, nombre_calle, gusto_personal, nada, lista_direccion, horas_sueno]"
   ]
  },
  {
   "cell_type": "code",
   "execution_count": 62,
   "metadata": {},
   "outputs": [
    {
     "data": {
      "text/plain": [
       "6"
      ]
     },
     "execution_count": 62,
     "metadata": {},
     "output_type": "execute_result"
    }
   ],
   "source": [
    "len(lista_informacion)"
   ]
  },
  {
   "cell_type": "markdown",
   "metadata": {},
   "source": [
    "#### Borrar variables. Del\n",
    "Ejecuta esta celda de jupyter para borrar todas las variables que has tenido que crear antes. El contenido de 'lista_informacion' no cambiará. De esta forma, nos aseguraremos de que solo uses la información de 'lista_informacion'. "
   ]
  },
  {
   "cell_type": "code",
   "execution_count": 63,
   "metadata": {},
   "outputs": [],
   "source": [
    "del numero_bridge, nombre_calle, gusto_personal , nada, lista_direccion, horas_sueno"
   ]
  },
  {
   "cell_type": "markdown",
   "metadata": {},
   "source": [
    "### Apartado 2\n",
    "\n",
    "### Ejercicios con 'lista_informacion'. Recuerda no usar las variables excepto 'lista_informacion'. Leer cada punto hasta el final antes de hacer la tarea. \n",
    "\n",
    "1. Mostrar por pantalla, sin uso de funciones ni bucles: \n",
    "    - La concatenación del número de The Bridge, dos puntos y el nombre de la calle. \n",
    "    - La suma del número de The Bridge y las horas que has dormido hoy. \n",
    "    - La concatenación del número de The Bridge, el nombre de la calle, tu gusto personal y las horas de sueño. Cada uno debe estar separado por lo siguiente: \" : \".\n",
    "    - Accediendo a la lista de la quinta posición de 'lista_informacion' muestra por pantalla la suma de lo siguiente (si la quinta posición de tu 'lista_informacion' no es una lista, pregunta a los profesores):\n",
    "        - La concatenación de los dos elementos. \n",
    "        - La multiplicación del tamaño de la lista de la quinta posición de 'lista_informacion' y el tamaño del número de caracteres que tiene el nombre de la calle.\n",
    "\n",
    "2. Dentro de funciones con el nombre que decidáis, con un argumento de entrada llamado 'lista' siendo este la 'lista_informacion' cuando se invoque a la función. Cuando sea 'recorre' se refiere a bucle 'for'. Cada punto representa una función y celda de Jupyter diferente:\n",
    "\n",
    "    - Mostrar por pantalla \"Me gusta la tranquilidad\" si te gusta más la montaña y \"Me gusta ver las carnes al aire libre\" si te gusta más la playa.\n",
    "    - Mostrar por pantalla \"Hoy estoy cansado\" si has dormido menos de 7 horas y \"Hoy me como el mundo\" si has dormido más de 7 horas. \n",
    "    - Recorrer 'lista' para mostrar todos los elementos que contiene. \n",
    "    - Recorrer 'lista' para mostrar todos los elementos que contiene concatenado con el string \"--> OK\"\n",
    "    - Recorrer 'lista' para mostrar todos los elementos que contiene excepto el primero\n",
    "    - Recorrer 'lista' para mostrar todos los elementos que contiene excepto el último. \n",
    "    - Recorrer 'lista' para mostrar todos los elementos que contiene excepto el número de la calle y las horas que has dormido.\n",
    "    - Recorrer 'lista' para mostrar todos los elementos que contiene excepto el primer elemento de la lista de la quinta posición. \n",
    "    - Recorrer 'lista' para mostrar todos los elementos que contiene excepto el que contiene la información sobre si os gusta la montaña o playa SI os gusta la montaña.\n",
    "    - Recorrer 'lista' para mostrar el último elemento.\n",
    "    - Crear una variable llamada 'zona' y darle el valor de None. Recorrer 'lista' y actualizar 'zona' a True si y solo si has dormido más de 7 horas, te gusta la playa y la suma de las horas que has dormido más el número de The Bridge es menor a 24. Para cualquier otro caso, 'zona' será False. Retornar el valor de 'zona'. Esta función se llamará 'funcion_zona'.\n",
    "    - Dentro de una función llamada 'funcion_comprobacion' que recibe solo un parámetro llamado 'valor_zona' que será el valor que devuelve la función 'funcion_zona' cuando sea invocado, mostrar el valor de 'valor_zona' si es True.\n",
    "\n",
    "\n",
    "3. Hacer un programa que pregunte si le gusta la montaña al usuario y, si es que no, llame a la función funcion_zona. \n",
    "\n",
    "4. Hacer una función que guarde en una variable el valor de 'nada' y lo devuelva por pantalla. Concatenar su valor con el número de the bridge y mostrarlo por pantalla. Ahora, mostrar por pantalla un booleano True si el tamaño de la palabra concatenada es 6. Sino, será False. La función debe retornar el valor True o False. El nombre de la función será 'f_s'.\n",
    "\n",
    "5. Crear una lista 'lista_aux' con 7 elementos (los que queráis). Crear una función 'funcion_usa_f_s' que reciba por parámetros dos argumento 'f_s' y 'lista'.  Si el valor de 'f_s' es True, entonces borrar el un elemento de 'lista'. Si 'lista' tiene algún elemento, entonces repetir el proceso hasta que no tenga elementos. La entrada 'lista' ha de ser 'lista_aux' y 'f_s' será la función 'f_s' del punto anterior.\n",
    "\n",
    "6. Crear una función 'numeros_pares' que tenga un parámetro de entrada 'arg1' (Entero). La función debe mostrar por pantalla y retornar una lista de números de tamaño 'arg1' siendo números pares.\n",
    "\n",
    "7. Crear una función que tenga una variable de entrada 'arg1' (que será la lista de números pares del apartado anterior) y que elimine elementos de la lista (uno a uno) si 'arg1' tiene un tamaño divisible entre 2 y, si no lo tiene, añada, solo una vez, el valor de la función 'f_s'."
   ]
  },
  {
   "cell_type": "code",
   "execution_count": 64,
   "metadata": {},
   "outputs": [
    {
     "name": "stdout",
     "output_type": "stream",
     "text": [
      "1.1\n",
      "15:Recoletos\n",
      "1.2\n",
      "22\n",
      "1.3\n",
      "15 : Recoletos : False : 7\n",
      "15:Recoletos:False:7\n",
      "1.4\n",
      "15Recoletos\n",
      "1.5\n",
      "18\n"
     ]
    }
   ],
   "source": [
    "# Apartado 1\n",
    "#1.1 La concatenación del número de The Bridge, dos puntos y el nombre de la calle.\n",
    "print(1.1)\n",
    "print (str(lista_informacion[0]) + \":\" + lista_informacion[1])\n",
    "\n",
    "\n",
    "#1.2 La suma del número de The Bridge y las horas que has dormido hoy.\n",
    "print(1.2)\n",
    "print (lista_informacion[0] + int(lista_informacion[5]))\n",
    "\n",
    "#1.3 La concatenación del número de The Bridge, el nombre de la calle, tu gusto personal y las horas de sueño. Cada uno debe estar separado por lo siguiente: \" : \".\n",
    "print(1.3)\n",
    "print(str(lista_informacion[0]), \":\",\n",
    "      lista_informacion[1], \":\",\n",
    "      lista_informacion[2], \":\",\n",
    "      lista_informacion[5])\n",
    "\n",
    "print(str(lista_informacion[0]) + \":\" + str(lista_informacion[1]) + \":\" + str(lista_informacion[2]) + \":\" + str(lista_informacion[5]))\n",
    "\n",
    "#Accediendo a la lista de la quinta posición de 'lista_informacion' muestra por pantalla la suma de lo siguiente (si la quinta posición de tu 'lista_informacion' no es una lista, pregunta a los profesores):\n",
    "\n",
    "#La concatenación de los dos elementos.\n",
    "print(1.4)\n",
    "print(str(lista_informacion[4][0]) + lista_informacion[4][1])\n",
    "#La multiplicación del tamaño de la lista de la quinta posición de 'lista_informacion' y el tamaño del número de caracteres que tiene el nombre de la calle.\n",
    "print(1.5)\n",
    "print(len(lista_informacion[4] * len(lista_informacion[1])))\n"
   ]
  },
  {
   "cell_type": "code",
   "execution_count": 65,
   "metadata": {},
   "outputs": [
    {
     "data": {
      "text/plain": [
       "'Me gusta la tranquilidad'"
      ]
     },
     "execution_count": 65,
     "metadata": {},
     "output_type": "execute_result"
    }
   ],
   "source": [
    "# Mostrar por pantalla \"Me gusta la tranquilidad\" si te gusta más la montaña y \"Me gusta ver las carnes al aire libre\" si te gusta más la playa\n",
    "\n",
    "def tranqilidad(lista):\n",
    "    if lista[2] == True:\n",
    "        return \"Me gusta ver las carnes al aire libre\"\n",
    "    else:\n",
    "        return \"Me gusta la tranquilidad\"\n",
    "tranqilidad(lista_informacion)"
   ]
  },
  {
   "cell_type": "code",
   "execution_count": 66,
   "metadata": {},
   "outputs": [
    {
     "name": "stdout",
     "output_type": "stream",
     "text": [
      "Hoy me como el mundo\n"
     ]
    }
   ],
   "source": [
    "# Mostrar por pantalla \"Hoy estoy cansado\" si has dormido menos de 7 horas y \"Hoy me como el mundo\" si has dormido más de 7 horas.\n",
    "def cansacion(lista):\n",
    "    if int(lista[5]) >= 7:\n",
    "        print(\"Hoy me como el mundo\")\n",
    "    else :\n",
    "        print(\"Hoy estoy cansado\")\n",
    "cansacion(lista_informacion)"
   ]
  },
  {
   "cell_type": "code",
   "execution_count": 67,
   "metadata": {},
   "outputs": [],
   "source": [
    "# Recorrer 'lista' para mostrar todos los elementos que contiene. \n",
    "def muestra_elementos(lista):\n",
    "    for elemento in lista:\n",
    "        print(elemento)"
   ]
  },
  {
   "cell_type": "code",
   "execution_count": 68,
   "metadata": {},
   "outputs": [
    {
     "name": "stdout",
     "output_type": "stream",
     "text": [
      "15--> OK\n",
      "Recoletos--> OK\n",
      "False--> OK\n",
      "None--> OK\n",
      "[15, 'Recoletos']--> OK\n",
      "7--> OK\n"
     ]
    }
   ],
   "source": [
    "# Recorrer 'lista' para mostrar todos los elementos que contiene concatenado con el string \"--> OK\"\n",
    "def funcion_concatenar(lista):\n",
    "    cadena = \"--> OK\"\n",
    "    for elemento in lista:\n",
    "        print(str(elemento) + cadena)\n",
    "funcion_concatenar(lista=lista_informacion)"
   ]
  },
  {
   "cell_type": "code",
   "execution_count": 69,
   "metadata": {},
   "outputs": [
    {
     "name": "stdout",
     "output_type": "stream",
     "text": [
      "[15, 'Recoletos', False, None, [15, 'Recoletos'], '7']\n",
      "['Recoletos', False, None, [15, 'Recoletos'], '7']\n",
      "[15, 'Recoletos', False, None, [15, 'Recoletos']]\n"
     ]
    }
   ],
   "source": [
    "print(lista_informacion)\n",
    "print(lista_informacion[1:])\n",
    "print(lista_informacion[:-1])"
   ]
  },
  {
   "cell_type": "code",
   "execution_count": 70,
   "metadata": {},
   "outputs": [
    {
     "name": "stdout",
     "output_type": "stream",
     "text": [
      "Recoletos\n",
      "False\n",
      "None\n",
      "[15, 'Recoletos']\n",
      "7\n"
     ]
    }
   ],
   "source": [
    "# Recorrer 'lista' para mostrar todos los elementos que contiene excepto el primero\n",
    "def excepto_primero(lista):\n",
    "    posicion = 0\n",
    "    for x in lista:\n",
    "        if (posicion != 0):\n",
    "            print(x)\n",
    "        posicion += 1\n",
    "\n",
    "excepto_primero(lista=lista_informacion)"
   ]
  },
  {
   "cell_type": "code",
   "execution_count": 71,
   "metadata": {},
   "outputs": [
    {
     "name": "stdout",
     "output_type": "stream",
     "text": [
      "15\n",
      "Recoletos\n",
      "False\n",
      "None\n",
      "[15, 'Recoletos']\n"
     ]
    }
   ],
   "source": [
    "# Recorrer 'lista' para mostrar todos los elementos que contiene excepto el último. \n",
    "def excepto_ultimo(lista):\n",
    "    posicion = 0\n",
    "    for x in lista:\n",
    "        if posicion < (len(lista) - 1):\n",
    "            print(x)\n",
    "        posicion = posicion + 1\n",
    "excepto_ultimo(lista=lista_informacion)"
   ]
  },
  {
   "cell_type": "code",
   "execution_count": 72,
   "metadata": {},
   "outputs": [
    {
     "name": "stdout",
     "output_type": "stream",
     "text": [
      "[15, 'Recoletos', False, None, [15, 'Recoletos'], '7']\n",
      "Recoletos\n",
      "False\n",
      "None\n",
      "[15, 'Recoletos']\n"
     ]
    }
   ],
   "source": [
    "# Recorrer 'lista' para mostrar todos los elementos que contiene excepto el número de la calle y las horas que has dormido\n",
    "def no_calle_dormir(lista):\n",
    "    \n",
    "    for x in range(len(lista)):\n",
    "        \n",
    "        if x in [0,5]:\n",
    "            continue\n",
    "        \n",
    "        print(lista[x])\n",
    "\n",
    "print(lista_informacion)\n",
    "no_calle_dormir(lista=lista_informacion)"
   ]
  },
  {
   "cell_type": "code",
   "execution_count": 73,
   "metadata": {},
   "outputs": [
    {
     "name": "stdout",
     "output_type": "stream",
     "text": [
      "15\n",
      "Recoletos\n",
      "False\n",
      "None\n",
      "Recoletos\n",
      "7\n"
     ]
    }
   ],
   "source": [
    "# Recorrer 'lista' para mostrar todos los elementos que contiene excepto el primer elemento de la lista de la quinta posición\n",
    "def quinto_elemento(lista):\n",
    "    posicion = 0\n",
    "    for x in range(len(lista)):\n",
    "        if x == 4: \n",
    "            print(lista[x][1])\n",
    "        else:\n",
    "            print(lista[x])\n",
    "        posicion += 1\n",
    "\n",
    "quinto_elemento(lista=lista_informacion)"
   ]
  },
  {
   "cell_type": "code",
   "execution_count": 74,
   "metadata": {},
   "outputs": [
    {
     "name": "stdout",
     "output_type": "stream",
     "text": [
      "15\n",
      "Recoletos\n",
      "False\n",
      "None\n",
      "[15, 'Recoletos']\n",
      "7\n"
     ]
    }
   ],
   "source": [
    "# Recorrer 'lista' para mostrar todos los elementos que contiene excepto el que contiene la información sobre si os gusta la montaña o playa SI os gusta la montaña.\n",
    "def except_playa(lista):\n",
    "\n",
    "    for x in range(len(lista)):\n",
    "        if x == 2 and lista[x] == True: \n",
    "            continue\n",
    "        else:\n",
    "            print(lista[x])\n",
    "\n",
    "except_playa(lista=lista_informacion)"
   ]
  },
  {
   "cell_type": "code",
   "execution_count": 75,
   "metadata": {},
   "outputs": [
    {
     "name": "stdout",
     "output_type": "stream",
     "text": [
      "[15, 'Recoletos', False, None, [15, 'Recoletos'], '7']\n",
      "15\n",
      "Recoletos\n",
      "False\n",
      "None\n",
      "[15, 'Recoletos']\n"
     ]
    }
   ],
   "source": [
    "# Recorrer 'lista' para mostrar el último elemento\n",
    "def excepto_ultimo(lista):\n",
    "    posicion = 0\n",
    "    for x in lista:\n",
    "        if lista.index(x) == len(lista)-1:\n",
    "            continue\n",
    "        print(x)\n",
    "\n",
    "print(lista_informacion)\n",
    "excepto_ultimo(lista=lista_informacion)"
   ]
  },
  {
   "cell_type": "markdown",
   "metadata": {},
   "source": [
    "Crear una variable llamada 'zona' y darle el valor de None. Recorrer 'lista' y actualizar 'zona' a True si y solo si has dormido más de 7 horas, te gusta la playa y la suma de las horas que has dormido más el número de The Bridge es menor a 24. Para cualquier otro caso, 'zona' será False. Retornar el valor de 'zona'. Esta función se llamará 'funcion_zona'"
   ]
  },
  {
   "cell_type": "code",
   "execution_count": 76,
   "metadata": {},
   "outputs": [
    {
     "data": {
      "text/plain": [
       "[15, 'Recoletos', False, None, [15, 'Recoletos'], '7']"
      ]
     },
     "execution_count": 76,
     "metadata": {},
     "output_type": "execute_result"
    }
   ],
   "source": [
    "lista_informacion"
   ]
  },
  {
   "cell_type": "code",
   "execution_count": 77,
   "metadata": {},
   "outputs": [],
   "source": [
    "def funcion_zona(lista):\n",
    "    zona = None\n",
    "    \n",
    "    if int(lista[5]) > 7 and lista[2] and (int(lista[5]) + int(lista[0])) < 24:\n",
    "        zona = True\n",
    "    return zona\n",
    "    \n",
    "funcion_zona(lista=lista_informacion)"
   ]
  },
  {
   "cell_type": "markdown",
   "metadata": {},
   "source": [
    "### Apartado 3\n",
    "\n",
    "Para este apartado se utilizará la lista 'lista_información. A esa lista, ha de añadirse UTILIZANDO el método 'append':\n",
    "\n",
    "- Un booleano que sea True si utilizas gafas. False para lo contrario. \n",
    "- Un entero que represente tu edad. \n",
    "- Un float que represente el dinero que te has gastado en tu última compra.\n",
    "- Un string que represente el nombre de uno de tus tí@s. Si no tienes, el nombre de uno de tus herman@s. Si no tienes, alguno de tus abuel@s. Si no tienes, el nombre de tu mejor amigo. Y, si no tienes, el nombre de tu psicólog@.\n",
    "- Una lista que tenga como tamaño 5. Cada una de las posiciones debe representar los números que más te gusten en el rango [[0-100]] dividido entre 10. Es decir, si eliges el 11, el número sería el 1.1. Si eliges el 100, sería el 10.  \n",
    "\n",
    "Por último, han de eliminarse las variables 'none' y 'lista_direccion' de dos formas:\n",
    "\n",
    "- 'nada' con el método 'remove' de una lista. \n",
    "- 'lista_direccion' con el método 'pop' con el que se puede eliminar el elemento de una lista a través de una posición. Para más información, hemos puesto un ejemplo más abajo.\n",
    "\n",
    "\n"
   ]
  },
  {
   "cell_type": "code",
   "execution_count": 78,
   "metadata": {},
   "outputs": [
    {
     "data": {
      "text/plain": [
       "[15, 'Recoletos']"
      ]
     },
     "execution_count": 78,
     "metadata": {},
     "output_type": "execute_result"
    }
   ],
   "source": [
    "gafas = True\n",
    "lista_informacion.append(gafas)\n",
    "\n",
    "edad = 32\n",
    "lista_informacion.append(edad)\n",
    "\n",
    "dinero = 331.74\n",
    "lista_informacion.append(dinero)\n",
    "\n",
    "tio = \"Pepe\"\n",
    "lista_informacion.append(tio)\n",
    "\n",
    "numeros_favoritos = [5, 10, 15, 20, 25]\n",
    "lista_informacion.append(numeros_favoritos)\n",
    "\n",
    "lista_informacion.remove(None)\n",
    "\n",
    "lista_informacion.pop(3)"
   ]
  },
  {
   "cell_type": "markdown",
   "metadata": {},
   "source": [
    "### Apartado 4. Creación de funciones con return preparatorio. \n",
    "\n",
    "A partir de ahora solo se utilizará la 'lista_informacion' actualizada. La 'lista_informacion' debe contener 9 posiciones. Si no contiene 9, pregunta a los profesores.\n",
    "\n",
    "Crear una nueva celda por cada apartado: \n",
    "\n",
    "- Función 'nb' que reciba por parámetro 'lista' y que retorne el número de The Bridge.\n",
    "- Función 'nc' que reciba por parámetro 'lista' y que retorne el nombre de la calle de The Bridge.\n",
    "- Función 'gp' que reciba por parámetro 'lista' y que retorne tu gusto personal.\n",
    "- Función 'hs' que reciba por parámetro 'lista' y que retorne las horas de sueño.\n",
    "- Función 'ul' que reciba por parámetro 'lista' y que retorne la última posicón de 'lista'.\n",
    "\n",
    "A partir de este momento, si se requiere utilizar uno de estos valores, se accederá a ellos a partir de las funciones anteriormente creadas, no directamente desde la lista."
   ]
  },
  {
   "cell_type": "code",
   "execution_count": 83,
   "metadata": {},
   "outputs": [
    {
     "data": {
      "text/plain": [
       "9"
      ]
     },
     "execution_count": 83,
     "metadata": {},
     "output_type": "execute_result"
    }
   ],
   "source": [
    "len(lista_informacion)"
   ]
  },
  {
   "cell_type": "code",
   "execution_count": 84,
   "metadata": {},
   "outputs": [],
   "source": [
    "def nb(lista):\n",
    "    return lista[0]\n",
    "\n",
    "def nc(lista):\n",
    "    return lista[1]\n",
    "\n",
    "def gp(lista):\n",
    "    return lista[4]\n",
    "\n",
    "def hs(lista):\n",
    "    return int(lista[3])\n",
    "\n",
    "def ul(lista):\n",
    "    return lista[-1]\n"
   ]
  },
  {
   "cell_type": "markdown",
   "metadata": {},
   "source": [
    "### Apartado 5. Break en bucles for.\n",
    "\n",
    "Crear una nueva celda por cada apartado: \n",
    "\n",
    "- Función 'string_mayor_5' que reciba por parámetro 'lista' ('lista_informacion'). Se debe recorrer 'lista' transformando cada elemento en string y, si el tamaño del string es mayor a 5, el bucle debe parar. La función ha de devolver el primer elemento con string mayor a 5.\n",
    "\n",
    "- Función 'lista_consecutivos' que recibe por parámetro 'limite'. Debe retornar una lista con números que empiece en el 0 y acabe en el número 'límite'. 'limite' será 18 cuando la función sea invocada. \n",
    "\n",
    "- Función 'posicion_15' que reciba un parámetro 'funcion_lista_consecutivos' y 'lista' y deberá devolver el elemento de la lista que devuelve la función 'lista_consecutivos' que represente la posicion 15. Es dentro de la función 'posicion_15' donde hay que llamar a 'funcion_lista_consecutivos' con el parámetro 'lista' como parámetro de entrada de 'lista_consecutivos'. El argumento 'límite' será 18 cuando 'lista_consecutivos' sea invocada.\n",
    "\n",
    "Ejemplo: \n",
    "x = posicion_15(funcion_lista_consecutivos=lista_consecutivos, lista=lista_informacion)"
   ]
  },
  {
   "cell_type": "code",
   "execution_count": 85,
   "metadata": {},
   "outputs": [],
   "source": [
    "def string_mayor_5(lista):\n",
    "    for i in lista:\n",
    "        if len(str(i)) > 5:\n",
    "            break\n",
    "    return i"
   ]
  },
  {
   "cell_type": "code",
   "execution_count": 87,
   "metadata": {},
   "outputs": [],
   "source": [
    "def lista_consecutivos(limite=18):\n",
    "    lista = []\n",
    "    for i in range(limite+1):\n",
    "        lista.append(i)\n",
    "    return lista\n",
    "\n",
    "# Mucho más sencillo:\n",
    "# def lista_consecutivos(limite=18):\n",
    "#     return list(range(1, limite+1))"
   ]
  },
  {
   "cell_type": "code",
   "execution_count": 92,
   "metadata": {},
   "outputs": [],
   "source": [
    "def posicion_15(funcion_lista_consecutivos):\n",
    "    lista = funcion_lista_consecutivos(limite=18)\n",
    "    return lista[15]"
   ]
  },
  {
   "cell_type": "code",
   "execution_count": 93,
   "metadata": {},
   "outputs": [
    {
     "data": {
      "text/plain": [
       "15"
      ]
     },
     "execution_count": 93,
     "metadata": {},
     "output_type": "execute_result"
    }
   ],
   "source": [
    "posicion_15(lista_consecutivos)"
   ]
  },
  {
   "cell_type": "markdown",
   "metadata": {},
   "source": [
    "### Apartado 6. Bucle while.\n",
    "\n",
    "Crear una nueva celda por cada apartado: \n",
    "\n",
    "- Crear una función reciba por parámetro 'lista' que muestre todos los elementos que tiene usando un bucle while. Llamar a la función con 'lista_informacion'.\n",
    "- Realizar todos los apartados del apartado 2.2 cuyo enunciado aparece la palabra 'recorrer' excepto el que se utiliza la 'lista_direccion' borrada en el apartado 3. \n",
    "- Realizar el apartado 5 con bucle while en vez de bucle for. \n",
    "- Realizar una función que realice la función de fibonacci con un while.\n",
    "\n",
    "\n",
    "\n"
   ]
  },
  {
   "cell_type": "code",
   "execution_count": 94,
   "metadata": {},
   "outputs": [
    {
     "name": "stdout",
     "output_type": "stream",
     "text": [
      "15\n",
      "Recoletos\n",
      "False\n",
      "7\n",
      "True\n",
      "32\n",
      "331.74\n",
      "Pepe\n",
      "[5, 10, 15, 20, 25]\n"
     ]
    }
   ],
   "source": [
    "def fun1(lista):\n",
    "    i = 0\n",
    "    while i < len(lista):\n",
    "        print(lista[i])\n",
    "        i = i + 1\n",
    "        \n",
    "fun1(lista_informacion)"
   ]
  },
  {
   "cell_type": "code",
   "execution_count": null,
   "metadata": {},
   "outputs": [],
   "source": []
  },
  {
   "cell_type": "code",
   "execution_count": 96,
   "metadata": {},
   "outputs": [],
   "source": [
    "def string_mayor_5(lista):\n",
    "    i=0\n",
    "    while i < len(lista):\n",
    "        if len(str(lista[i])) > 5:\n",
    "            break\n",
    "        i = i + 1\n",
    "    return i"
   ]
  },
  {
   "cell_type": "code",
   "execution_count": 97,
   "metadata": {},
   "outputs": [],
   "source": [
    "def lista_consecutivos(limite=18):\n",
    "    lista = []\n",
    "    while i <= limite:\n",
    "        lista.append(i)\n",
    "        i = i + 1\n",
    "    return lista\n",
    "\n",
    "# Mucho más sencillo:\n",
    "# def lista_consecutivos(limite=18):\n",
    "#     return list(range(1, limite+1))"
   ]
  },
  {
   "cell_type": "code",
   "execution_count": 99,
   "metadata": {},
   "outputs": [
    {
     "data": {
      "text/plain": [
       "[0, 1, 1, 2, 3, 5, 8, 13, 21, 34, 55, 89]"
      ]
     },
     "execution_count": 99,
     "metadata": {},
     "output_type": "execute_result"
    }
   ],
   "source": [
    "def fibonacci(max_iter=10):\n",
    "    # Empezamos con lo básico:\n",
    "    lista = [0, 1]\n",
    "    n_iter = 1\n",
    "    \n",
    "    # Itermamos hasta llegar al número de iteraciones pedido:\n",
    "    while n_iter <= max_iter:\n",
    "        lista.append(lista[n_iter-1] + lista[n_iter])\n",
    "        n_iter += 1 # equivalente a n_iter = n_iter + 1\n",
    "    return lista\n",
    "\n",
    "fibonacci(10)"
   ]
  },
  {
   "cell_type": "markdown",
   "metadata": {},
   "source": [
    "### Apartado 7. Importación de módulos.\n",
    "\n",
    "Un módulo representa un fichero de extensión '.py' que contiene código python. Importando un módulo, podemos acceder a todas las variable, funciones y clases no privadas que contiene. \n",
    "\n",
    "En la propia carpeta del día de hoy, hay un fichero llamado 'nombre_modulo.py'. Vamos a importarlo y usar alguna de sus variables y funciones. "
   ]
  },
  {
   "cell_type": "code",
   "execution_count": 58,
   "metadata": {},
   "outputs": [
    {
     "name": "stdout",
     "output_type": "stream",
     "text": [
      "hola\n",
      "adiós\n",
      "2\n"
     ]
    }
   ],
   "source": [
    "from nombre_modulo import hola_y_adios, var1\n",
    "\n",
    "hola_y_adios()\n",
    "\n",
    "print(var1)"
   ]
  },
  {
   "cell_type": "markdown",
   "metadata": {},
   "source": [
    "### Apartado 8: Ejercicios\n",
    "\n",
    "- Programa una calculadora que pregunte por pantalla dos números y dos operadores. Se debe realizar primero una operación y luego otra. Trata de definir el mayor número de funciones posibles. \n",
    "- Programa, definiendo funciones, el juego 'piedra, papel o tijera'. \n",
    "- Haz un programa que, a partir de las cadenas \"|\" y \"_\", muestre por pantalla un tablero de ajedrez 8x8. \n",
    "- Haz un programa utilizando 'while' que genere una baraja de cartas de 4 palos distintos. La baraja ha de tener 40 cartas. "
   ]
  },
  {
   "cell_type": "code",
   "execution_count": 8,
   "metadata": {},
   "outputs": [
    {
     "name": "stdin",
     "output_type": "stream",
     "text": [
      "Dame un número 45.2\n",
      "Dame un número 10\n",
      "Dame un operador **\n",
      "Dame un operador *\n"
     ]
    },
    {
     "name": "stdout",
     "output_type": "stream",
     "text": [
      "El resultado de 45.2 ** 10.0 = 35594618954550872.00\n",
      "Y el resultado de 45.2 * 10.0 = 452.00\n"
     ]
    }
   ],
   "source": [
    "def lee_numero():\n",
    "    invalid = True\n",
    "    while(invalid):\n",
    "        try:\n",
    "            num = float(input(\"Dame un número\"))\n",
    "            return num\n",
    "        except:\n",
    "            print(\"Eso no es un número, trata de no poner , sino . (y que sea numérico, no metas letras)\")\n",
    "            invalid = True\n",
    "\n",
    "\n",
    "def opera(num1, num2):\n",
    "    ope = input(\"Dame un operador\")\n",
    "    \n",
    "    while (len(ope) != 1 or ope not in \"+-*//%\") and ope != \"**\":\n",
    "        print(\"\"\"Operación no implementada. Solo será válido:\n",
    "        \\t'+': para suma\n",
    "        \\t'-': para resta\n",
    "        \\t'*': para producto\n",
    "        \\t'**': para potencia\n",
    "        \\t'/': para división\n",
    "        \\t'%': para módulo\"\"\")\n",
    "        ope = input(\"Dame un número\")\n",
    "        \n",
    "    if ope == '+':\n",
    "        resultado = num1 + num2\n",
    "    elif ope == '-':\n",
    "        resultado = num1 - num2\n",
    "    elif ope == '*':\n",
    "        resultado = num1 * num2\n",
    "    elif ope == '**':\n",
    "        resultado = num1 ** num2\n",
    "    elif ope == '/':\n",
    "        resultado = num1 / num2\n",
    "    elif ope == '%':\n",
    "        resultado = num1 % num2        \n",
    "    return ope, resultado\n",
    "\n",
    "\n",
    "num1 = lee_numero()\n",
    "num2 = lee_numero()\n",
    "ope1, resultado1 = opera(num1, num2)\n",
    "ope2, resultado2 = opera(num1, num2)\n",
    "\n",
    "print(f\"El resultado de {num1} {ope1} {num2} = {resultado1:5.2f}\")\n",
    "print(f\"Y el resultado de {num1} {ope2} {num2} = {resultado2:5.2f}\")\n",
    "\n",
    "\n",
    "\n",
    "\n"
   ]
  },
  {
   "cell_type": "code",
   "execution_count": 13,
   "metadata": {},
   "outputs": [
    {
     "name": "stdin",
     "output_type": "stream",
     "text": [
      "Piedra, papel o tijera: 1, 2, 3.... YA piedra\n"
     ]
    },
    {
     "name": "stdout",
     "output_type": "stream",
     "text": [
      "Tú\t:PIEDRA\n",
      "Python\t:TIJERA\n",
      "HAS GANADO!! ENHORABUENA!!\n"
     ]
    }
   ],
   "source": [
    "def piedra_papel_tijera(player1, player2):\n",
    "    \"\"\"Recibimos qué ha jugado cada uno y evaluamos el resultado: 0 si empatan, 1 si gana player1 y 2 si gana player2\"\"\"\n",
    "    if (player1 == \"piedra\" and player2 == \"tijera\") or (player1 == \"papel\" and player2 == \"piedra\") or (player1 == \"tijera\" and player2 == \"papel\"):\n",
    "        return 1\n",
    "    elif player1 == player2:\n",
    "        return 0\n",
    "    else:\n",
    "        return 2\n",
    "\n",
    "\n",
    "lista_opciones = ['piedra', 'papel', 'tijera']\n",
    "player1 = input(\"Piedra, papel o tijera: 1, 2, 3.... YA\")\n",
    "while player1 not in ['piedra', 'papel', 'tijera']:\n",
    "    player1 = input(\"Eso no existe.\\nPiedra, papel o tijera: 1, 2, 3.... YA\")\n",
    "\n",
    "import random\n",
    "player2 = random.choice(lista_opciones)\n",
    "\n",
    "print('Tú\\t:' + player1.upper())\n",
    "print('Python\\t:' + player2.upper())\n",
    "\n",
    "resultado = piedra_papel_tijera(player1, player2)\n",
    "\n",
    "if resultado == 0:\n",
    "    print(\"Empate, no está mal\")\n",
    "elif resultado == 1:\n",
    "    print(\"HAS GANADO!! ENHORABUENA!!\")\n",
    "else:\n",
    "    print(\"Bueno, no siempre se gana...\")\n",
    "\n",
    "        \n",
    "        "
   ]
  },
  {
   "cell_type": "code",
   "execution_count": 33,
   "metadata": {},
   "outputs": [
    {
     "name": "stdout",
     "output_type": "stream",
     "text": [
      "\t________________________\n",
      "1\t|  |  |  |  |  |  |  |  |  \n",
      "\t________________________\n",
      "2\t|  |  |  |  |  |  |  |  |  \n",
      "\t________________________\n",
      "3\t|  |  |  |  |  |  |  |  |  \n",
      "\t________________________\n",
      "4\t|  |  |  |  |  |  |  |  |  \n",
      "\t________________________\n",
      "5\t|  |  |  |  |  |  |  |  |  \n",
      "\t________________________\n",
      "6\t|  |  |  |  |  |  |  |  |  \n",
      "\t________________________\n",
      "7\t|  |  |  |  |  |  |  |  |  \n",
      "\t________________________\n",
      "8\t|  |  |  |  |  |  |  |  |  \n",
      "\t________________________\n",
      "\n",
      "\t 1  2  3  4  5  6  7  8 \n"
     ]
    }
   ],
   "source": [
    "n= 8\n",
    "\n",
    "for i in range(2*n+1):\n",
    "    if i%2 == 0:\n",
    "        # Para meter la misma indentación que en las líneas con \"|\":\n",
    "        linea = \"\\t\"\n",
    "        print(linea + \"___\"*n)\n",
    "    else:\n",
    "        # Vamos a añadir un prefijo con el n1 de línea:\n",
    "        linea = str(int(i/2)+1) + \"\\t\"\n",
    "        print(linea + \"|  \"*(n+1))\n",
    "# Y añadimos una última línea con los nº de columna:\n",
    "print()\n",
    "linea = \"\\t\"\n",
    "for i in range(1, n+1):\n",
    "   linea = linea + \" \" + str(i) + \" \"\n",
    "print(linea)"
   ]
  },
  {
   "cell_type": "code",
   "execution_count": 34,
   "metadata": {},
   "outputs": [
    {
     "name": "stdout",
     "output_type": "stream",
     "text": [
      "________________________\n",
      "|  |XX|  |XX|  |XX|  |XX|\n",
      "________________________\n",
      "|XX|  |XX|  |XX|  |XX|  |\n",
      "________________________\n",
      "|  |XX|  |XX|  |XX|  |XX|\n",
      "________________________\n",
      "|XX|  |XX|  |XX|  |XX|  |\n",
      "________________________\n",
      "|  |XX|  |XX|  |XX|  |XX|\n",
      "________________________\n",
      "|XX|  |XX|  |XX|  |XX|  |\n",
      "________________________\n",
      "|  |XX|  |XX|  |XX|  |XX|\n",
      "________________________\n",
      "|XX|  |XX|  |XX|  |XX|  |\n",
      "________________________\n"
     ]
    }
   ],
   "source": [
    "# Si quisiéramos darle un toque más, para pintar las celdas de forma alterna:\n",
    "n = 8\n",
    "\n",
    "for i in range(n):\n",
    "    linea = ''\n",
    "    print(\"___\"*n)\n",
    "    for j in range(n):\n",
    "        linea = linea + \"|\" + [[\"  \", \"XX\"], [\"XX\", \"  \"]][j%2][i%2]\n",
    "    print(linea + \"|\")\n",
    "print(\"___\"*8)"
   ]
  },
  {
   "cell_type": "code",
   "execution_count": 8,
   "metadata": {},
   "outputs": [],
   "source": [
    "# Este ejercicio permite cierta libertad de interpretación, podríamos utilizar una lista para guardar números, strings, un diccionario...\n",
    "# En este caso, vamos a hacerlo con un diccionario:\n",
    "\n",
    "# Datos:\n",
    "n_cartas_totales = 40\n",
    "palos = [\"oros\", \"copas\", \"bastos\", \"espadas\"]\n",
    "\n",
    "# Variables auxiliares:\n",
    "# Nº de carta máximo:\n",
    "n_carta_max = n_cartas_totales/len(palos)\n",
    "# Diccionario para almacenar las cartas según el palo:\n",
    "baraja = {}\n",
    "for palo in palos:\n",
    "    baraja[palo] = []\n",
    "# Contador del número de carta que llevamos:\n",
    "n_carta = 1\n",
    "\n",
    "while n_carta <= n_carta_max:\n",
    "    for palo in baraja.keys():\n",
    "        baraja[palo].append(n_carta)\n",
    "    n_carta += 1\n",
    "    "
   ]
  },
  {
   "cell_type": "code",
   "execution_count": 9,
   "metadata": {},
   "outputs": [
    {
     "data": {
      "text/plain": [
       "{'oros': [1, 2, 3, 4, 5, 6, 7, 8, 9, 10],\n",
       " 'copas': [1, 2, 3, 4, 5, 6, 7, 8, 9, 10],\n",
       " 'bastos': [1, 2, 3, 4, 5, 6, 7, 8, 9, 10],\n",
       " 'espadas': [1, 2, 3, 4, 5, 6, 7, 8, 9, 10]}"
      ]
     },
     "execution_count": 9,
     "metadata": {},
     "output_type": "execute_result"
    }
   ],
   "source": [
    "baraja"
   ]
  },
  {
   "cell_type": "markdown",
   "metadata": {},
   "source": [
    "## Nuevo ejercicio"
   ]
  },
  {
   "cell_type": "code",
   "execution_count": 1,
   "metadata": {},
   "outputs": [],
   "source": [
    "# Haz un pull de esto"
   ]
  }
 ],
 "metadata": {
  "file_extension": ".py",
  "kernelspec": {
   "display_name": "Python 3",
   "language": "python",
   "name": "python3"
  },
  "language_info": {
   "codemirror_mode": {
    "name": "ipython",
    "version": 3
   },
   "file_extension": ".py",
   "mimetype": "text/x-python",
   "name": "python",
   "nbconvert_exporter": "python",
   "pygments_lexer": "ipython3",
   "version": "3.8.3"
  },
  "mimetype": "text/x-python",
  "name": "python",
  "npconvert_exporter": "python",
  "pygments_lexer": "ipython3",
  "version": 3
 },
 "nbformat": 4,
 "nbformat_minor": 4
}
